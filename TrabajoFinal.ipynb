{
  "nbformat": 4,
  "nbformat_minor": 0,
  "metadata": {
    "colab": {
      "name": "TrabajoFinal.ipynb",
      "provenance": [],
      "toc_visible": true
    },
    "kernelspec": {
      "name": "python3",
      "display_name": "Python 3"
    }
  },
  "cells": [
    {
      "cell_type": "code",
      "metadata": {
        "id": "uliys3jjzkta",
        "colab_type": "code",
        "outputId": "5bcdd92c-c63f-4923-ac8b-94724b076829",
        "colab": {
          "base_uri": "https://localhost:8080/",
          "height": 202
        }
      },
      "source": [
        "!wget https://s3.amazonaws.com/amazon-reviews-pds/tsv/amazon_reviews_us_Sports_v1_00.tsv.gz"
      ],
      "execution_count": 1,
      "outputs": [
        {
          "output_type": "stream",
          "text": [
            "--2020-04-14 01:00:22--  https://s3.amazonaws.com/amazon-reviews-pds/tsv/amazon_reviews_us_Sports_v1_00.tsv.gz\n",
            "Resolving s3.amazonaws.com (s3.amazonaws.com)... 52.216.101.101\n",
            "Connecting to s3.amazonaws.com (s3.amazonaws.com)|52.216.101.101|:443... connected.\n",
            "HTTP request sent, awaiting response... 200 OK\n",
            "Length: 872478735 (832M) [application/x-gzip]\n",
            "Saving to: ‘amazon_reviews_us_Sports_v1_00.tsv.gz’\n",
            "\n",
            "amazon_reviews_us_S 100%[===================>] 832.06M  16.7MB/s    in 53s     \n",
            "\n",
            "2020-04-14 01:01:15 (15.8 MB/s) - ‘amazon_reviews_us_Sports_v1_00.tsv.gz’ saved [872478735/872478735]\n",
            "\n"
          ],
          "name": "stdout"
        }
      ]
    },
    {
      "cell_type": "code",
      "metadata": {
        "id": "20ySm65KzqdX",
        "colab_type": "code",
        "outputId": "a9047af0-cfeb-497b-9c3e-39348da01a94",
        "colab": {
          "base_uri": "https://localhost:8080/",
          "height": 202
        }
      },
      "source": [
        "!wget https://s3.amazonaws.com/amazon-reviews-pds/tsv/amazon_reviews_us_Video_Games_v1_00.tsv.gz"
      ],
      "execution_count": 2,
      "outputs": [
        {
          "output_type": "stream",
          "text": [
            "--2020-04-14 01:01:16--  https://s3.amazonaws.com/amazon-reviews-pds/tsv/amazon_reviews_us_Video_Games_v1_00.tsv.gz\n",
            "Resolving s3.amazonaws.com (s3.amazonaws.com)... 52.217.32.150\n",
            "Connecting to s3.amazonaws.com (s3.amazonaws.com)|52.217.32.150|:443... connected.\n",
            "HTTP request sent, awaiting response... 200 OK\n",
            "Length: 475199894 (453M) [application/x-gzip]\n",
            "Saving to: ‘amazon_reviews_us_Video_Games_v1_00.tsv.gz’\n",
            "\n",
            "amazon_reviews_us_V 100%[===================>] 453.19M  3.54MB/s    in 34s     \n",
            "\n",
            "2020-04-14 01:01:51 (13.1 MB/s) - ‘amazon_reviews_us_Video_Games_v1_00.tsv.gz’ saved [475199894/475199894]\n",
            "\n"
          ],
          "name": "stdout"
        }
      ]
    },
    {
      "cell_type": "code",
      "metadata": {
        "id": "VwftVilo443e",
        "colab_type": "code",
        "outputId": "b7df9a2a-067a-4d60-bf49-2dc6b8af72c8",
        "colab": {
          "base_uri": "https://localhost:8080/",
          "height": 202
        }
      },
      "source": [
        "!wget https://s3.amazonaws.com/amazon-reviews-pds/tsv/amazon_reviews_us_Digital_Video_Games_v1_00.tsv.gz"
      ],
      "execution_count": 3,
      "outputs": [
        {
          "output_type": "stream",
          "text": [
            "--2020-04-14 01:01:53--  https://s3.amazonaws.com/amazon-reviews-pds/tsv/amazon_reviews_us_Digital_Video_Games_v1_00.tsv.gz\n",
            "Resolving s3.amazonaws.com (s3.amazonaws.com)... 52.216.112.29\n",
            "Connecting to s3.amazonaws.com (s3.amazonaws.com)|52.216.112.29|:443... connected.\n",
            "HTTP request sent, awaiting response... 200 OK\n",
            "Length: 27442648 (26M) [application/x-gzip]\n",
            "Saving to: ‘amazon_reviews_us_Digital_Video_Games_v1_00.tsv.gz’\n",
            "\n",
            "amazon_reviews_us_D 100%[===================>]  26.17M  9.51MB/s    in 2.8s    \n",
            "\n",
            "2020-04-14 01:01:56 (9.51 MB/s) - ‘amazon_reviews_us_Digital_Video_Games_v1_00.tsv.gz’ saved [27442648/27442648]\n",
            "\n"
          ],
          "name": "stdout"
        }
      ]
    },
    {
      "cell_type": "code",
      "metadata": {
        "id": "dEqVPRRuzu-w",
        "colab_type": "code",
        "colab": {}
      },
      "source": [
        "!gzip -d amazon_reviews_us_Sports_v1_00.tsv.gz"
      ],
      "execution_count": 0,
      "outputs": []
    },
    {
      "cell_type": "code",
      "metadata": {
        "id": "_I6iwSr6zx2H",
        "colab_type": "code",
        "colab": {}
      },
      "source": [
        "!gzip -d amazon_reviews_us_Video_Games_v1_00.tsv.gz"
      ],
      "execution_count": 0,
      "outputs": []
    },
    {
      "cell_type": "code",
      "metadata": {
        "id": "RVVhF9SL4-h7",
        "colab_type": "code",
        "colab": {}
      },
      "source": [
        "!gzip -d amazon_reviews_us_Digital_Video_Games_v1_00.tsv.gz"
      ],
      "execution_count": 0,
      "outputs": []
    },
    {
      "cell_type": "code",
      "metadata": {
        "id": "WGdDPpm2z2ny",
        "colab_type": "code",
        "outputId": "28b43980-dfe0-460a-c0ad-100db29177bc",
        "colab": {
          "base_uri": "https://localhost:8080/",
          "height": 84
        }
      },
      "source": [
        "!apt-get install openjdk-8-jdk -qq > /dev/null\n",
        "import os\n",
        "os.environ[\"JAVA_HOME\"] = \"/usr/lib/jvm/java-8-openjdk-amd64\"\n",
        "!update-alternatives --set java /usr/lib/jvm/java-8-openjdk-amd64/jre/bin/java\n",
        "!java -version"
      ],
      "execution_count": 7,
      "outputs": [
        {
          "output_type": "stream",
          "text": [
            "update-alternatives: using /usr/lib/jvm/java-8-openjdk-amd64/jre/bin/java to provide /usr/bin/java (java) in manual mode\n",
            "openjdk version \"1.8.0_242\"\n",
            "OpenJDK Runtime Environment (build 1.8.0_242-8u242-b08-0ubuntu3~18.04-b08)\n",
            "OpenJDK 64-Bit Server VM (build 25.242-b08, mixed mode)\n"
          ],
          "name": "stdout"
        }
      ]
    },
    {
      "cell_type": "code",
      "metadata": {
        "id": "ccH0luHI0G9B",
        "colab_type": "code",
        "outputId": "af98142a-541a-46af-8abc-673d6c76b2a1",
        "colab": {
          "base_uri": "https://localhost:8080/",
          "height": 255
        }
      },
      "source": [
        "!pip install pyspark"
      ],
      "execution_count": 8,
      "outputs": [
        {
          "output_type": "stream",
          "text": [
            "Collecting pyspark\n",
            "\u001b[?25l  Downloading https://files.pythonhosted.org/packages/9a/5a/271c416c1c2185b6cb0151b29a91fff6fcaed80173c8584ff6d20e46b465/pyspark-2.4.5.tar.gz (217.8MB)\n",
            "\u001b[K     |████████████████████████████████| 217.8MB 66kB/s \n",
            "\u001b[?25hCollecting py4j==0.10.7\n",
            "\u001b[?25l  Downloading https://files.pythonhosted.org/packages/e3/53/c737818eb9a7dc32a7cd4f1396e787bd94200c3997c72c1dbe028587bd76/py4j-0.10.7-py2.py3-none-any.whl (197kB)\n",
            "\u001b[K     |████████████████████████████████| 204kB 44.8MB/s \n",
            "\u001b[?25hBuilding wheels for collected packages: pyspark\n",
            "  Building wheel for pyspark (setup.py) ... \u001b[?25l\u001b[?25hdone\n",
            "  Created wheel for pyspark: filename=pyspark-2.4.5-py2.py3-none-any.whl size=218257927 sha256=7f35d00cca25a4e4b0f7fbddc3ea44bc8a0a8da4603b79db058de3ef52a05662\n",
            "  Stored in directory: /root/.cache/pip/wheels/bf/db/04/61d66a5939364e756eb1c1be4ec5bdce6e04047fc7929a3c3c\n",
            "Successfully built pyspark\n",
            "Installing collected packages: py4j, pyspark\n",
            "Successfully installed py4j-0.10.7 pyspark-2.4.5\n"
          ],
          "name": "stdout"
        }
      ]
    },
    {
      "cell_type": "code",
      "metadata": {
        "id": "a5U62HUD0J3j",
        "colab_type": "code",
        "outputId": "58b88917-5cb7-4293-cb24-cb0106cf76ee",
        "colab": {
          "base_uri": "https://localhost:8080/",
          "height": 70
        }
      },
      "source": [
        "import pandas as pd\n",
        "import numpy as np\n",
        "import seaborn as sn\n",
        "from pyspark.sql import SparkSession, Row\n",
        "import pyspark.sql.functions as F\n",
        "from pyspark.sql.types import IntegerType, StructType, StructField, StringType\n",
        "from pyspark.ml import Pipeline\n",
        "from pyspark.ml.evaluation import RegressionEvaluator\n",
        "from pyspark.ml.recommendation import ALS\n",
        "from pyspark.ml.tuning import CrossValidator, ParamGridBuilder\n",
        "from pyspark.ml.feature import VectorAssembler\n",
        "from pyspark.ml.feature import StringIndexer\n"
      ],
      "execution_count": 9,
      "outputs": [
        {
          "output_type": "stream",
          "text": [
            "/usr/local/lib/python3.6/dist-packages/statsmodels/tools/_testing.py:19: FutureWarning: pandas.util.testing is deprecated. Use the functions in the public API at pandas.testing instead.\n",
            "  import pandas.util.testing as tm\n"
          ],
          "name": "stderr"
        }
      ]
    },
    {
      "cell_type": "markdown",
      "metadata": {
        "id": "j4-uUtFPc8kh",
        "colab_type": "text"
      },
      "source": [
        "#**Leer Datos** "
      ]
    },
    {
      "cell_type": "code",
      "metadata": {
        "id": "bUWdM_It0NF3",
        "colab_type": "code",
        "colab": {}
      },
      "source": [
        "spark = SparkSession.builder\\\n",
        "       .appName(\"Simple recommendation engine using Spark MLlib\")\\\n",
        "       .config(\"spark.some.config.option\", \"config-value\")\\\n",
        "       .getOrCreate()"
      ],
      "execution_count": 0,
      "outputs": []
    },
    {
      "cell_type": "code",
      "metadata": {
        "id": "ZMr2m9a50SpY",
        "colab_type": "code",
        "colab": {}
      },
      "source": [
        "#sports_df = spark.read.csv(\"amazon_reviews_us_Sports_v1_00.tsv\", sep='\\t',header=True)\n",
        "#games_df  = spark.read.csv(\"amazon_reviews_us_Video_Games_v1_00.tsv\", sep='\\t',header=True)\n",
        "\n",
        "#ratings_df = sports_df.union(games_df)\n",
        "\n",
        "ratings_df = spark.read.csv(\"amazon_reviews_us_Digital_Video_Games_v1_00.tsv\", sep='\\t',header=True)"
      ],
      "execution_count": 0,
      "outputs": []
    },
    {
      "cell_type": "code",
      "metadata": {
        "id": "EbLWYdH3PCha",
        "colab_type": "code",
        "outputId": "885bcb98-4ee8-4168-b1e4-da11b2caa308",
        "colab": {
          "base_uri": "https://localhost:8080/",
          "height": 34
        }
      },
      "source": [
        "print((ratings_df.count(), len(ratings_df.columns)))"
      ],
      "execution_count": 12,
      "outputs": [
        {
          "output_type": "stream",
          "text": [
            "(145431, 15)\n"
          ],
          "name": "stdout"
        }
      ]
    },
    {
      "cell_type": "code",
      "metadata": {
        "id": "okLJDaxE0h6F",
        "colab_type": "code",
        "outputId": "2a5ff7c8-e804-4943-9b1e-268ce87a621b",
        "colab": {
          "base_uri": "https://localhost:8080/",
          "height": 302
        }
      },
      "source": [
        "ratings_df.printSchema()"
      ],
      "execution_count": 13,
      "outputs": [
        {
          "output_type": "stream",
          "text": [
            "root\n",
            " |-- marketplace: string (nullable = true)\n",
            " |-- customer_id: string (nullable = true)\n",
            " |-- review_id: string (nullable = true)\n",
            " |-- product_id: string (nullable = true)\n",
            " |-- product_parent: string (nullable = true)\n",
            " |-- product_title: string (nullable = true)\n",
            " |-- product_category: string (nullable = true)\n",
            " |-- star_rating: string (nullable = true)\n",
            " |-- helpful_votes: string (nullable = true)\n",
            " |-- total_votes: string (nullable = true)\n",
            " |-- vine: string (nullable = true)\n",
            " |-- verified_purchase: string (nullable = true)\n",
            " |-- review_headline: string (nullable = true)\n",
            " |-- review_body: string (nullable = true)\n",
            " |-- review_date: string (nullable = true)\n",
            "\n"
          ],
          "name": "stdout"
        }
      ]
    },
    {
      "cell_type": "code",
      "metadata": {
        "id": "rBQCGrdV0k_A",
        "colab_type": "code",
        "outputId": "b1f536f2-2747-4df9-d623-df99d5e909e4",
        "colab": {
          "base_uri": "https://localhost:8080/",
          "height": 222
        }
      },
      "source": [
        "ratings_df.select(\"customer_id\",'review_id','product_id','product_title','product_category','star_rating','review_headline','review_body','review_date').show(5)"
      ],
      "execution_count": 14,
      "outputs": [
        {
          "output_type": "stream",
          "text": [
            "+-----------+--------------+----------+--------------------+-------------------+-----------+--------------------+--------------------+-----------+\n",
            "|customer_id|     review_id|product_id|       product_title|   product_category|star_rating|     review_headline|         review_body|review_date|\n",
            "+-----------+--------------+----------+--------------------+-------------------+-----------+--------------------+--------------------+-----------+\n",
            "|   21269168| RSH1OZ87OYK92|B013PURRZW|Madden NFL 16 - X...|Digital_Video_Games|          2|A slight improvem...|I keep buying mad...| 2015-08-31|\n",
            "|     133437|R1WFOQ3N9BO65I|B00F4CEHNK| Xbox Live Gift Card|Digital_Video_Games|          5|          Five Stars|             Awesome| 2015-08-31|\n",
            "|   45765011| R3YOOS71KM5M9|B00DNHLFQA|Command & Conquer...|Digital_Video_Games|          5|Hail to the great...|If you are preppi...| 2015-08-31|\n",
            "|     113118|R3R14UATT3OUFU|B004RMK5QG|Playstation Plus ...|Digital_Video_Games|          5|          Five Stars|             Perfect| 2015-08-31|\n",
            "|   22151364| RV2W9SGDNQA2C|B00G9BNLQE|Saints Row IV - E...|Digital_Video_Games|          5|          Five Stars|            Awesome!| 2015-08-31|\n",
            "+-----------+--------------+----------+--------------------+-------------------+-----------+--------------------+--------------------+-----------+\n",
            "only showing top 5 rows\n",
            "\n"
          ],
          "name": "stdout"
        }
      ]
    },
    {
      "cell_type": "markdown",
      "metadata": {
        "id": "y3cIWJ0Ph8ra",
        "colab_type": "text"
      },
      "source": [
        "#**Limpiar Datos** "
      ]
    },
    {
      "cell_type": "code",
      "metadata": {
        "id": "f3_sm7H9Gb9V",
        "colab_type": "code",
        "outputId": "ed3a57d0-d17c-4420-86a0-5aca761c5d9e",
        "colab": {
          "base_uri": "https://localhost:8080/",
          "height": 474
        }
      },
      "source": [
        "indexer_product_id = StringIndexer(inputCol=\"product_id\", outputCol=\"product_new_id\")\n",
        "ratings_df = indexer_product_id.fit(ratings_df).transform(ratings_df)\n",
        " \n",
        "ratings_df.show()"
      ],
      "execution_count": 15,
      "outputs": [
        {
          "output_type": "stream",
          "text": [
            "+-----------+-----------+--------------+----------+--------------+--------------------+-------------------+-----------+-------------+-----------+----+-----------------+--------------------+--------------------+-----------+--------------+\n",
            "|marketplace|customer_id|     review_id|product_id|product_parent|       product_title|   product_category|star_rating|helpful_votes|total_votes|vine|verified_purchase|     review_headline|         review_body|review_date|product_new_id|\n",
            "+-----------+-----------+--------------+----------+--------------+--------------------+-------------------+-----------+-------------+-----------+----+-----------------+--------------------+--------------------+-----------+--------------+\n",
            "|         US|   21269168| RSH1OZ87OYK92|B013PURRZW|     603406193|Madden NFL 16 - X...|Digital_Video_Games|          2|            2|          3|   N|                N|A slight improvem...|I keep buying mad...| 2015-08-31|        4686.0|\n",
            "|         US|     133437|R1WFOQ3N9BO65I|B00F4CEHNK|     341969535| Xbox Live Gift Card|Digital_Video_Games|          5|            0|          0|   N|                Y|          Five Stars|             Awesome| 2015-08-31|          11.0|\n",
            "|         US|   45765011| R3YOOS71KM5M9|B00DNHLFQA|     951665344|Command & Conquer...|Digital_Video_Games|          5|            0|          0|   N|                Y|Hail to the great...|If you are preppi...| 2015-08-31|         190.0|\n",
            "|         US|     113118|R3R14UATT3OUFU|B004RMK5QG|     395682204|Playstation Plus ...|Digital_Video_Games|          5|            0|          0|   N|                Y|          Five Stars|             Perfect| 2015-08-31|           4.0|\n",
            "|         US|   22151364| RV2W9SGDNQA2C|B00G9BNLQE|     640460561|Saints Row IV - E...|Digital_Video_Games|          5|            0|          0|   N|                Y|          Five Stars|            Awesome!| 2015-08-31|        6557.0|\n",
            "|         US|   22151364|R3CFKLIZ0I2KOB|B00IMIL498|     621922192|Double Dragon: Ne...|Digital_Video_Games|          5|            0|          0|   N|                Y|          Five Stars|            Awesome!| 2015-08-31|        2843.0|\n",
            "|         US|   38426028|R1LRYU1V0T3O38|B00S00IJH8|     215163395|              Sims 4|Digital_Video_Games|          4|            0|          0|   N|                Y|i like the new sk...|i like the new sk...| 2015-08-31|         231.0|\n",
            "|         US|    6057518| R44QKV6FE5CJ2|B004RMK4BC|     384246568|Playstation Netwo...|Digital_Video_Games|          5|            0|          0|   N|                Y|          Five Stars|               Super| 2015-08-31|           1.0|\n",
            "|         US|   20715661|R2TX1KLPXXXNYS|B00K59HKIQ|     384246568|Playstation Netwo...|Digital_Video_Games|          5|            0|          0|   N|                Y|         Easy & Fast|Excellent, fast a...| 2015-08-31|          17.0|\n",
            "|         US|   26540306|R1JEEW4C6R89BA|B00K59HKIQ|     384246568|Playstation Netwo...|Digital_Video_Games|          5|            0|          0|   N|                Y|          Five Stars|                  Ok| 2015-08-31|          17.0|\n",
            "|         US|    8926809|R3B3UHK1FO0ERS|B004774IPU|     151985175|Sid Meier's Civil...|Digital_Video_Games|          1|            0|          0|   N|                N|I am still playin...|As has been writt...| 2015-08-31|          21.0|\n",
            "|         US|   31525534|R2GVSDHW513SS1|B002LIT9EC|     695277014|Build-a-lot 4: Po...|Digital_Video_Games|          5|            0|          0|   N|                Y|Probably the best...|Probably the best...| 2015-08-31|         894.0|\n",
            "|         US|   22151364|R1R1NT516PYT73|B008ALUBYQ|     112160022|       Borderlands 2|Digital_Video_Games|          5|            0|          0|   N|                Y|          Five Stars|            Awesome!| 2015-08-31|          40.0|\n",
            "|         US|   22977584|R3K624QDQKENN9|B010KYDNDG|     835376637|Minecraft for PC/...|Digital_Video_Games|          4|            0|          0|   N|                Y|                 FUN|COOL BUT IT LAGES...| 2015-08-31|         714.0|\n",
            "|         US|   45765011| R1FOXH7PCJX3V|B008ALUBYQ|     112160022|       Borderlands 2|Digital_Video_Games|          1|            0|          2|   N|                Y|            One Star|Lames purchase I ...| 2015-08-31|          40.0|\n",
            "|         US|    2239522| RA1246M1OMDWC|B004RMK4P8|     384246568|Playstation Netwo...|Digital_Video_Games|          5|            0|          0|   N|                Y|          Five Stars|               Great| 2015-08-31|           3.0|\n",
            "|         US|   48805811|R2I9SXWB0PAEKQ|B004RMK5QG|     395682204|Playstation Plus ...|Digital_Video_Games|          5|            0|          0|   N|                Y|          Five Stars|          Awesome!!!| 2015-08-31|           4.0|\n",
            "|         US|   18646481|R3UGL544NA0G9C|B00BI16Z22|     552981447|Brink of Consciou...|Digital_Video_Games|          4|            0|          0|   N|                Y|       worth playing|pretty good but n...| 2015-08-31|        2730.0|\n",
            "|         US|   10310935|R1CBA4Y92GVAVM|B004VSTQ2A|     232803743|Xbox Live Subscri...|Digital_Video_Games|          5|            0|          0|   N|                Y|          Five Stars|What can I say......| 2015-08-31|           6.0|\n",
            "|         US|    5587610|R24NEKNR01VEHU|B00GAC1D2G|     384246568|Playstation Netwo...|Digital_Video_Games|          5|            0|          0|   N|                Y|        Just amazing|Very fast to rece...| 2015-08-31|           2.0|\n",
            "+-----------+-----------+--------------+----------+--------------+--------------------+-------------------+-----------+-------------+-----------+----+-----------------+--------------------+--------------------+-----------+--------------+\n",
            "only showing top 20 rows\n",
            "\n"
          ],
          "name": "stdout"
        }
      ]
    },
    {
      "cell_type": "code",
      "metadata": {
        "id": "2T8dKM4M1Fiy",
        "colab_type": "code",
        "outputId": "b1b4ebfb-e31a-4863-94ec-ed3d0feb9ede",
        "colab": {
          "base_uri": "https://localhost:8080/",
          "height": 474
        }
      },
      "source": [
        "ratings_df.registerTempTable(\"temp1\")\n",
        "query = \"\"\"\n",
        "SELECT \n",
        "  marketplace, \n",
        "  customer_id, \n",
        "  review_id, \n",
        "  product_id, \n",
        "  product_parent, \n",
        "  product_title, \n",
        "  product_category, \n",
        "  cast(star_rating as int) as star_rating, \n",
        "  helpful_votes, \n",
        "  total_votes, \n",
        "  vine, \n",
        "  verified_purchase, \n",
        "  review_headline, \n",
        "  review_body, \n",
        "  review_date,\n",
        "  product_new_id\n",
        "FROM temp1 as t1\n",
        "where star_rating in (1,2,3,4,5,'1','2','3','4','5')\n",
        "\"\"\"\n",
        "ratings_df = spark.sql(query)\n",
        "ratings_df.show()"
      ],
      "execution_count": 16,
      "outputs": [
        {
          "output_type": "stream",
          "text": [
            "+-----------+-----------+--------------+----------+--------------+--------------------+-------------------+-----------+-------------+-----------+----+-----------------+--------------------+--------------------+-----------+--------------+\n",
            "|marketplace|customer_id|     review_id|product_id|product_parent|       product_title|   product_category|star_rating|helpful_votes|total_votes|vine|verified_purchase|     review_headline|         review_body|review_date|product_new_id|\n",
            "+-----------+-----------+--------------+----------+--------------+--------------------+-------------------+-----------+-------------+-----------+----+-----------------+--------------------+--------------------+-----------+--------------+\n",
            "|         US|   21269168| RSH1OZ87OYK92|B013PURRZW|     603406193|Madden NFL 16 - X...|Digital_Video_Games|          2|            2|          3|   N|                N|A slight improvem...|I keep buying mad...| 2015-08-31|        4686.0|\n",
            "|         US|     133437|R1WFOQ3N9BO65I|B00F4CEHNK|     341969535| Xbox Live Gift Card|Digital_Video_Games|          5|            0|          0|   N|                Y|          Five Stars|             Awesome| 2015-08-31|          11.0|\n",
            "|         US|   45765011| R3YOOS71KM5M9|B00DNHLFQA|     951665344|Command & Conquer...|Digital_Video_Games|          5|            0|          0|   N|                Y|Hail to the great...|If you are preppi...| 2015-08-31|         190.0|\n",
            "|         US|     113118|R3R14UATT3OUFU|B004RMK5QG|     395682204|Playstation Plus ...|Digital_Video_Games|          5|            0|          0|   N|                Y|          Five Stars|             Perfect| 2015-08-31|           4.0|\n",
            "|         US|   22151364| RV2W9SGDNQA2C|B00G9BNLQE|     640460561|Saints Row IV - E...|Digital_Video_Games|          5|            0|          0|   N|                Y|          Five Stars|            Awesome!| 2015-08-31|        6557.0|\n",
            "|         US|   22151364|R3CFKLIZ0I2KOB|B00IMIL498|     621922192|Double Dragon: Ne...|Digital_Video_Games|          5|            0|          0|   N|                Y|          Five Stars|            Awesome!| 2015-08-31|        2843.0|\n",
            "|         US|   38426028|R1LRYU1V0T3O38|B00S00IJH8|     215163395|              Sims 4|Digital_Video_Games|          4|            0|          0|   N|                Y|i like the new sk...|i like the new sk...| 2015-08-31|         231.0|\n",
            "|         US|    6057518| R44QKV6FE5CJ2|B004RMK4BC|     384246568|Playstation Netwo...|Digital_Video_Games|          5|            0|          0|   N|                Y|          Five Stars|               Super| 2015-08-31|           1.0|\n",
            "|         US|   20715661|R2TX1KLPXXXNYS|B00K59HKIQ|     384246568|Playstation Netwo...|Digital_Video_Games|          5|            0|          0|   N|                Y|         Easy & Fast|Excellent, fast a...| 2015-08-31|          17.0|\n",
            "|         US|   26540306|R1JEEW4C6R89BA|B00K59HKIQ|     384246568|Playstation Netwo...|Digital_Video_Games|          5|            0|          0|   N|                Y|          Five Stars|                  Ok| 2015-08-31|          17.0|\n",
            "|         US|    8926809|R3B3UHK1FO0ERS|B004774IPU|     151985175|Sid Meier's Civil...|Digital_Video_Games|          1|            0|          0|   N|                N|I am still playin...|As has been writt...| 2015-08-31|          21.0|\n",
            "|         US|   31525534|R2GVSDHW513SS1|B002LIT9EC|     695277014|Build-a-lot 4: Po...|Digital_Video_Games|          5|            0|          0|   N|                Y|Probably the best...|Probably the best...| 2015-08-31|         894.0|\n",
            "|         US|   22151364|R1R1NT516PYT73|B008ALUBYQ|     112160022|       Borderlands 2|Digital_Video_Games|          5|            0|          0|   N|                Y|          Five Stars|            Awesome!| 2015-08-31|          40.0|\n",
            "|         US|   22977584|R3K624QDQKENN9|B010KYDNDG|     835376637|Minecraft for PC/...|Digital_Video_Games|          4|            0|          0|   N|                Y|                 FUN|COOL BUT IT LAGES...| 2015-08-31|         714.0|\n",
            "|         US|   45765011| R1FOXH7PCJX3V|B008ALUBYQ|     112160022|       Borderlands 2|Digital_Video_Games|          1|            0|          2|   N|                Y|            One Star|Lames purchase I ...| 2015-08-31|          40.0|\n",
            "|         US|    2239522| RA1246M1OMDWC|B004RMK4P8|     384246568|Playstation Netwo...|Digital_Video_Games|          5|            0|          0|   N|                Y|          Five Stars|               Great| 2015-08-31|           3.0|\n",
            "|         US|   48805811|R2I9SXWB0PAEKQ|B004RMK5QG|     395682204|Playstation Plus ...|Digital_Video_Games|          5|            0|          0|   N|                Y|          Five Stars|          Awesome!!!| 2015-08-31|           4.0|\n",
            "|         US|   18646481|R3UGL544NA0G9C|B00BI16Z22|     552981447|Brink of Consciou...|Digital_Video_Games|          4|            0|          0|   N|                Y|       worth playing|pretty good but n...| 2015-08-31|        2730.0|\n",
            "|         US|   10310935|R1CBA4Y92GVAVM|B004VSTQ2A|     232803743|Xbox Live Subscri...|Digital_Video_Games|          5|            0|          0|   N|                Y|          Five Stars|What can I say......| 2015-08-31|           6.0|\n",
            "|         US|    5587610|R24NEKNR01VEHU|B00GAC1D2G|     384246568|Playstation Netwo...|Digital_Video_Games|          5|            0|          0|   N|                Y|        Just amazing|Very fast to rece...| 2015-08-31|           2.0|\n",
            "+-----------+-----------+--------------+----------+--------------+--------------------+-------------------+-----------+-------------+-----------+----+-----------------+--------------------+--------------------+-----------+--------------+\n",
            "only showing top 20 rows\n",
            "\n"
          ],
          "name": "stdout"
        }
      ]
    },
    {
      "cell_type": "code",
      "metadata": {
        "id": "kA3E3Utq1QU7",
        "colab_type": "code",
        "outputId": "4dd19e45-59b0-4631-9f8a-6d39abb7c6b3",
        "colab": {
          "base_uri": "https://localhost:8080/",
          "height": 454
        }
      },
      "source": [
        "ratings_df.registerTempTable(\"temp2\")\n",
        "query = \"\"\"\n",
        "SELECT \n",
        "  cast(customer_id as int) as customer_id, \n",
        "  cast(product_new_id as int) as product_new_id,\n",
        "  product_id,\n",
        "  star_rating,\n",
        "  product_title\n",
        "FROM temp2 as t1\n",
        "where cast(customer_id as int) is not null and\n",
        "      cast(product_new_id as int) is not null and\n",
        "      star_rating              is not null\n",
        "\"\"\"\n",
        "ratings_df = spark.sql(query)\n",
        "ratings_df.show()"
      ],
      "execution_count": 17,
      "outputs": [
        {
          "output_type": "stream",
          "text": [
            "+-----------+--------------+----------+-----------+--------------------+\n",
            "|customer_id|product_new_id|product_id|star_rating|       product_title|\n",
            "+-----------+--------------+----------+-----------+--------------------+\n",
            "|   21269168|          4686|B013PURRZW|          2|Madden NFL 16 - X...|\n",
            "|     133437|            11|B00F4CEHNK|          5| Xbox Live Gift Card|\n",
            "|   45765011|           190|B00DNHLFQA|          5|Command & Conquer...|\n",
            "|     113118|             4|B004RMK5QG|          5|Playstation Plus ...|\n",
            "|   22151364|          6557|B00G9BNLQE|          5|Saints Row IV - E...|\n",
            "|   22151364|          2843|B00IMIL498|          5|Double Dragon: Ne...|\n",
            "|   38426028|           231|B00S00IJH8|          4|              Sims 4|\n",
            "|    6057518|             1|B004RMK4BC|          5|Playstation Netwo...|\n",
            "|   20715661|            17|B00K59HKIQ|          5|Playstation Netwo...|\n",
            "|   26540306|            17|B00K59HKIQ|          5|Playstation Netwo...|\n",
            "|    8926809|            21|B004774IPU|          1|Sid Meier's Civil...|\n",
            "|   31525534|           894|B002LIT9EC|          5|Build-a-lot 4: Po...|\n",
            "|   22151364|            40|B008ALUBYQ|          5|       Borderlands 2|\n",
            "|   22977584|           714|B010KYDNDG|          4|Minecraft for PC/...|\n",
            "|   45765011|            40|B008ALUBYQ|          1|       Borderlands 2|\n",
            "|    2239522|             3|B004RMK4P8|          5|Playstation Netwo...|\n",
            "|   48805811|             4|B004RMK5QG|          5|Playstation Plus ...|\n",
            "|   18646481|          2730|B00BI16Z22|          4|Brink of Consciou...|\n",
            "|   10310935|             6|B004VSTQ2A|          5|Xbox Live Subscri...|\n",
            "|    5587610|             2|B00GAC1D2G|          5|Playstation Netwo...|\n",
            "+-----------+--------------+----------+-----------+--------------------+\n",
            "only showing top 20 rows\n",
            "\n"
          ],
          "name": "stdout"
        }
      ]
    },
    {
      "cell_type": "code",
      "metadata": {
        "id": "dMX8ND_IsqoZ",
        "colab_type": "code",
        "outputId": "cbc26025-f236-48b5-f938-087b96ec5a6e",
        "colab": {
          "base_uri": "https://localhost:8080/",
          "height": 34
        }
      },
      "source": [
        "print((ratings_df.count(), len(ratings_df.columns)))"
      ],
      "execution_count": 18,
      "outputs": [
        {
          "output_type": "stream",
          "text": [
            "(145431, 5)\n"
          ],
          "name": "stdout"
        }
      ]
    },
    {
      "cell_type": "code",
      "metadata": {
        "id": "r9uX9JTb1RlB",
        "colab_type": "code",
        "outputId": "02f05d27-1a9b-4823-9a42-909c713a4342",
        "colab": {
          "base_uri": "https://localhost:8080/",
          "height": 454
        }
      },
      "source": [
        "(training, test) = ratings_df.randomSplit([0.8, 0.2])\n",
        "training.cache()\n",
        "test.cache()\n",
        "training.show()"
      ],
      "execution_count": 19,
      "outputs": [
        {
          "output_type": "stream",
          "text": [
            "+-----------+--------------+----------+-----------+--------------------+\n",
            "|customer_id|product_new_id|product_id|star_rating|       product_title|\n",
            "+-----------+--------------+----------+-----------+--------------------+\n",
            "|      10775|             2|B00GAC1D2G|          5|Playstation Netwo...|\n",
            "|      11032|           817|B00SRZH210|          1|Life is Strange -...|\n",
            "|      12739|            11|B00F4CEHNK|          5| Xbox Live Gift Card|\n",
            "|      12752|           266|B00LLIQW20|          3|             Destiny|\n",
            "|      12824|           228|B00LLIQVDK|          3|             Destiny|\n",
            "|      12912|           836|B002TG40BI|          3|Ghost Town Myster...|\n",
            "|      12912|          1951|B00513EPMA|          5|Hidden Object Mov...|\n",
            "|      13446|             2|B00GAC1D2G|          4|Playstation Netwo...|\n",
            "|      13455|            42|B007W3ZZS0|          1|            Crysis 3|\n",
            "|      13967|             2|B00GAC1D2G|          5|Playstation Netwo...|\n",
            "|      14736|          1542|B001QFY7XO|          4|Westward III: Gol...|\n",
            "|      14779|             2|B00GAC1D2G|          5|Playstation Netwo...|\n",
            "|      15311|           843|B00ATF5YY8|          3|Singularity [Onli...|\n",
            "|      15815|          1466|B009ADMTZC|          5|The Amazing Spide...|\n",
            "|      16021|           284|B0062Q5K5G|          3|Call of Duty: Bla...|\n",
            "|      16165|             6|B004VSTQ2A|          5|Xbox Live Subscri...|\n",
            "|      16728|            26|B00457VJ3G|          4|SimCity 4 Deluxe ...|\n",
            "|      17085|            52|B00D8FUHFC|          5|Borderlands Bundl...|\n",
            "|      17430|             2|B00GAC1D2G|          5|Playstation Netwo...|\n",
            "|      17770|            11|B00F4CEHNK|          5| Xbox Live Gift Card|\n",
            "+-----------+--------------+----------+-----------+--------------------+\n",
            "only showing top 20 rows\n",
            "\n"
          ],
          "name": "stdout"
        }
      ]
    },
    {
      "cell_type": "code",
      "metadata": {
        "id": "I3nzIpjs1Rn9",
        "colab_type": "code",
        "colab": {}
      },
      "source": [
        "als = ALS(maxIter=20, rank=2, regParam=0.4, userCol=\"customer_id\", itemCol=\"product_new_id\", ratingCol=\"star_rating\",\n",
        "          coldStartStrategy=\"drop\", nonnegative=True)\n",
        "model = als.fit(training)"
      ],
      "execution_count": 0,
      "outputs": []
    },
    {
      "cell_type": "code",
      "metadata": {
        "id": "taiFBjol1RtR",
        "colab_type": "code",
        "outputId": "2c64bfe6-98d4-4f40-e803-8648a130ebe3",
        "colab": {
          "base_uri": "https://localhost:8080/",
          "height": 34
        }
      },
      "source": [
        "predictions = model.transform(test)\n",
        "evaluator = RegressionEvaluator(metricName=\"rmse\", labelCol=\"star_rating\",\n",
        "                                predictionCol=\"prediction\")\n",
        "rmse = evaluator.evaluate(predictions)\n",
        "print(\"Root-mean-square error = \" + str(rmse))"
      ],
      "execution_count": 21,
      "outputs": [
        {
          "output_type": "stream",
          "text": [
            "Root-mean-square error = 1.5374516299463656\n"
          ],
          "name": "stdout"
        }
      ]
    },
    {
      "cell_type": "code",
      "metadata": {
        "id": "PVOO4u-f1Ry1",
        "colab_type": "code",
        "outputId": "07b2df49-f136-4d59-9e22-236debb436ab",
        "colab": {
          "base_uri": "https://localhost:8080/",
          "height": 454
        }
      },
      "source": [
        "predictions.show()"
      ],
      "execution_count": 22,
      "outputs": [
        {
          "output_type": "stream",
          "text": [
            "+-----------+--------------+----------+-----------+--------------------+----------+\n",
            "|customer_id|product_new_id|product_id|star_rating|       product_title|prediction|\n",
            "+-----------+--------------+----------+-----------+--------------------+----------+\n",
            "|   15230828|           148|B0053YQ8E0|          4|Alice: Madness Re...| 3.6255035|\n",
            "|   36639795|           148|B0053YQ8E0|          3|Alice: Madness Re...| 2.3033514|\n",
            "|   35480335|           148|B0053YQ8E0|          4|Alice: Madness Re...|  4.342168|\n",
            "|   23651141|           148|B0053YQ8E0|          1|Alice: Madness Re...| 2.2703605|\n",
            "|   51587768|           148|B0053YQ8E0|          4|Alice: Madness Re...| 0.6645012|\n",
            "|   11554671|           148|B0053YQ8E0|          3|Alice: Madness Re...|  2.216321|\n",
            "|   43861020|           148|B0053YQ8E0|          5|Alice: Madness Re...| 4.1864424|\n",
            "|   13181439|           148|B0053YQ8E0|          3|Alice: Madness Re...| 2.1100438|\n",
            "|   41636996|           148|B0053YQ8E0|          4|Alice: Madness Re...|  2.363633|\n",
            "|    7708738|           148|B0053YQ8E0|          2|Alice: Madness Re...|   5.29418|\n",
            "|   10972526|           148|B0053YQ8E0|          5|Alice: Madness Re...| 1.0774748|\n",
            "|   10231032|           148|B0053YQ8E0|          5|Alice: Madness Re...| 3.3832211|\n",
            "|   33726707|           148|B0053YQ8E0|          1|Alice: Madness Re...|  2.785934|\n",
            "|   18832656|           463|B0047T7UDU|          4|          Darksiders| 2.7636037|\n",
            "|   26749470|           463|B0047T7UDU|          5|          Darksiders| 4.3914704|\n",
            "|    9992562|           463|B0047T7UDU|          5|          Darksiders|  4.021132|\n",
            "|    9640328|           471|B006GTBUT4|          5|Sid Meier's Civil...| 3.2341175|\n",
            "|   12177010|           471|B006GTBUT4|          4|Sid Meier's Civil...|  3.433374|\n",
            "|   40782562|           496|B005WLRO4M|          4|Football Manager ...|  4.164591|\n",
            "|   39364839|           496|B005WLRO4M|          5|Football Manager ...|  4.485081|\n",
            "+-----------+--------------+----------+-----------+--------------------+----------+\n",
            "only showing top 20 rows\n",
            "\n"
          ],
          "name": "stdout"
        }
      ]
    },
    {
      "cell_type": "code",
      "metadata": {
        "id": "TAFwv0-L1R7s",
        "colab_type": "code",
        "colab": {}
      },
      "source": [
        "def train_ALS(train, test, reg_param, ranks):\n",
        "  # initial\n",
        "  min_error = float('inf')\n",
        "  best_rank = -1\n",
        "  best_regularization = 0\n",
        "  best_model = None\n",
        "  for rank in ranks:\n",
        "    for reg in reg_param:\n",
        "      als = ALS(maxIter=20, rank=rank, regParam=reg, userCol=\"customer_id\", itemCol=\"product_new_id\", ratingCol=\"star_rating\", coldStartStrategy=\"drop\", nonnegative=True)\n",
        "      model = als.fit(train)\n",
        "      predictions = model.transform(test)\n",
        "      evaluator = RegressionEvaluator(metricName=\"rmse\", labelCol=\"star_rating\", predictionCol=\"prediction\")\n",
        "      error = evaluator.evaluate(predictions)\n",
        "      print('{} latent factors and regularization = {}: validation RMSE is {}'.format(rank, reg, error))\n",
        "      if error < min_error:\n",
        "        min_error = error\n",
        "        best_rank = rank\n",
        "        best_regularization = reg\n",
        "        best_model = model\n",
        "  print('\\nThe best model has {} latent factors and regularization = {}'.format(best_rank, best_regularization))\n",
        "  return best_model"
      ],
      "execution_count": 0,
      "outputs": []
    },
    {
      "cell_type": "code",
      "metadata": {
        "id": "0_YA3WwL1SBJ",
        "colab_type": "code",
        "colab": {}
      },
      "source": [
        "# hyper-param config\n",
        "ranks = [2,4,6,8,10]\n",
        "reg_params = [0.1,0.2,0.3,0.4,0.5]"
      ],
      "execution_count": 0,
      "outputs": []
    },
    {
      "cell_type": "code",
      "metadata": {
        "id": "Wi1M7gpf1SGd",
        "colab_type": "code",
        "outputId": "da86d1a0-6eac-4977-dd81-5bdfed97655f",
        "colab": {
          "base_uri": "https://localhost:8080/",
          "height": 470
        }
      },
      "source": [
        "final_model = train_ALS(training, test, reg_params, ranks)"
      ],
      "execution_count": 25,
      "outputs": [
        {
          "output_type": "stream",
          "text": [
            "2 latent factors and regularization = 0.1: validation RMSE is 1.6649370733160598\n",
            "2 latent factors and regularization = 0.2: validation RMSE is 1.578513004873077\n",
            "2 latent factors and regularization = 0.3: validation RMSE is 1.5465542941043737\n",
            "2 latent factors and regularization = 0.4: validation RMSE is 1.5374516299463656\n",
            "2 latent factors and regularization = 0.5: validation RMSE is 1.543507071236841\n",
            "4 latent factors and regularization = 0.1: validation RMSE is 1.701926607303418\n",
            "4 latent factors and regularization = 0.2: validation RMSE is 1.6156205053813648\n",
            "4 latent factors and regularization = 0.3: validation RMSE is 1.5857274469795513\n",
            "4 latent factors and regularization = 0.4: validation RMSE is 1.573629673989327\n",
            "4 latent factors and regularization = 0.5: validation RMSE is 1.57218040042208\n",
            "6 latent factors and regularization = 0.1: validation RMSE is 1.6915240025587792\n",
            "6 latent factors and regularization = 0.2: validation RMSE is 1.6099402967686347\n",
            "6 latent factors and regularization = 0.3: validation RMSE is 1.5865655595463222\n",
            "6 latent factors and regularization = 0.4: validation RMSE is 1.5813814660672294\n",
            "6 latent factors and regularization = 0.5: validation RMSE is 1.5840107593412502\n",
            "8 latent factors and regularization = 0.1: validation RMSE is 1.6792306720167296\n",
            "8 latent factors and regularization = 0.2: validation RMSE is 1.6073272988665321\n",
            "8 latent factors and regularization = 0.3: validation RMSE is 1.5927433214158655\n",
            "8 latent factors and regularization = 0.4: validation RMSE is 1.5893197178347391\n",
            "8 latent factors and regularization = 0.5: validation RMSE is 1.5938118194481063\n",
            "10 latent factors and regularization = 0.1: validation RMSE is 1.6696352036587714\n",
            "10 latent factors and regularization = 0.2: validation RMSE is 1.6076668018085416\n",
            "10 latent factors and regularization = 0.3: validation RMSE is 1.591401852670341\n",
            "10 latent factors and regularization = 0.4: validation RMSE is 1.5858342337665337\n",
            "10 latent factors and regularization = 0.5: validation RMSE is 1.5894755672937768\n",
            "\n",
            "The best model has 2 latent factors and regularization = 0.4\n"
          ],
          "name": "stdout"
        }
      ]
    },
    {
      "cell_type": "code",
      "metadata": {
        "id": "PspuvF_C1SEM",
        "colab_type": "code",
        "colab": {}
      },
      "source": [
        "import matplotlib.pyplot as plt\n",
        "\n",
        "def plot_learning_curve(train, test, reg, rank):\n",
        "    \"\"\"\n",
        "    Plot function to show learning curve of ALS\n",
        "    \"\"\"\n",
        "    arr_iters = [i for i in range(1,20,2)]\n",
        "    errors = []\n",
        "    for num_iters in arr_iters:\n",
        "      als = ALS(maxIter=num_iters, rank=rank, regParam=reg, userCol=\"customer_id\", itemCol=\"product_new_id\", ratingCol=\"star_rating\", coldStartStrategy=\"drop\", nonnegative=True)\n",
        "      model = als.fit(train)\n",
        "      predictions = model.transform(test)\n",
        "      evaluator = RegressionEvaluator(metricName=\"rmse\", labelCol=\"star_rating\", predictionCol=\"prediction\")\n",
        "      error = evaluator.evaluate(predictions)\n",
        "      errors.append(error)\n",
        "    \n",
        "    # plot\n",
        "    plt.figure(figsize=(12, 6))\n",
        "    plt.plot(arr_iters, errors)\n",
        "    plt.xlabel('number of iterations')\n",
        "    plt.ylabel('RMSE')\n",
        "    plt.title('ALS Learning Curve')\n",
        "    plt.grid(True)\n",
        "    plt.show()"
      ],
      "execution_count": 0,
      "outputs": []
    },
    {
      "cell_type": "code",
      "metadata": {
        "id": "dX35hmOi1R-y",
        "colab_type": "code",
        "colab": {
          "base_uri": "https://localhost:8080/",
          "height": 404
        },
        "outputId": "5939a342-dfd5-4446-f1bf-fd879b2f13e0"
      },
      "source": [
        "plot_learning_curve(training, test, 0.4, 2)"
      ],
      "execution_count": 28,
      "outputs": [
        {
          "output_type": "display_data",
          "data": {
            "image/png": "[encoded data removed]",
            "text/plain": [
              "<Figure size 864x432 with 1 Axes>"
            ]
          },
          "metadata": {
            "tags": [],
            "needs_background": "light"
          }
        }
      ]
    },
    {
      "cell_type": "markdown",
      "metadata": {
        "id": "TWnczBOF9us_",
        "colab_type": "text"
      },
      "source": [
        "# Sesgo"
      ]
    },
    {
      "cell_type": "code",
      "metadata": {
        "id": "T_vbxY0_94Ru",
        "colab_type": "code",
        "colab": {}
      },
      "source": [
        "#ratings_df"
      ],
      "execution_count": 0,
      "outputs": []
    },
    {
      "cell_type": "code",
      "metadata": {
        "id": "hL15Lmxd1RrI",
        "colab_type": "code",
        "colab": {}
      },
      "source": [
        "ratings_df.registerTempTable(\"temp3\")\n",
        "\n",
        "query = \"\"\"\n",
        "with general as (\n",
        "  SELECT AVG(star_rating) as promedio_general\n",
        "  FROM temp3\n",
        "), \n",
        "promedio_cliente as (\n",
        "  SELECT customer_id, avg(star_rating)  as b_userbias\n",
        "  FROM temp3\n",
        "  GROUP BY customer_id\n",
        "),\n",
        "promedio_item as (\n",
        "  SELECT product_id, avg(star_rating) as b_itembias\n",
        "  FROM temp3\n",
        "  GROUP BY product_id\n",
        "),\n",
        "diff_promedio_cliente as (\n",
        "  SELECT customer_id, b_userbias, b_userbias-promedio_general as b_userbias_diff\n",
        "  FROM promedio_cliente\n",
        "  CROSS JOIN general\n",
        "),\n",
        "diff_promedio_item as (\n",
        "  SELECT product_id, b_itembias, b_itembias-promedio_general as b_itembias_diff\n",
        "  FROM promedio_item\n",
        "  CROSS JOIN general\n",
        ")\n",
        "SELECT \n",
        "  t1.customer_id,\n",
        "  t1.product_new_id,\n",
        "  t1.product_id,\n",
        "  t1.product_title,\n",
        "  t1.star_rating,\n",
        "  t2.promedio_general,\n",
        "  t3.b_userbias,\n",
        "  t3.b_userbias_diff,\n",
        "  t4.b_itembias,\n",
        "  t4.b_itembias_diff,\n",
        "  (t1.star_rating - t2.promedio_general - t3.b_userbias_diff - t4.b_itembias_diff) as new_star_rating\n",
        "FROM temp3 as t1\n",
        "CROSS JOIN general as t2\n",
        "INNER JOIN diff_promedio_cliente as t3\n",
        "  ON t1.customer_id = t3.customer_id\n",
        "INNER JOIN diff_promedio_item as t4\n",
        "  ON t1.product_id = t4.product_id\n",
        "where   \n",
        "  t2.promedio_general is not null and\n",
        "  t3.b_userbias is not null and \n",
        "  t4.b_itembias is not null \n",
        "\"\"\""
      ],
      "execution_count": 0,
      "outputs": []
    },
    {
      "cell_type": "code",
      "metadata": {
        "id": "iPx8Msb0-IAK",
        "colab_type": "code",
        "colab": {
          "base_uri": "https://localhost:8080/",
          "height": 474
        },
        "outputId": "7e158296-9920-414d-d2f9-f33a42288c5c"
      },
      "source": [
        "ratings_df = spark.sql(query)\n",
        "ratings_df.show()"
      ],
      "execution_count": 30,
      "outputs": [
        {
          "output_type": "stream",
          "text": [
            "+-----------+--------------+----------+--------------------+-----------+------------------+------------------+--------------------+------------------+--------------------+--------------------+\n",
            "|customer_id|product_new_id|product_id|       product_title|star_rating|  promedio_general|        b_userbias|     b_userbias_diff|        b_itembias|     b_itembias_diff|     new_star_rating|\n",
            "+-----------+--------------+----------+--------------------+-----------+------------------+------------------+--------------------+------------------+--------------------+--------------------+\n",
            "|   51137709|          6325|B001KC02UA|Happy Hour! [Down...|          3|3.8531262248076406|               3.0| -0.8531262248076406|               3.0| -0.8531262248076406|  0.8531262248076406|\n",
            "|   30130528|          3362|B002FGU06Q|Tradewinds Odysse...|          5|3.8531262248076406|               3.0| -0.8531262248076406|               3.6|-0.25312622480764047|  2.2531262248076405|\n",
            "|   50912785|          3362|B002FGU06Q|Tradewinds Odysse...|          4|3.8531262248076406|               2.5| -1.3531262248076406|               3.6|-0.25312622480764047|  1.7531262248076405|\n",
            "|   28850648|          3362|B002FGU06Q|Tradewinds Odysse...|          5|3.8531262248076406| 3.888888888888889|0.035762664081248285|               3.6|-0.25312622480764047|  1.3642373359187516|\n",
            "|   31275718|          3362|B002FGU06Q|Tradewinds Odysse...|          1|3.8531262248076406|               1.0| -2.8531262248076406|               3.6|-0.25312622480764047| 0.25312622480764047|\n",
            "|   50305091|          3362|B002FGU06Q|Tradewinds Odysse...|          3|3.8531262248076406|3.6153846153846154|-0.23774160942302514|               3.6|-0.25312622480764047|-0.36225839057697495|\n",
            "|   25076272|          4938|B002MUB0N2|Word Harmony [Dow...|          5|3.8531262248076406|               5.0|  1.1468737751923594|               3.5|-0.35312622480764055| 0.35312622480764055|\n",
            "|   16667665|          4938|B002MUB0N2|Word Harmony [Dow...|          2|3.8531262248076406|               2.0| -1.8531262248076406|               3.5|-0.35312622480764055| 0.35312622480764055|\n",
            "|   35938893|          6845|B002N5NAXY|Continental Cafe ...|          2|3.8531262248076406|3.5714285714285716|-0.28169765337906894|               2.0| -1.8531262248076406| 0.28169765337906894|\n",
            "|   21884105|          2151|B0030EFVA2|688I Hunter Kille...|          2|3.8531262248076406|               2.0| -1.8531262248076406|3.5555555555555554| -0.2975706692520852|  0.2975706692520852|\n",
            "|   44372663|          2151|B0030EFVA2|688I Hunter Kille...|          3|3.8531262248076406|               2.0| -1.8531262248076406|3.5555555555555554| -0.2975706692520852|  1.2975706692520852|\n",
            "|   11859999|          2151|B0030EFVA2|688I Hunter Kille...|          5|3.8531262248076406|               5.0|  1.1468737751923594|3.5555555555555554| -0.2975706692520852|  0.2975706692520852|\n",
            "|   48845100|          2151|B0030EFVA2|688I Hunter Kille...|          5|3.8531262248076406|               4.5|  0.6468737751923594|3.5555555555555554| -0.2975706692520852|  0.7975706692520852|\n",
            "|   12850951|          2151|B0030EFVA2|688I Hunter Kille...|          4|3.8531262248076406|               4.0| 0.14687377519235945|3.5555555555555554| -0.2975706692520852|  0.2975706692520852|\n",
            "|   52487585|          2151|B0030EFVA2|688I Hunter Kille...|          4|3.8531262248076406|               4.0| 0.14687377519235945|3.5555555555555554| -0.2975706692520852|  0.2975706692520852|\n",
            "|   40729662|          2151|B0030EFVA2|688I Hunter Kille...|          4|3.8531262248076406|               4.0| 0.14687377519235945|3.5555555555555554| -0.2975706692520852|  0.2975706692520852|\n",
            "|   38510480|          2151|B0030EFVA2|688I Hunter Kille...|          3|3.8531262248076406|               3.0| -0.8531262248076406|3.5555555555555554| -0.2975706692520852|  0.2975706692520852|\n",
            "|   18426529|          2151|B0030EFVA2|688I Hunter Kille...|          2|3.8531262248076406|               2.0| -1.8531262248076406|3.5555555555555554| -0.2975706692520852|  0.2975706692520852|\n",
            "|    1307727|          4643|B0030GG0XC|Super Jigsaw Pupp...|          5|3.8531262248076406|               5.0|  1.1468737751923594|               5.0|  1.1468737751923594| -1.1468737751923594|\n",
            "|   15773485|          4643|B0030GG0XC|Super Jigsaw Pupp...|          5|3.8531262248076406|               5.0|  1.1468737751923594|               5.0|  1.1468737751923594| -1.1468737751923594|\n",
            "+-----------+--------------+----------+--------------------+-----------+------------------+------------------+--------------------+------------------+--------------------+--------------------+\n",
            "only showing top 20 rows\n",
            "\n"
          ],
          "name": "stdout"
        }
      ]
    },
    {
      "cell_type": "code",
      "metadata": {
        "id": "CKCia7WeBBoG",
        "colab_type": "code",
        "colab": {
          "base_uri": "https://localhost:8080/",
          "height": 474
        },
        "outputId": "6d1c9dfd-340e-445b-eae8-6663030adf4f"
      },
      "source": [
        "(training, test) = ratings_df.randomSplit([0.8, 0.2])\n",
        "training.show()"
      ],
      "execution_count": 31,
      "outputs": [
        {
          "output_type": "stream",
          "text": [
            "+-----------+--------------+----------+--------------------+-----------+------------------+----------+--------------------+------------------+--------------------+--------------------+\n",
            "|customer_id|product_new_id|product_id|       product_title|star_rating|  promedio_general|b_userbias|     b_userbias_diff|        b_itembias|     b_itembias_diff|     new_star_rating|\n",
            "+-----------+--------------+----------+--------------------+-----------+------------------+----------+--------------------+------------------+--------------------+--------------------+\n",
            "|      23131|            58|B005Q1YA5O|    The Sims 3: Pets|          4|3.8531262248076406|       3.5|-0.35312622480764055|3.4899598393574296|-0.36316638545021096|   0.863166385450211|\n",
            "|      33322|            58|B005Q1YA5O|    The Sims 3: Pets|          1|3.8531262248076406|       1.0| -2.8531262248076406|3.4899598393574296|-0.36316638545021096| 0.36316638545021096|\n",
            "|     223094|            45|B00F4CFBUS| Xbox Live Gift Card|          5|3.8531262248076406|       5.0|  1.1468737751923594| 4.608695652173913|  0.7555694273662725| -0.7555694273662725|\n",
            "|     326711|            45|B00F4CFBUS| Xbox Live Gift Card|          5|3.8531262248076406|       5.0|  1.1468737751923594| 4.608695652173913|  0.7555694273662725| -0.7555694273662725|\n",
            "|     386567|            45|B00F4CFBUS| Xbox Live Gift Card|          5|3.8531262248076406|       5.0|  1.1468737751923594| 4.608695652173913|  0.7555694273662725| -0.7555694273662725|\n",
            "|     434066|            45|B00F4CFBUS| Xbox Live Gift Card|          5|3.8531262248076406|       5.0|  1.1468737751923594| 4.608695652173913|  0.7555694273662725| -0.7555694273662725|\n",
            "|     456822|            45|B00F4CFBUS| Xbox Live Gift Card|          5|3.8531262248076406|       5.0|  1.1468737751923594| 4.608695652173913|  0.7555694273662725| -0.7555694273662725|\n",
            "|     502045|            58|B005Q1YA5O|    The Sims 3: Pets|          5|3.8531262248076406|       5.0|  1.1468737751923594|3.4899598393574296|-0.36316638545021096| 0.36316638545021096|\n",
            "|     548402|            45|B00F4CFBUS| Xbox Live Gift Card|          5|3.8531262248076406|       5.0|  1.1468737751923594| 4.608695652173913|  0.7555694273662725| -0.7555694273662725|\n",
            "|     568941|            45|B00F4CFBUS| Xbox Live Gift Card|          5|3.8531262248076406|       5.0|  1.1468737751923594| 4.608695652173913|  0.7555694273662725| -0.7555694273662725|\n",
            "|     599542|            45|B00F4CFBUS| Xbox Live Gift Card|          5|3.8531262248076406|       5.0|  1.1468737751923594| 4.608695652173913|  0.7555694273662725| -0.7555694273662725|\n",
            "|     653864|            45|B00F4CFBUS| Xbox Live Gift Card|          5|3.8531262248076406|       5.0|  1.1468737751923594| 4.608695652173913|  0.7555694273662725| -0.7555694273662725|\n",
            "|     690594|            45|B00F4CFBUS| Xbox Live Gift Card|          5|3.8531262248076406|       5.0|  1.1468737751923594| 4.608695652173913|  0.7555694273662725| -0.7555694273662725|\n",
            "|     719868|            45|B00F4CFBUS| Xbox Live Gift Card|          5|3.8531262248076406|       5.0|  1.1468737751923594| 4.608695652173913|  0.7555694273662725| -0.7555694273662725|\n",
            "|     734601|            45|B00F4CFBUS| Xbox Live Gift Card|          5|3.8531262248076406|       5.0|  1.1468737751923594| 4.608695652173913|  0.7555694273662725| -0.7555694273662725|\n",
            "|     800123|            45|B00F4CFBUS| Xbox Live Gift Card|          1|3.8531262248076406|       1.0| -2.8531262248076406| 4.608695652173913|  0.7555694273662725| -0.7555694273662725|\n",
            "|     854690|            45|B00F4CFBUS| Xbox Live Gift Card|          5|3.8531262248076406|       5.0|  1.1468737751923594| 4.608695652173913|  0.7555694273662725| -0.7555694273662725|\n",
            "|     858237|          2644|B008BKF3OE|RuneScape [Game C...|          1|3.8531262248076406|       1.0| -2.8531262248076406| 3.857142857142857|0.004016632335216652|-0.00401663233521...|\n",
            "|     869844|            45|B00F4CFBUS| Xbox Live Gift Card|          5|3.8531262248076406|       5.0|  1.1468737751923594| 4.608695652173913|  0.7555694273662725| -0.7555694273662725|\n",
            "|     885449|            45|B00F4CFBUS| Xbox Live Gift Card|          1|3.8531262248076406|       1.0| -2.8531262248076406| 4.608695652173913|  0.7555694273662725| -0.7555694273662725|\n",
            "+-----------+--------------+----------+--------------------+-----------+------------------+----------+--------------------+------------------+--------------------+--------------------+\n",
            "only showing top 20 rows\n",
            "\n"
          ],
          "name": "stdout"
        }
      ]
    },
    {
      "cell_type": "code",
      "metadata": {
        "id": "QHoeLeQAXDOF",
        "colab_type": "code",
        "colab": {}
      },
      "source": [
        "def train_ALS(train, test, reg_param, ranks):\n",
        "  # initial\n",
        "  min_error = float('inf')\n",
        "  best_rank = -1\n",
        "  best_regularization = 0\n",
        "  best_model = None\n",
        "  for rank in ranks:\n",
        "    for reg in reg_param:\n",
        "      als = ALS(maxIter=20, rank=rank, regParam=reg, userCol=\"customer_id\", itemCol=\"product_new_id\", ratingCol=\"new_star_rating\", coldStartStrategy=\"drop\", nonnegative=True)\n",
        "      model = als.fit(train)\n",
        "      predictions = model.transform(test)\n",
        "      predictions= predictions.withColumn(\"predict\", predictions.prediction + \n",
        "                                               predictions.promedio_general + \n",
        "                                               predictions.b_userbias_diff +\n",
        "                                               predictions.b_itembias_diff)\n",
        "      evaluator = RegressionEvaluator(metricName=\"rmse\", labelCol=\"star_rating\", predictionCol=\"predict\")\n",
        "      error = evaluator.evaluate(predictions)\n",
        "      print('{} latent factors and regularization = {}: validation RMSE is {}'.format(rank, reg, error))\n",
        "      if error < min_error:\n",
        "        min_error = error\n",
        "        best_rank = rank\n",
        "        best_regularization = reg\n",
        "        best_model = model\n",
        "  print('\\nThe best model has {} latent factors and regularization = {}'.format(best_rank, best_regularization))\n",
        "  return best_model"
      ],
      "execution_count": 0,
      "outputs": []
    },
    {
      "cell_type": "code",
      "metadata": {
        "id": "NGOeZELqXsia",
        "colab_type": "code",
        "colab": {
          "base_uri": "https://localhost:8080/",
          "height": 470
        },
        "outputId": "561270c5-46bb-498f-b0a7-ae10d217c505"
      },
      "source": [
        "# hyper-param config\n",
        "ranks = [2,4,6,8,10]\n",
        "reg_params = [0.1,0.2,0.3,0.4,0.5]\n",
        "\n",
        "final_model = train_ALS(training, test, reg_params, ranks)"
      ],
      "execution_count": 36,
      "outputs": [
        {
          "output_type": "stream",
          "text": [
            "2 latent factors and regularization = 0.1: validation RMSE is 1.0416987325409601\n",
            "2 latent factors and regularization = 0.2: validation RMSE is 0.9987696681659757\n",
            "2 latent factors and regularization = 0.3: validation RMSE is 0.9775472226115132\n",
            "2 latent factors and regularization = 0.4: validation RMSE is 0.9689896744650383\n",
            "2 latent factors and regularization = 0.5: validation RMSE is 0.9666308264149834\n",
            "4 latent factors and regularization = 0.1: validation RMSE is 1.0157810963982492\n",
            "4 latent factors and regularization = 0.2: validation RMSE is 0.9859321459089175\n",
            "4 latent factors and regularization = 0.3: validation RMSE is 0.9734798248259692\n",
            "4 latent factors and regularization = 0.4: validation RMSE is 0.9671501937163138\n",
            "4 latent factors and regularization = 0.5: validation RMSE is 0.9656714940551103\n",
            "6 latent factors and regularization = 0.1: validation RMSE is 1.007642518836226\n",
            "6 latent factors and regularization = 0.2: validation RMSE is 0.9800746222252413\n",
            "6 latent factors and regularization = 0.3: validation RMSE is 0.969882183334787\n",
            "6 latent factors and regularization = 0.4: validation RMSE is 0.9663739342589539\n",
            "6 latent factors and regularization = 0.5: validation RMSE is 0.9659930476066223\n",
            "8 latent factors and regularization = 0.1: validation RMSE is 0.9970474028806299\n",
            "8 latent factors and regularization = 0.2: validation RMSE is 0.9768149102894534\n",
            "8 latent factors and regularization = 0.3: validation RMSE is 0.9684490722864065\n",
            "8 latent factors and regularization = 0.4: validation RMSE is 0.9652867776573975\n",
            "8 latent factors and regularization = 0.5: validation RMSE is 0.9651981720257186\n",
            "10 latent factors and regularization = 0.1: validation RMSE is 0.9925299485144354\n",
            "10 latent factors and regularization = 0.2: validation RMSE is 0.9749838923739113\n",
            "10 latent factors and regularization = 0.3: validation RMSE is 0.9671301073100379\n",
            "10 latent factors and regularization = 0.4: validation RMSE is 0.9654350335336189\n",
            "10 latent factors and regularization = 0.5: validation RMSE is 0.965510757365408\n",
            "\n",
            "The best model has 8 latent factors and regularization = 0.5\n"
          ],
          "name": "stdout"
        }
      ]
    },
    {
      "cell_type": "code",
      "metadata": {
        "id": "WL725Ti1fwBl",
        "colab_type": "code",
        "colab": {}
      },
      "source": [
        "def plot_learning_curve(train, test, reg, rank):\n",
        "    \"\"\"\n",
        "    Plot function to show learning curve of ALS\n",
        "    \"\"\"\n",
        "    arr_iters = [i for i in range(1,20,2)]\n",
        "    errors = []\n",
        "    for num_iters in arr_iters:\n",
        "      als = ALS(maxIter=num_iters, rank=rank, regParam=reg, userCol=\"customer_id\", itemCol=\"product_new_id\", ratingCol=\"new_star_rating\", coldStartStrategy=\"drop\", nonnegative=True)\n",
        "      model = als.fit(train)\n",
        "      predictions = model.transform(test)\n",
        "      predictions= predictions.withColumn(\"predict\", predictions.prediction + \n",
        "                                          predictions.promedio_general + \n",
        "                                          predictions.b_userbias_diff +\n",
        "                                          predictions.b_itembias_diff)\n",
        "      evaluator = RegressionEvaluator(metricName=\"rmse\", labelCol=\"star_rating\", predictionCol=\"predict\")\n",
        "      error = evaluator.evaluate(predictions)\n",
        "      errors.append(error)\n",
        "    \n",
        "    # plot\n",
        "    plt.figure(figsize=(12, 6))\n",
        "    plt.plot(arr_iters, errors)\n",
        "    plt.xlabel('number of iterations')\n",
        "    plt.ylabel('RMSE')\n",
        "    plt.title('ALS Learning Curve')\n",
        "    plt.grid(True)\n",
        "    plt.show()"
      ],
      "execution_count": 0,
      "outputs": []
    },
    {
      "cell_type": "code",
      "metadata": {
        "id": "lsn9xVqZXDYD",
        "colab_type": "code",
        "colab": {
          "base_uri": "https://localhost:8080/",
          "height": 404
        },
        "outputId": "75459ee4-ab5f-465e-c1dd-8f2ea2f9c7ae"
      },
      "source": [
        "plot_learning_curve(training, test, 0.5, 8)"
      ],
      "execution_count": 46,
      "outputs": [
        {
          "output_type": "display_data",
          "data": {
            "image/png": "[encoded data removed]",
            "text/plain": [
              "<Figure size 864x432 with 1 Axes>"
            ]
          },
          "metadata": {
            "tags": [],
            "needs_background": "light"
          }
        }
      ]
    },
    {
      "cell_type": "code",
      "metadata": {
        "id": "yLWGgqBqBOKn",
        "colab_type": "code",
        "colab": {}
      },
      "source": [
        "als = ALS(rank=8,maxIter=20, regParam=0.5, userCol=\"customer_id\", itemCol=\"product_new_id\", ratingCol=\"new_star_rating\",coldStartStrategy=\"drop\",nonnegative=False)\n",
        "model = als.fit(training)"
      ],
      "execution_count": 0,
      "outputs": []
    },
    {
      "cell_type": "code",
      "metadata": {
        "id": "dea1CTRWBON9",
        "colab_type": "code",
        "colab": {}
      },
      "source": [
        "predictions = model.transform(test)"
      ],
      "execution_count": 0,
      "outputs": []
    },
    {
      "cell_type": "code",
      "metadata": {
        "id": "-s9V4f_WBOQp",
        "colab_type": "code",
        "colab": {
          "base_uri": "https://localhost:8080/",
          "height": 188
        },
        "outputId": "f755671d-566e-4ad7-9548-ef0dab33405e"
      },
      "source": [
        "predictions.show(3)"
      ],
      "execution_count": 42,
      "outputs": [
        {
          "output_type": "stream",
          "text": [
            "+-----------+--------------+----------+--------------------+-----------+------------------+------------------+-------------------+------------------+-------------------+--------------------+------------+\n",
            "|customer_id|product_new_id|product_id|       product_title|star_rating|  promedio_general|        b_userbias|    b_userbias_diff|        b_itembias|    b_itembias_diff|     new_star_rating|  prediction|\n",
            "+-----------+--------------+----------+--------------------+-----------+------------------+------------------+-------------------+------------------+-------------------+--------------------+------------+\n",
            "|   36639795|           148|B0053YQ8E0|Alice: Madness Re...|          3|3.8531262248076406|3.2857142857142856| -0.567411939093355|3.2755905511811023|-0.5775356736265382| 0.29182138791225265|  0.06693324|\n",
            "|   35480335|           148|B0053YQ8E0|Alice: Madness Re...|          4|3.8531262248076406|             4.875| 1.0218737751923594|3.2755905511811023|-0.5775356736265382|-0.29746432637346176|-0.015013739|\n",
            "|   28382976|           148|B0053YQ8E0|Alice: Madness Re...|          4|3.8531262248076406|               4.0|0.14687377519235945|3.2755905511811023|-0.5775356736265382|  0.5775356736265382|  0.16774833|\n",
            "+-----------+--------------+----------+--------------------+-----------+------------------+------------------+-------------------+------------------+-------------------+--------------------+------------+\n",
            "only showing top 3 rows\n",
            "\n"
          ],
          "name": "stdout"
        }
      ]
    },
    {
      "cell_type": "code",
      "metadata": {
        "id": "Egck4MWgBOYk",
        "colab_type": "code",
        "colab": {}
      },
      "source": [
        "predictions= predictions.withColumn(\"predict\", predictions.prediction + \n",
        "                                               predictions.promedio_general + \n",
        "                                               predictions.b_userbias_diff +\n",
        "                                               predictions.b_itembias_diff)"
      ],
      "execution_count": 0,
      "outputs": []
    },
    {
      "cell_type": "code",
      "metadata": {
        "id": "ePi6TUw8BOTi",
        "colab_type": "code",
        "colab": {
          "base_uri": "https://localhost:8080/",
          "height": 474
        },
        "outputId": "8d208b2a-3233-43e1-ae75-4f74c0f35f1f"
      },
      "source": [
        "predictions.show()"
      ],
      "execution_count": 44,
      "outputs": [
        {
          "output_type": "stream",
          "text": [
            "+-----------+--------------+----------+--------------------+-----------+------------------+------------------+-------------------+------------------+--------------------+--------------------+--------------+------------------+\n",
            "|customer_id|product_new_id|product_id|       product_title|star_rating|  promedio_general|        b_userbias|    b_userbias_diff|        b_itembias|     b_itembias_diff|     new_star_rating|    prediction|           predict|\n",
            "+-----------+--------------+----------+--------------------+-----------+------------------+------------------+-------------------+------------------+--------------------+--------------------+--------------+------------------+\n",
            "|   36639795|           148|B0053YQ8E0|Alice: Madness Re...|          3|3.8531262248076406|3.2857142857142856| -0.567411939093355|3.2755905511811023| -0.5775356736265382| 0.29182138791225265|    0.06693324|2.7751118491039484|\n",
            "|   35480335|           148|B0053YQ8E0|Alice: Madness Re...|          4|3.8531262248076406|             4.875| 1.0218737751923594|3.2755905511811023| -0.5775356736265382|-0.29746432637346176|  -0.015013739| 4.282450587838117|\n",
            "|   28382976|           148|B0053YQ8E0|Alice: Madness Re...|          4|3.8531262248076406|               4.0|0.14687377519235945|3.2755905511811023| -0.5775356736265382|  0.5775356736265382|    0.16774833|3.5902126583970824|\n",
            "|   33598538|           148|B0053YQ8E0|Alice: Madness Re...|          2|3.8531262248076406| 3.611111111111111|-0.2420151136965294|3.2755905511811023| -0.5775356736265382|  -1.033575437484573|    -0.1515508|2.8820246378763423|\n",
            "|   51587768|           148|B0053YQ8E0|Alice: Madness Re...|          4|3.8531262248076406|               2.5|-1.3531262248076406|3.2755905511811023| -0.5775356736265382|  2.0775356736265382|   0.039116148|  1.96158047427905|\n",
            "|   43861020|           148|B0053YQ8E0|Alice: Madness Re...|          5|3.8531262248076406|               5.0| 1.1468737751923594|3.2755905511811023| -0.5775356736265382|  0.5775356736265382| -1.0391252E-4| 4.422360413853472|\n",
            "|   20486225|           148|B0053YQ8E0|Alice: Madness Re...|          2|3.8531262248076406|2.1538461538461537|-1.6992800709614868|3.2755905511811023| -0.5775356736265382|  0.4236895197803845|  -0.068267845|1.5080426356022487|\n",
            "|   10972526|           148|B0053YQ8E0|Alice: Madness Re...|          5|3.8531262248076406|2.6666666666666665| -1.186459558140974|3.2755905511811023| -0.5775356736265382|  2.9108690069598717|   -0.09425517| 1.994875821323915|\n",
            "|   33901114|           463|B0047T7UDU|          Darksiders|          1|3.8531262248076406|               1.0|-2.8531262248076406|4.0588235294117645| 0.20569730460412394|-0.20569730460412394| -4.4175104E-4| 1.205255553568728|\n",
            "|   44085923|           463|B0047T7UDU|          Darksiders|          5|3.8531262248076406|               5.0| 1.1468737751923594|4.0588235294117645| 0.20569730460412394|-0.20569730460412394|  -3.710137E-4| 5.205326290894314|\n",
            "|    9992562|           463|B0047T7UDU|          Darksiders|          5|3.8531262248076406|               5.0| 1.1468737751923594|4.0588235294117645| 0.20569730460412394|-0.20569730460412394|   0.015050354| 5.220747659017812|\n",
            "|   24987794|           463|B0047T7UDU|          Darksiders|          5|3.8531262248076406| 4.333333333333333| 0.4802071085256925|4.0588235294117645| 0.20569730460412394|   0.460969362062543|-1.13241134E-4| 4.538917396803071|\n",
            "|   28699846|           471|B006GTBUT4|Sid Meier's Civil...|          5|3.8531262248076406|               4.5| 0.6468737751923594|              3.52|-0.33312622480764054|  0.8331262248076405| -3.0564208E-4| 4.166568133109537|\n",
            "|    9640328|           471|B006GTBUT4|Sid Meier's Civil...|          5|3.8531262248076406|               4.4| 0.5468737751923598|              3.52|-0.33312622480764054|  0.9331262248076402| -1.2886518E-4| 4.066744910008563|\n",
            "|   46157724|           471|B006GTBUT4|Sid Meier's Civil...|          4|3.8531262248076406|               4.0|0.14687377519235945|              3.52|-0.33312622480764054| 0.33312622480764054| -4.8717316E-6|3.6668689034607973|\n",
            "|   10711435|           471|B006GTBUT4|Sid Meier's Civil...|          1|3.8531262248076406|               1.0|-2.8531262248076406|              3.52|-0.33312622480764054| 0.33312622480764054| -1.9631283E-4|0.6666774623616925|\n",
            "|   39364839|           496|B005WLRO4M|Football Manager ...|          5|3.8531262248076406|               5.0| 1.1468737751923594|             4.125| 0.27187377519235945|-0.27187377519235945|  0.0012742237|5.2731479988645855|\n",
            "|   20436055|           833|B0034XS84K|Nancy Drew: The P...|          5|3.8531262248076406|               4.5| 0.6468737751923594| 3.607142857142857|-0.24598336766478335|  0.7459833676647833|  0.0075897444| 4.261606376739175|\n",
            "|   20970953|           833|B0034XS84K|Nancy Drew: The P...|          4|3.8531262248076406|               4.5| 0.6468737751923594| 3.607142857142857|-0.24598336766478335|-0.25401663233521665|  -0.008986879|4.2450297531950785|\n",
            "|   43002072|          1088|B00W9O1NDI|Lost Lands: The F...|          1|3.8531262248076406|              2.75|-1.1031262248076406| 3.409090909090909| -0.4440353157167314| -1.3059646842832686|    0.18231909|2.4882837740535857|\n",
            "+-----------+--------------+----------+--------------------+-----------+------------------+------------------+-------------------+------------------+--------------------+--------------------+--------------+------------------+\n",
            "only showing top 20 rows\n",
            "\n"
          ],
          "name": "stdout"
        }
      ]
    },
    {
      "cell_type": "code",
      "metadata": {
        "id": "CJw8wvA0KlO5",
        "colab_type": "code",
        "colab": {
          "base_uri": "https://localhost:8080/",
          "height": 34
        },
        "outputId": "f1a0c97d-1def-4bd6-edb8-c9ac86450ab2"
      },
      "source": [
        "evaluator = RegressionEvaluator(metricName=\"rmse\", labelCol=\"star_rating\",\n",
        "                                predictionCol=\"predict\")\n",
        "rmse = evaluator.evaluate(predictions)\n",
        "print(\"Root-mean-square error = \" + str(rmse))"
      ],
      "execution_count": 47,
      "outputs": [
        {
          "output_type": "stream",
          "text": [
            "Root-mean-square error = 0.9720642222368638\n"
          ],
          "name": "stdout"
        }
      ]
    },
    {
      "cell_type": "markdown",
      "metadata": {
        "id": "NO1SoSBtEZGb",
        "colab_type": "text"
      },
      "source": [
        "# Recomendar Productos\n"
      ]
    },
    {
      "cell_type": "code",
      "metadata": {
        "id": "ag6rd9PFEdKN",
        "colab_type": "code",
        "colab": {}
      },
      "source": [
        "def recomendar_productos(model, all_prod, customer):\n",
        "  user = ratings_df.where(ratings_df.customer_id == customer).select(\"customer_id\",\"product_new_id\", \"product_title\")\n",
        "  all_prod = all_prod.withColumn(\"customer_id\", lit(customer))\n",
        "  #se restan los productos de user al total de peliculas\n",
        "  productos = all_prod.subtract(user)\n",
        "  productos = productos.withColumn(\"customer_id\", productos.customer_id.cast(\"int\"))\n",
        "  recomendaciones = model.transform(prueba)\n",
        "  recomendaciones.where(recomendaciones.product_new_id == 7163).show()"
      ],
      "execution_count": 0,
      "outputs": []
    },
    {
      "cell_type": "code",
      "metadata": {
        "id": "a15WPVy_25Xo",
        "colab_type": "code",
        "colab": {
          "base_uri": "https://localhost:8080/",
          "height": 454
        },
        "outputId": "e5609278-495c-401e-d37b-4729ab35da23"
      },
      "source": [
        "ratings_df.registerTempTable(\"temp3\")\n",
        "\n",
        "query = \"\"\"\n",
        "  select distinct product_new_id, product_title\n",
        "  from temp3\n",
        "\"\"\"\n",
        "all_prod = spark.sql(query)\n",
        "all_prod.show()"
      ],
      "execution_count": 127,
      "outputs": [
        {
          "output_type": "stream",
          "text": [
            "+--------------+--------------------+\n",
            "|product_new_id|       product_title|\n",
            "+--------------+--------------------+\n",
            "|           619|   Tom Clancy's HAWX|\n",
            "|          3244|Paradise Beach 2:...|\n",
            "|          1357|Oddworld: Munch's...|\n",
            "|          6941|Adventure Chronic...|\n",
            "|          4728|The Dreamatorium ...|\n",
            "|          4899|Borderlands 2: Me...|\n",
            "|          1227|Grand Theft Auto ...|\n",
            "|          2552|Pastime Puzzles [...|\n",
            "|          4820|Raiden Legacy (Ma...|\n",
            "|          6827|Court Tennis Play...|\n",
            "|          6549|Vertical Drop Her...|\n",
            "|          1359|Cars, Jets and Di...|\n",
            "|           849|       Borderlands 2|\n",
            "|          7692|Abra Academy [Dow...|\n",
            "|          1335|   Spades [Download]|\n",
            "|          6841|FIFA 13 Bundle [D...|\n",
            "|          3208|     Disney Universe|\n",
            "|          5173|Nemo's Secret: Th...|\n",
            "|          6541|    Evoly [Download]|\n",
            "|          7582|Brave Pistols 3D ...|\n",
            "+--------------+--------------------+\n",
            "only showing top 20 rows\n",
            "\n"
          ],
          "name": "stdout"
        }
      ]
    },
    {
      "cell_type": "code",
      "metadata": {
        "id": "UDs0BUUtF2uk",
        "colab_type": "code",
        "colab": {
          "base_uri": "https://localhost:8080/",
          "height": 118
        },
        "outputId": "87473c72-fef0-4918-dffe-e6e2c0243e17"
      },
      "source": [
        "recomendar_productos(model, all_prod, 36639795)"
      ],
      "execution_count": 130,
      "outputs": [
        {
          "output_type": "stream",
          "text": [
            "+--------------+--------------------+-----------+----------+\n",
            "|product_new_id|       product_title|customer_id|prediction|\n",
            "+--------------+--------------------+-----------+----------+\n",
            "|          7163|Baseball Mogul 20...|   36639795| 0.5213376|\n",
            "+--------------+--------------------+-----------+----------+\n",
            "\n"
          ],
          "name": "stdout"
        }
      ]
    },
    {
      "cell_type": "markdown",
      "metadata": {
        "id": "KQ_ChTtyZf7V",
        "colab_type": "text"
      },
      "source": [
        "# Sesgo Esteban\n"
      ]
    },
    {
      "cell_type": "code",
      "metadata": {
        "id": "gs-7e7DOT0OD",
        "colab_type": "code",
        "colab": {}
      },
      "source": [
        ""
      ],
      "execution_count": 0,
      "outputs": []
    },
    {
      "cell_type": "code",
      "metadata": {
        "id": "XObRiCekZkZk",
        "colab_type": "code",
        "colab": {}
      },
      "source": [
        "ratings_df.registerTempTable(\"customer\")\n",
        "\n",
        "query = \"\"\"\n",
        "SELECT AVG(star_rating)\n",
        "FROM customer\n",
        "\"\"\"\n",
        "\n",
        "query2 = \"\"\"\n",
        "SELECT customer_id, avg(star_rating) as b_userbias\n",
        "FROM customer\n",
        "GROUP BY customer_id\n",
        "\"\"\"\n",
        "\n",
        "query3 = \"\"\"\n",
        "SELECT product_new_id, avg(star_rating) as b_itembias\n",
        "FROM customer\n",
        "GROUP BY product_new_id\n",
        "\"\"\"\n",
        "\n",
        "u_rating=spark.sql(query)\n",
        "b_userbias=spark.sql(query2)\n",
        "b_itembias=spark.sql(query3)\n"
      ],
      "execution_count": 0,
      "outputs": []
    },
    {
      "cell_type": "code",
      "metadata": {
        "id": "PMIFYBAvZkn2",
        "colab_type": "code",
        "colab": {
          "base_uri": "https://localhost:8080/",
          "height": 151
        },
        "outputId": "865921e7-576f-446f-8522-0b668816e03d"
      },
      "source": [
        "b_userbias=b_userbias.withColumn(\"b_userbias_diff\", b_userbias.b_userbias - u_rating.collect()[0][0])\n",
        "b_userbias=b_userbias.select(b_userbias.columns[0],b_userbias.columns[2])\n",
        "b_userbias.show(2)"
      ],
      "execution_count": 38,
      "outputs": [
        {
          "output_type": "stream",
          "text": [
            "+-----------+------------------+\n",
            "|customer_id|   b_userbias_diff|\n",
            "+-----------+------------------+\n",
            "|   26079415|1.1468640623818134|\n",
            "|   12521601|1.1468640623818134|\n",
            "+-----------+------------------+\n",
            "only showing top 2 rows\n",
            "\n"
          ],
          "name": "stdout"
        }
      ]
    },
    {
      "cell_type": "code",
      "metadata": {
        "id": "FmM-tBGYZkrN",
        "colab_type": "code",
        "colab": {
          "base_uri": "https://localhost:8080/",
          "height": 151
        },
        "outputId": "f08f451b-bac6-4c17-93d9-a254f38c5a5e"
      },
      "source": [
        "b_itembias=b_itembias.withColumn(\"b_itembias_diff\", b_itembias.b_itembias - u_rating.collect()[0][0])\n",
        "b_itembias=b_itembias.select(b_itembias.columns[0],b_itembias.columns[2])\n",
        "b_itembias.show(2)"
      ],
      "execution_count": 39,
      "outputs": [
        {
          "output_type": "stream",
          "text": [
            "+--------------+------------------+\n",
            "|product_new_id|   b_itembias_diff|\n",
            "+--------------+------------------+\n",
            "|          7554|1.1468640623818134|\n",
            "|          1342|0.9115699447347545|\n",
            "+--------------+------------------+\n",
            "only showing top 2 rows\n",
            "\n"
          ],
          "name": "stdout"
        }
      ]
    },
    {
      "cell_type": "code",
      "metadata": {
        "id": "FI0364Z2Zktw",
        "colab_type": "code",
        "colab": {
          "base_uri": "https://localhost:8080/",
          "height": 168
        },
        "outputId": "1d472157-48b8-470e-f34f-82a498c7312c"
      },
      "source": [
        "from pyspark.sql.functions import lit\n",
        "\n",
        "df_diff = ratings_df.withColumn(\"u_rating\", lit(u_rating.collect()[0][0]))\\\n",
        "          .join(b_userbias, on=['customer_id'], how='inner')\\\n",
        "          .join(b_itembias, on=['product_new_id'], how='inner')\\\n",
        "\n",
        "df_diff=df_diff.withColumn(\"gl_star_rating\", df_diff.star_rating - df_diff.u_rating - df_diff.b_userbias_diff - df_diff.b_itembias_diff)\n",
        "\n",
        "df_diff.show(3)"
      ],
      "execution_count": 41,
      "outputs": [
        {
          "output_type": "stream",
          "text": [
            "+--------------+-----------+----------+-----------+-----------+------------------+-------------------+--------------------+-------------------+\n",
            "|product_new_id|customer_id|product_id|star_rating|review_date|          u_rating|    b_userbias_diff|     b_itembias_diff|     gl_star_rating|\n",
            "+--------------+-----------+----------+-----------+-----------+------------------+-------------------+--------------------+-------------------+\n",
            "|          4686|   21269168|B013PURRZW|          2| 2015-08-31|3.8531359376181866|-1.3531359376181866|   -1.18646927095152| 0.6864692709515201|\n",
            "|            11|     133437|B00F4CEHNK|          5| 2015-08-31|3.8531359376181866| 1.1468640623818134|  0.6574797736344671|-0.6574797736344671|\n",
            "|           190|   45765011|B00DNHLFQA|          5| 2015-08-31|3.8531359376181866|-0.5198026042848531|-0.23276556724781639|  1.899432233914483|\n",
            "+--------------+-----------+----------+-----------+-----------+------------------+-------------------+--------------------+-------------------+\n",
            "only showing top 3 rows\n",
            "\n"
          ],
          "name": "stdout"
        }
      ]
    },
    {
      "cell_type": "code",
      "metadata": {
        "id": "kz3aqBTxZklI",
        "colab_type": "code",
        "colab": {
          "base_uri": "https://localhost:8080/",
          "height": 168
        },
        "outputId": "d2aa6440-becd-42b7-fb8b-674c3b5f6ec1"
      },
      "source": [
        "ratings3=df_diff.selectExpr([\"customer_id\", \"product_new_id\",\"gl_star_rating\"])\n",
        "ratings3.show(3)"
      ],
      "execution_count": 42,
      "outputs": [
        {
          "output_type": "stream",
          "text": [
            "+-----------+--------------+-------------------+\n",
            "|customer_id|product_new_id|     gl_star_rating|\n",
            "+-----------+--------------+-------------------+\n",
            "|   21269168|          4686| 0.6864692709515201|\n",
            "|     133437|            11|-0.6574797736344671|\n",
            "|   45765011|           190|  1.899432233914483|\n",
            "+-----------+--------------+-------------------+\n",
            "only showing top 3 rows\n",
            "\n"
          ],
          "name": "stdout"
        }
      ]
    },
    {
      "cell_type": "code",
      "metadata": {
        "id": "yR3oGowqZkf6",
        "colab_type": "code",
        "colab": {}
      },
      "source": [
        "(training, test) = ratings3.randomSplit([0.8, 0.2], seed=23)"
      ],
      "execution_count": 0,
      "outputs": []
    },
    {
      "cell_type": "code",
      "metadata": {
        "id": "8sJa1wbYZkdY",
        "colab_type": "code",
        "colab": {}
      },
      "source": [
        "als = ALS(seed=23,rank=5,maxIter=10, regParam=0.35, userCol=\"customer_id\", itemCol=\"product_new_id\", ratingCol=\"gl_star_rating\",coldStartStrategy=\"drop\",nonnegative=False)\n",
        "model = als.fit(training)"
      ],
      "execution_count": 0,
      "outputs": []
    },
    {
      "cell_type": "code",
      "metadata": {
        "id": "IX_PXTy6cvjK",
        "colab_type": "code",
        "colab": {}
      },
      "source": [
        "predictions = model.transform(test)"
      ],
      "execution_count": 0,
      "outputs": []
    },
    {
      "cell_type": "code",
      "metadata": {
        "id": "P-XB6Ghccx_F",
        "colab_type": "code",
        "colab": {
          "base_uri": "https://localhost:8080/",
          "height": 168
        },
        "outputId": "5f1c979b-cbcf-4d85-da42-01c8071a376d"
      },
      "source": [
        "predictions.show(3)"
      ],
      "execution_count": 54,
      "outputs": [
        {
          "output_type": "stream",
          "text": [
            "+-----------+--------------+-------------------+-----------+\n",
            "|customer_id|product_new_id|     gl_star_rating| prediction|\n",
            "+-----------+--------------+-------------------+-----------+\n",
            "|   43063563|           148| 0.8275453864370843|0.032960393|\n",
            "|   47028076|           148|0.07754538643708431|0.016418735|\n",
            "|   33598538|           148|-1.0335657246740269| 0.14296167|\n",
            "+-----------+--------------+-------------------+-----------+\n",
            "only showing top 3 rows\n",
            "\n"
          ],
          "name": "stdout"
        }
      ]
    },
    {
      "cell_type": "code",
      "metadata": {
        "id": "pA9VPl8TcyE2",
        "colab_type": "code",
        "colab": {
          "base_uri": "https://localhost:8080/",
          "height": 188
        },
        "outputId": "5649c78c-7555-46b1-f376-e62bb1e53a20"
      },
      "source": [
        "df_diff2 = predictions.join(df_diff, on=['customer_id','product_new_id','gl_star_rating'], how='inner')\n",
        "\n",
        "df_diff2= df_diff2.withColumn(\"predict\", df_diff2.prediction + df_diff2.u_rating + df_diff2.b_userbias_diff + df_diff2.b_itembias_diff)\n",
        "\n",
        "df_diff2.show(3)"
      ],
      "execution_count": 55,
      "outputs": [
        {
          "output_type": "stream",
          "text": [
            "+-----------+--------------+--------------------+------------+----------+-----------+-----------+------------------+-------------------+-------------------+-------------------+\n",
            "|customer_id|product_new_id|      gl_star_rating|  prediction|product_id|star_rating|review_date|          u_rating|    b_userbias_diff|    b_itembias_diff|            predict|\n",
            "+-----------+--------------+--------------------+------------+----------+-----------+-----------+------------------+-------------------+-------------------+-------------------+\n",
            "|    1391785|           180| 0.21920736618961545| -0.30070466|B008ELNDLU|          1| 2015-06-25|3.8531359376181866|-2.2817073661896154|-0.7906359376181866|0.48008797577892093|\n",
            "|    6859636|          1076|-0.49534891086666155|-0.029251734|B00GXHIM2M|          4| 2014-02-07|3.8531359376181866|-0.1864692709515201|  0.828682244199995|  4.466097177071854|\n",
            "|   10092867|          3445|  1.4531359376181867|  0.57890517|B001KC00BG|          3| 2013-05-09|3.8531359376181866|-1.8531359376181866|-0.4531359376181867| 2.1257692275772784|\n",
            "+-----------+--------------+--------------------+------------+----------+-----------+-----------+------------------+-------------------+-------------------+-------------------+\n",
            "only showing top 3 rows\n",
            "\n"
          ],
          "name": "stdout"
        }
      ]
    },
    {
      "cell_type": "code",
      "metadata": {
        "id": "enL3qR_NcyMd",
        "colab_type": "code",
        "colab": {
          "base_uri": "https://localhost:8080/",
          "height": 168
        },
        "outputId": "26c0c774-488b-4924-a932-6be3126f806a"
      },
      "source": [
        "predictions=df_diff2.selectExpr([\"customer_id\", \"product_new_id\", \"star_rating\", \"predict\"])\n",
        "predictions.show(3)"
      ],
      "execution_count": 56,
      "outputs": [
        {
          "output_type": "stream",
          "text": [
            "+-----------+--------------+-----------+-------------------+\n",
            "|customer_id|product_new_id|star_rating|            predict|\n",
            "+-----------+--------------+-----------+-------------------+\n",
            "|    1391785|           180|          1|0.48008797577892093|\n",
            "|    6859636|          1076|          4|  4.466097177071854|\n",
            "|   10092867|          3445|          3| 2.1257692275772784|\n",
            "+-----------+--------------+-----------+-------------------+\n",
            "only showing top 3 rows\n",
            "\n"
          ],
          "name": "stdout"
        }
      ]
    },
    {
      "cell_type": "code",
      "metadata": {
        "id": "U-rTs3gRcyYa",
        "colab_type": "code",
        "colab": {
          "base_uri": "https://localhost:8080/",
          "height": 34
        },
        "outputId": "a5b4a0c4-fca4-4ab1-b1e2-642cfbbf7356"
      },
      "source": [
        "evaluator = RegressionEvaluator(metricName=\"rmse\", labelCol=\"star_rating\",\n",
        "                                predictionCol=\"predict\")\n",
        "rmse = evaluator.evaluate(predictions)\n",
        "print(\"Root-mean-square error = \" + str(rmse))"
      ],
      "execution_count": 57,
      "outputs": [
        {
          "output_type": "stream",
          "text": [
            "Root-mean-square error = 1.01129937507487\n"
          ],
          "name": "stdout"
        }
      ]
    },
    {
      "cell_type": "code",
      "metadata": {
        "id": "O8qHW9tjcydk",
        "colab_type": "code",
        "colab": {}
      },
      "source": [
        ""
      ],
      "execution_count": 0,
      "outputs": []
    },
    {
      "cell_type": "code",
      "metadata": {
        "id": "Y0IqGRVHcyhP",
        "colab_type": "code",
        "colab": {}
      },
      "source": [
        ""
      ],
      "execution_count": 0,
      "outputs": []
    },
    {
      "cell_type": "code",
      "metadata": {
        "id": "ypYH0OHUcycR",
        "colab_type": "code",
        "colab": {}
      },
      "source": [
        ""
      ],
      "execution_count": 0,
      "outputs": []
    },
    {
      "cell_type": "code",
      "metadata": {
        "id": "osb8Ca38cyVX",
        "colab_type": "code",
        "colab": {}
      },
      "source": [
        ""
      ],
      "execution_count": 0,
      "outputs": []
    },
    {
      "cell_type": "code",
      "metadata": {
        "id": "jmIkmqEzcyTg",
        "colab_type": "code",
        "colab": {}
      },
      "source": [
        ""
      ],
      "execution_count": 0,
      "outputs": []
    },
    {
      "cell_type": "code",
      "metadata": {
        "id": "4LnN9m7BcyQw",
        "colab_type": "code",
        "colab": {}
      },
      "source": [
        ""
      ],
      "execution_count": 0,
      "outputs": []
    },
    {
      "cell_type": "code",
      "metadata": {
        "id": "x_3WtKtXcyKf",
        "colab_type": "code",
        "colab": {}
      },
      "source": [
        ""
      ],
      "execution_count": 0,
      "outputs": []
    },
    {
      "cell_type": "code",
      "metadata": {
        "id": "hjALk3TrcyJL",
        "colab_type": "code",
        "colab": {}
      },
      "source": [
        ""
      ],
      "execution_count": 0,
      "outputs": []
    },
    {
      "cell_type": "code",
      "metadata": {
        "id": "ddarqUG5cyCv",
        "colab_type": "code",
        "colab": {}
      },
      "source": [
        ""
      ],
      "execution_count": 0,
      "outputs": []
    }
  ]
}