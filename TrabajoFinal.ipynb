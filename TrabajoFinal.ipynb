{
  "nbformat": 4,
  "nbformat_minor": 0,
  "metadata": {
    "colab": {
      "name": "TrabajoFinal_(Andres)_V2_colab.ipynb",
      "provenance": [],
      "collapsed_sections": [],
      "toc_visible": true
    },
    "kernelspec": {
      "name": "python3",
      "display_name": "Python 3"
    }
  },
  "cells": [
    {
      "cell_type": "markdown",
      "metadata": {
        "id": "2Rc3DSq3rhBc",
        "colab_type": "text"
      },
      "source": [
        "# Sistema de recomendación - Collaborative Filtering\n",
        "\n",
        "Andrés Franco Zapata\\\n",
        "Juliana Ochoa Ramirez\\\n",
        "Juan Esteban Torres Marulanda"
      ]
    },
    {
      "cell_type": "code",
      "metadata": {
        "id": "uliys3jjzkta",
        "colab_type": "code",
        "outputId": "d921f3ba-6be3-4f39-8ebe-e2f2fdbd4901",
        "colab": {
          "base_uri": "https://localhost:8080/",
          "height": 202
        }
      },
      "source": [
        "!wget https://s3.amazonaws.com/amazon-reviews-pds/tsv/amazon_reviews_us_Sports_v1_00.tsv.gz"
      ],
      "execution_count": 1,
      "outputs": [
        {
          "output_type": "stream",
          "text": [
            "--2020-04-17 00:19:08--  https://s3.amazonaws.com/amazon-reviews-pds/tsv/amazon_reviews_us_Sports_v1_00.tsv.gz\n",
            "Resolving s3.amazonaws.com (s3.amazonaws.com)... 52.216.135.29\n",
            "Connecting to s3.amazonaws.com (s3.amazonaws.com)|52.216.135.29|:443... connected.\n",
            "HTTP request sent, awaiting response... 200 OK\n",
            "Length: 872478735 (832M) [application/x-gzip]\n",
            "Saving to: ‘amazon_reviews_us_Sports_v1_00.tsv.gz’\n",
            "\n",
            "amazon_reviews_us_S 100%[===================>] 832.06M  16.5MB/s    in 53s     \n",
            "\n",
            "2020-04-17 00:20:02 (15.6 MB/s) - ‘amazon_reviews_us_Sports_v1_00.tsv.gz’ saved [872478735/872478735]\n",
            "\n"
          ],
          "name": "stdout"
        }
      ]
    },
    {
      "cell_type": "code",
      "metadata": {
        "id": "20ySm65KzqdX",
        "colab_type": "code",
        "outputId": "f98e6f67-3585-4cda-ddb3-70fe5ddce892",
        "colab": {
          "base_uri": "https://localhost:8080/",
          "height": 202
        }
      },
      "source": [
        "!wget https://s3.amazonaws.com/amazon-reviews-pds/tsv/amazon_reviews_us_Video_Games_v1_00.tsv.gz"
      ],
      "execution_count": 2,
      "outputs": [
        {
          "output_type": "stream",
          "text": [
            "--2020-04-17 00:20:04--  https://s3.amazonaws.com/amazon-reviews-pds/tsv/amazon_reviews_us_Video_Games_v1_00.tsv.gz\n",
            "Resolving s3.amazonaws.com (s3.amazonaws.com)... 52.216.144.173\n",
            "Connecting to s3.amazonaws.com (s3.amazonaws.com)|52.216.144.173|:443... connected.\n",
            "HTTP request sent, awaiting response... 200 OK\n",
            "Length: 475199894 (453M) [application/x-gzip]\n",
            "Saving to: ‘amazon_reviews_us_Video_Games_v1_00.tsv.gz’\n",
            "\n",
            "amazon_reviews_us_V 100%[===================>] 453.19M  16.8MB/s    in 29s     \n",
            "\n",
            "2020-04-17 00:20:34 (15.6 MB/s) - ‘amazon_reviews_us_Video_Games_v1_00.tsv.gz’ saved [475199894/475199894]\n",
            "\n"
          ],
          "name": "stdout"
        }
      ]
    },
    {
      "cell_type": "code",
      "metadata": {
        "id": "VwftVilo443e",
        "colab_type": "code",
        "outputId": "400f9be1-9d03-438c-952a-de25dd2a0ffc",
        "colab": {
          "base_uri": "https://localhost:8080/",
          "height": 202
        }
      },
      "source": [
        "!wget https://s3.amazonaws.com/amazon-reviews-pds/tsv/amazon_reviews_us_Digital_Video_Games_v1_00.tsv.gz"
      ],
      "execution_count": 3,
      "outputs": [
        {
          "output_type": "stream",
          "text": [
            "--2020-04-17 00:20:36--  https://s3.amazonaws.com/amazon-reviews-pds/tsv/amazon_reviews_us_Digital_Video_Games_v1_00.tsv.gz\n",
            "Resolving s3.amazonaws.com (s3.amazonaws.com)... 52.216.86.37\n",
            "Connecting to s3.amazonaws.com (s3.amazonaws.com)|52.216.86.37|:443... connected.\n",
            "HTTP request sent, awaiting response... 200 OK\n",
            "Length: 27442648 (26M) [application/x-gzip]\n",
            "Saving to: ‘amazon_reviews_us_Digital_Video_Games_v1_00.tsv.gz’\n",
            "\n",
            "amazon_reviews_us_D 100%[===================>]  26.17M  9.66MB/s    in 2.7s    \n",
            "\n",
            "2020-04-17 00:20:40 (9.66 MB/s) - ‘amazon_reviews_us_Digital_Video_Games_v1_00.tsv.gz’ saved [27442648/27442648]\n",
            "\n"
          ],
          "name": "stdout"
        }
      ]
    },
    {
      "cell_type": "code",
      "metadata": {
        "id": "dEqVPRRuzu-w",
        "colab_type": "code",
        "colab": {}
      },
      "source": [
        "!gzip -d amazon_reviews_us_Sports_v1_00.tsv.gz"
      ],
      "execution_count": 0,
      "outputs": []
    },
    {
      "cell_type": "code",
      "metadata": {
        "id": "_I6iwSr6zx2H",
        "colab_type": "code",
        "colab": {}
      },
      "source": [
        "!gzip -d amazon_reviews_us_Video_Games_v1_00.tsv.gz"
      ],
      "execution_count": 0,
      "outputs": []
    },
    {
      "cell_type": "code",
      "metadata": {
        "id": "RVVhF9SL4-h7",
        "colab_type": "code",
        "colab": {}
      },
      "source": [
        "!gzip -d amazon_reviews_us_Digital_Video_Games_v1_00.tsv.gz"
      ],
      "execution_count": 0,
      "outputs": []
    },
    {
      "cell_type": "code",
      "metadata": {
        "id": "WGdDPpm2z2ny",
        "colab_type": "code",
        "outputId": "96bbe317-1cbf-40dd-ab7f-38cd349b0140",
        "colab": {
          "base_uri": "https://localhost:8080/",
          "height": 84
        }
      },
      "source": [
        "!apt-get install openjdk-8-jdk -qq > /dev/null\n",
        "import os\n",
        "os.environ[\"JAVA_HOME\"] = \"/usr/lib/jvm/java-8-openjdk-amd64\"\n",
        "!update-alternatives --set java /usr/lib/jvm/java-8-openjdk-amd64/jre/bin/java\n",
        "!java -version"
      ],
      "execution_count": 7,
      "outputs": [
        {
          "output_type": "stream",
          "text": [
            "update-alternatives: using /usr/lib/jvm/java-8-openjdk-amd64/jre/bin/java to provide /usr/bin/java (java) in manual mode\n",
            "openjdk version \"1.8.0_242\"\n",
            "OpenJDK Runtime Environment (build 1.8.0_242-8u242-b08-0ubuntu3~18.04-b08)\n",
            "OpenJDK 64-Bit Server VM (build 25.242-b08, mixed mode)\n"
          ],
          "name": "stdout"
        }
      ]
    },
    {
      "cell_type": "code",
      "metadata": {
        "id": "ccH0luHI0G9B",
        "colab_type": "code",
        "outputId": "2e0a6302-90f4-4418-825f-f5659471b6cd",
        "colab": {
          "base_uri": "https://localhost:8080/",
          "height": 255
        }
      },
      "source": [
        "!pip install pyspark"
      ],
      "execution_count": 8,
      "outputs": [
        {
          "output_type": "stream",
          "text": [
            "Collecting pyspark\n",
            "\u001b[?25l  Downloading https://files.pythonhosted.org/packages/9a/5a/271c416c1c2185b6cb0151b29a91fff6fcaed80173c8584ff6d20e46b465/pyspark-2.4.5.tar.gz (217.8MB)\n",
            "\u001b[K     |████████████████████████████████| 217.8MB 59kB/s \n",
            "\u001b[?25hCollecting py4j==0.10.7\n",
            "\u001b[?25l  Downloading https://files.pythonhosted.org/packages/e3/53/c737818eb9a7dc32a7cd4f1396e787bd94200c3997c72c1dbe028587bd76/py4j-0.10.7-py2.py3-none-any.whl (197kB)\n",
            "\u001b[K     |████████████████████████████████| 204kB 46.7MB/s \n",
            "\u001b[?25hBuilding wheels for collected packages: pyspark\n",
            "  Building wheel for pyspark (setup.py) ... \u001b[?25l\u001b[?25hdone\n",
            "  Created wheel for pyspark: filename=pyspark-2.4.5-py2.py3-none-any.whl size=218257927 sha256=19cddce851cecaf6e43b34f7cba58368a27011f26a987c9cc9c700c1d17ccbd7\n",
            "  Stored in directory: /root/.cache/pip/wheels/bf/db/04/61d66a5939364e756eb1c1be4ec5bdce6e04047fc7929a3c3c\n",
            "Successfully built pyspark\n",
            "Installing collected packages: py4j, pyspark\n",
            "Successfully installed py4j-0.10.7 pyspark-2.4.5\n"
          ],
          "name": "stdout"
        }
      ]
    },
    {
      "cell_type": "code",
      "metadata": {
        "id": "a5U62HUD0J3j",
        "colab_type": "code",
        "colab": {
          "base_uri": "https://localhost:8080/",
          "height": 70
        },
        "outputId": "6113d4e7-a23d-485f-fe26-9356e56ecf69"
      },
      "source": [
        "import pandas as pd\n",
        "import numpy as np\n",
        "import seaborn as sn\n",
        "import matplotlib.pyplot as plt\n",
        "from pyspark.sql import SparkSession, Row\n",
        "import pyspark.sql.functions as F\n",
        "from pyspark.sql.types import IntegerType, StructType, StructField, StringType\n",
        "from pyspark.ml import Pipeline\n",
        "from pyspark.ml.evaluation import RegressionEvaluator\n",
        "from pyspark.ml.recommendation import ALS\n",
        "from pyspark.ml.tuning import CrossValidator, ParamGridBuilder\n",
        "from pyspark.ml.feature import VectorAssembler\n",
        "from pyspark.ml.feature import StringIndexer\n",
        "from pyspark.sql.functions import lit, rand\n"
      ],
      "execution_count": 9,
      "outputs": [
        {
          "output_type": "stream",
          "text": [
            "/usr/local/lib/python3.6/dist-packages/statsmodels/tools/_testing.py:19: FutureWarning: pandas.util.testing is deprecated. Use the functions in the public API at pandas.testing instead.\n",
            "  import pandas.util.testing as tm\n"
          ],
          "name": "stderr"
        }
      ]
    },
    {
      "cell_type": "code",
      "metadata": {
        "id": "jwxNikSFbu05",
        "colab_type": "code",
        "colab": {}
      },
      "source": [
        "ratings_df = pd.read_csv('amazon_reviews_us_Digital_Video_Games_v1_00.tsv', sep='\\t', encoding='utf-8', error_bad_lines=False)"
      ],
      "execution_count": 0,
      "outputs": []
    },
    {
      "cell_type": "code",
      "metadata": {
        "id": "X2-oolFSbvMi",
        "colab_type": "code",
        "outputId": "d43ca2f8-f25e-4574-d676-af0716c9d8aa",
        "colab": {
          "base_uri": "https://localhost:8080/",
          "height": 34
        }
      },
      "source": [
        "from sys import getsizeof\n",
        "\n",
        "print(f'Size of data (in GB): {getsizeof(ratings_df)/(10**9)}')"
      ],
      "execution_count": 11,
      "outputs": [
        {
          "output_type": "stream",
          "text": [
            "Size of data (in GB): 0.160239893\n"
          ],
          "name": "stdout"
        }
      ]
    },
    {
      "cell_type": "markdown",
      "metadata": {
        "id": "j4-uUtFPc8kh",
        "colab_type": "text"
      },
      "source": [
        "#**Leer Datos** "
      ]
    },
    {
      "cell_type": "code",
      "metadata": {
        "id": "bUWdM_It0NF3",
        "colab_type": "code",
        "colab": {}
      },
      "source": [
        "spark = SparkSession.builder\\\n",
        "       .appName(\"Simple recommendation engine using Spark MLlib\")\\\n",
        "       .config(\"spark.some.config.option\", \"config-value\")\\\n",
        "       .getOrCreate()"
      ],
      "execution_count": 0,
      "outputs": []
    },
    {
      "cell_type": "code",
      "metadata": {
        "id": "ZMr2m9a50SpY",
        "colab_type": "code",
        "colab": {}
      },
      "source": [
        "#sports_df = spark.read.csv(\"amazon_reviews_us_Sports_v1_00.tsv\", sep='\\t',header=True)\n",
        "#games_df  = spark.read.csv(\"amazon_reviews_us_Video_Games_v1_00.tsv\", sep='\\t',header=True)\n",
        "\n",
        "#ratings_df = sports_df.union(games_df)\n",
        "\n",
        "ratings_df = spark.read.csv(\"amazon_reviews_us_Digital_Video_Games_v1_00.tsv\", sep='\\t',header=True)"
      ],
      "execution_count": 0,
      "outputs": []
    },
    {
      "cell_type": "code",
      "metadata": {
        "id": "EbLWYdH3PCha",
        "colab_type": "code",
        "outputId": "6de0bb96-a100-42a5-e136-f475cfbfd62e",
        "colab": {
          "base_uri": "https://localhost:8080/",
          "height": 34
        }
      },
      "source": [
        "print((ratings_df.count(), len(ratings_df.columns)))"
      ],
      "execution_count": 14,
      "outputs": [
        {
          "output_type": "stream",
          "text": [
            "(145431, 15)\n"
          ],
          "name": "stdout"
        }
      ]
    },
    {
      "cell_type": "code",
      "metadata": {
        "id": "okLJDaxE0h6F",
        "colab_type": "code",
        "outputId": "8e2d7a65-a7d3-459e-a9f5-811770b781ad",
        "colab": {
          "base_uri": "https://localhost:8080/",
          "height": 302
        }
      },
      "source": [
        "ratings_df.printSchema()"
      ],
      "execution_count": 15,
      "outputs": [
        {
          "output_type": "stream",
          "text": [
            "root\n",
            " |-- marketplace: string (nullable = true)\n",
            " |-- customer_id: string (nullable = true)\n",
            " |-- review_id: string (nullable = true)\n",
            " |-- product_id: string (nullable = true)\n",
            " |-- product_parent: string (nullable = true)\n",
            " |-- product_title: string (nullable = true)\n",
            " |-- product_category: string (nullable = true)\n",
            " |-- star_rating: string (nullable = true)\n",
            " |-- helpful_votes: string (nullable = true)\n",
            " |-- total_votes: string (nullable = true)\n",
            " |-- vine: string (nullable = true)\n",
            " |-- verified_purchase: string (nullable = true)\n",
            " |-- review_headline: string (nullable = true)\n",
            " |-- review_body: string (nullable = true)\n",
            " |-- review_date: string (nullable = true)\n",
            "\n"
          ],
          "name": "stdout"
        }
      ]
    },
    {
      "cell_type": "code",
      "metadata": {
        "id": "ytZMIqyfb-hp",
        "colab_type": "code",
        "outputId": "099aa47e-3919-4099-f0f0-4f42cf520712",
        "colab": {
          "base_uri": "https://localhost:8080/",
          "height": 50
        }
      },
      "source": [
        "from sys import getsizeof\n",
        "\n",
        "print(f'Size of data (in GB): {getsizeof(ratings_df)/(10**9)}')\n",
        "\n",
        "print(\"In total there are {0} operations\".format(ratings_df.count()))"
      ],
      "execution_count": 16,
      "outputs": [
        {
          "output_type": "stream",
          "text": [
            "Size of data (in GB): 5.6e-08\n",
            "In total there are 145431 operations\n"
          ],
          "name": "stdout"
        }
      ]
    },
    {
      "cell_type": "code",
      "metadata": {
        "id": "rBQCGrdV0k_A",
        "colab_type": "code",
        "outputId": "1cd33c9b-c280-469f-fba0-ad5855d9867a",
        "colab": {
          "base_uri": "https://localhost:8080/",
          "height": 222
        }
      },
      "source": [
        "ratings_df.select(\"customer_id\",'review_id','product_id','product_title','product_category','star_rating','review_headline','review_body','review_date').show(5)"
      ],
      "execution_count": 17,
      "outputs": [
        {
          "output_type": "stream",
          "text": [
            "+-----------+--------------+----------+--------------------+-------------------+-----------+--------------------+--------------------+-----------+\n",
            "|customer_id|     review_id|product_id|       product_title|   product_category|star_rating|     review_headline|         review_body|review_date|\n",
            "+-----------+--------------+----------+--------------------+-------------------+-----------+--------------------+--------------------+-----------+\n",
            "|   21269168| RSH1OZ87OYK92|B013PURRZW|Madden NFL 16 - X...|Digital_Video_Games|          2|A slight improvem...|I keep buying mad...| 2015-08-31|\n",
            "|     133437|R1WFOQ3N9BO65I|B00F4CEHNK| Xbox Live Gift Card|Digital_Video_Games|          5|          Five Stars|             Awesome| 2015-08-31|\n",
            "|   45765011| R3YOOS71KM5M9|B00DNHLFQA|Command & Conquer...|Digital_Video_Games|          5|Hail to the great...|If you are preppi...| 2015-08-31|\n",
            "|     113118|R3R14UATT3OUFU|B004RMK5QG|Playstation Plus ...|Digital_Video_Games|          5|          Five Stars|             Perfect| 2015-08-31|\n",
            "|   22151364| RV2W9SGDNQA2C|B00G9BNLQE|Saints Row IV - E...|Digital_Video_Games|          5|          Five Stars|            Awesome!| 2015-08-31|\n",
            "+-----------+--------------+----------+--------------------+-------------------+-----------+--------------------+--------------------+-----------+\n",
            "only showing top 5 rows\n",
            "\n"
          ],
          "name": "stdout"
        }
      ]
    },
    {
      "cell_type": "markdown",
      "metadata": {
        "id": "y3cIWJ0Ph8ra",
        "colab_type": "text"
      },
      "source": [
        "#**Limpiar Datos** "
      ]
    },
    {
      "cell_type": "code",
      "metadata": {
        "id": "f3_sm7H9Gb9V",
        "colab_type": "code",
        "outputId": "78cfb000-035e-4cb4-bfd9-ce56bb54da7d",
        "colab": {
          "base_uri": "https://localhost:8080/",
          "height": 474
        }
      },
      "source": [
        "indexer_product_id = StringIndexer(inputCol=\"product_id\", outputCol=\"product_new_id\")\n",
        "ratings_df = indexer_product_id.fit(ratings_df).transform(ratings_df)\n",
        " \n",
        "ratings_df.show()"
      ],
      "execution_count": 18,
      "outputs": [
        {
          "output_type": "stream",
          "text": [
            "+-----------+-----------+--------------+----------+--------------+--------------------+-------------------+-----------+-------------+-----------+----+-----------------+--------------------+--------------------+-----------+--------------+\n",
            "|marketplace|customer_id|     review_id|product_id|product_parent|       product_title|   product_category|star_rating|helpful_votes|total_votes|vine|verified_purchase|     review_headline|         review_body|review_date|product_new_id|\n",
            "+-----------+-----------+--------------+----------+--------------+--------------------+-------------------+-----------+-------------+-----------+----+-----------------+--------------------+--------------------+-----------+--------------+\n",
            "|         US|   21269168| RSH1OZ87OYK92|B013PURRZW|     603406193|Madden NFL 16 - X...|Digital_Video_Games|          2|            2|          3|   N|                N|A slight improvem...|I keep buying mad...| 2015-08-31|        4686.0|\n",
            "|         US|     133437|R1WFOQ3N9BO65I|B00F4CEHNK|     341969535| Xbox Live Gift Card|Digital_Video_Games|          5|            0|          0|   N|                Y|          Five Stars|             Awesome| 2015-08-31|          11.0|\n",
            "|         US|   45765011| R3YOOS71KM5M9|B00DNHLFQA|     951665344|Command & Conquer...|Digital_Video_Games|          5|            0|          0|   N|                Y|Hail to the great...|If you are preppi...| 2015-08-31|         190.0|\n",
            "|         US|     113118|R3R14UATT3OUFU|B004RMK5QG|     395682204|Playstation Plus ...|Digital_Video_Games|          5|            0|          0|   N|                Y|          Five Stars|             Perfect| 2015-08-31|           4.0|\n",
            "|         US|   22151364| RV2W9SGDNQA2C|B00G9BNLQE|     640460561|Saints Row IV - E...|Digital_Video_Games|          5|            0|          0|   N|                Y|          Five Stars|            Awesome!| 2015-08-31|        6557.0|\n",
            "|         US|   22151364|R3CFKLIZ0I2KOB|B00IMIL498|     621922192|Double Dragon: Ne...|Digital_Video_Games|          5|            0|          0|   N|                Y|          Five Stars|            Awesome!| 2015-08-31|        2843.0|\n",
            "|         US|   38426028|R1LRYU1V0T3O38|B00S00IJH8|     215163395|              Sims 4|Digital_Video_Games|          4|            0|          0|   N|                Y|i like the new sk...|i like the new sk...| 2015-08-31|         231.0|\n",
            "|         US|    6057518| R44QKV6FE5CJ2|B004RMK4BC|     384246568|Playstation Netwo...|Digital_Video_Games|          5|            0|          0|   N|                Y|          Five Stars|               Super| 2015-08-31|           1.0|\n",
            "|         US|   20715661|R2TX1KLPXXXNYS|B00K59HKIQ|     384246568|Playstation Netwo...|Digital_Video_Games|          5|            0|          0|   N|                Y|         Easy & Fast|Excellent, fast a...| 2015-08-31|          17.0|\n",
            "|         US|   26540306|R1JEEW4C6R89BA|B00K59HKIQ|     384246568|Playstation Netwo...|Digital_Video_Games|          5|            0|          0|   N|                Y|          Five Stars|                  Ok| 2015-08-31|          17.0|\n",
            "|         US|    8926809|R3B3UHK1FO0ERS|B004774IPU|     151985175|Sid Meier's Civil...|Digital_Video_Games|          1|            0|          0|   N|                N|I am still playin...|As has been writt...| 2015-08-31|          21.0|\n",
            "|         US|   31525534|R2GVSDHW513SS1|B002LIT9EC|     695277014|Build-a-lot 4: Po...|Digital_Video_Games|          5|            0|          0|   N|                Y|Probably the best...|Probably the best...| 2015-08-31|         894.0|\n",
            "|         US|   22151364|R1R1NT516PYT73|B008ALUBYQ|     112160022|       Borderlands 2|Digital_Video_Games|          5|            0|          0|   N|                Y|          Five Stars|            Awesome!| 2015-08-31|          40.0|\n",
            "|         US|   22977584|R3K624QDQKENN9|B010KYDNDG|     835376637|Minecraft for PC/...|Digital_Video_Games|          4|            0|          0|   N|                Y|                 FUN|COOL BUT IT LAGES...| 2015-08-31|         714.0|\n",
            "|         US|   45765011| R1FOXH7PCJX3V|B008ALUBYQ|     112160022|       Borderlands 2|Digital_Video_Games|          1|            0|          2|   N|                Y|            One Star|Lames purchase I ...| 2015-08-31|          40.0|\n",
            "|         US|    2239522| RA1246M1OMDWC|B004RMK4P8|     384246568|Playstation Netwo...|Digital_Video_Games|          5|            0|          0|   N|                Y|          Five Stars|               Great| 2015-08-31|           3.0|\n",
            "|         US|   48805811|R2I9SXWB0PAEKQ|B004RMK5QG|     395682204|Playstation Plus ...|Digital_Video_Games|          5|            0|          0|   N|                Y|          Five Stars|          Awesome!!!| 2015-08-31|           4.0|\n",
            "|         US|   18646481|R3UGL544NA0G9C|B00BI16Z22|     552981447|Brink of Consciou...|Digital_Video_Games|          4|            0|          0|   N|                Y|       worth playing|pretty good but n...| 2015-08-31|        2730.0|\n",
            "|         US|   10310935|R1CBA4Y92GVAVM|B004VSTQ2A|     232803743|Xbox Live Subscri...|Digital_Video_Games|          5|            0|          0|   N|                Y|          Five Stars|What can I say......| 2015-08-31|           6.0|\n",
            "|         US|    5587610|R24NEKNR01VEHU|B00GAC1D2G|     384246568|Playstation Netwo...|Digital_Video_Games|          5|            0|          0|   N|                Y|        Just amazing|Very fast to rece...| 2015-08-31|           2.0|\n",
            "+-----------+-----------+--------------+----------+--------------+--------------------+-------------------+-----------+-------------+-----------+----+-----------------+--------------------+--------------------+-----------+--------------+\n",
            "only showing top 20 rows\n",
            "\n"
          ],
          "name": "stdout"
        }
      ]
    },
    {
      "cell_type": "code",
      "metadata": {
        "id": "2T8dKM4M1Fiy",
        "colab_type": "code",
        "outputId": "2a91d24a-d604-4bda-a85a-5f3144536a73",
        "colab": {
          "base_uri": "https://localhost:8080/",
          "height": 474
        }
      },
      "source": [
        "ratings_df.registerTempTable(\"temp1\")\n",
        "query = \"\"\"\n",
        "SELECT \n",
        "  marketplace, \n",
        "  customer_id, \n",
        "  review_id, \n",
        "  product_id, \n",
        "  product_parent, \n",
        "  product_title, \n",
        "  product_category, \n",
        "  cast(star_rating as int) as star_rating, \n",
        "  helpful_votes, \n",
        "  total_votes, \n",
        "  vine, \n",
        "  verified_purchase, \n",
        "  review_headline, \n",
        "  review_body, \n",
        "  review_date,\n",
        "  product_new_id\n",
        "FROM temp1 as t1\n",
        "where star_rating in (1,2,3,4,5,'1','2','3','4','5')\n",
        "\"\"\"\n",
        "ratings_df = spark.sql(query)\n",
        "ratings_df.show()"
      ],
      "execution_count": 19,
      "outputs": [
        {
          "output_type": "stream",
          "text": [
            "+-----------+-----------+--------------+----------+--------------+--------------------+-------------------+-----------+-------------+-----------+----+-----------------+--------------------+--------------------+-----------+--------------+\n",
            "|marketplace|customer_id|     review_id|product_id|product_parent|       product_title|   product_category|star_rating|helpful_votes|total_votes|vine|verified_purchase|     review_headline|         review_body|review_date|product_new_id|\n",
            "+-----------+-----------+--------------+----------+--------------+--------------------+-------------------+-----------+-------------+-----------+----+-----------------+--------------------+--------------------+-----------+--------------+\n",
            "|         US|   21269168| RSH1OZ87OYK92|B013PURRZW|     603406193|Madden NFL 16 - X...|Digital_Video_Games|          2|            2|          3|   N|                N|A slight improvem...|I keep buying mad...| 2015-08-31|        4686.0|\n",
            "|         US|     133437|R1WFOQ3N9BO65I|B00F4CEHNK|     341969535| Xbox Live Gift Card|Digital_Video_Games|          5|            0|          0|   N|                Y|          Five Stars|             Awesome| 2015-08-31|          11.0|\n",
            "|         US|   45765011| R3YOOS71KM5M9|B00DNHLFQA|     951665344|Command & Conquer...|Digital_Video_Games|          5|            0|          0|   N|                Y|Hail to the great...|If you are preppi...| 2015-08-31|         190.0|\n",
            "|         US|     113118|R3R14UATT3OUFU|B004RMK5QG|     395682204|Playstation Plus ...|Digital_Video_Games|          5|            0|          0|   N|                Y|          Five Stars|             Perfect| 2015-08-31|           4.0|\n",
            "|         US|   22151364| RV2W9SGDNQA2C|B00G9BNLQE|     640460561|Saints Row IV - E...|Digital_Video_Games|          5|            0|          0|   N|                Y|          Five Stars|            Awesome!| 2015-08-31|        6557.0|\n",
            "|         US|   22151364|R3CFKLIZ0I2KOB|B00IMIL498|     621922192|Double Dragon: Ne...|Digital_Video_Games|          5|            0|          0|   N|                Y|          Five Stars|            Awesome!| 2015-08-31|        2843.0|\n",
            "|         US|   38426028|R1LRYU1V0T3O38|B00S00IJH8|     215163395|              Sims 4|Digital_Video_Games|          4|            0|          0|   N|                Y|i like the new sk...|i like the new sk...| 2015-08-31|         231.0|\n",
            "|         US|    6057518| R44QKV6FE5CJ2|B004RMK4BC|     384246568|Playstation Netwo...|Digital_Video_Games|          5|            0|          0|   N|                Y|          Five Stars|               Super| 2015-08-31|           1.0|\n",
            "|         US|   20715661|R2TX1KLPXXXNYS|B00K59HKIQ|     384246568|Playstation Netwo...|Digital_Video_Games|          5|            0|          0|   N|                Y|         Easy & Fast|Excellent, fast a...| 2015-08-31|          17.0|\n",
            "|         US|   26540306|R1JEEW4C6R89BA|B00K59HKIQ|     384246568|Playstation Netwo...|Digital_Video_Games|          5|            0|          0|   N|                Y|          Five Stars|                  Ok| 2015-08-31|          17.0|\n",
            "|         US|    8926809|R3B3UHK1FO0ERS|B004774IPU|     151985175|Sid Meier's Civil...|Digital_Video_Games|          1|            0|          0|   N|                N|I am still playin...|As has been writt...| 2015-08-31|          21.0|\n",
            "|         US|   31525534|R2GVSDHW513SS1|B002LIT9EC|     695277014|Build-a-lot 4: Po...|Digital_Video_Games|          5|            0|          0|   N|                Y|Probably the best...|Probably the best...| 2015-08-31|         894.0|\n",
            "|         US|   22151364|R1R1NT516PYT73|B008ALUBYQ|     112160022|       Borderlands 2|Digital_Video_Games|          5|            0|          0|   N|                Y|          Five Stars|            Awesome!| 2015-08-31|          40.0|\n",
            "|         US|   22977584|R3K624QDQKENN9|B010KYDNDG|     835376637|Minecraft for PC/...|Digital_Video_Games|          4|            0|          0|   N|                Y|                 FUN|COOL BUT IT LAGES...| 2015-08-31|         714.0|\n",
            "|         US|   45765011| R1FOXH7PCJX3V|B008ALUBYQ|     112160022|       Borderlands 2|Digital_Video_Games|          1|            0|          2|   N|                Y|            One Star|Lames purchase I ...| 2015-08-31|          40.0|\n",
            "|         US|    2239522| RA1246M1OMDWC|B004RMK4P8|     384246568|Playstation Netwo...|Digital_Video_Games|          5|            0|          0|   N|                Y|          Five Stars|               Great| 2015-08-31|           3.0|\n",
            "|         US|   48805811|R2I9SXWB0PAEKQ|B004RMK5QG|     395682204|Playstation Plus ...|Digital_Video_Games|          5|            0|          0|   N|                Y|          Five Stars|          Awesome!!!| 2015-08-31|           4.0|\n",
            "|         US|   18646481|R3UGL544NA0G9C|B00BI16Z22|     552981447|Brink of Consciou...|Digital_Video_Games|          4|            0|          0|   N|                Y|       worth playing|pretty good but n...| 2015-08-31|        2730.0|\n",
            "|         US|   10310935|R1CBA4Y92GVAVM|B004VSTQ2A|     232803743|Xbox Live Subscri...|Digital_Video_Games|          5|            0|          0|   N|                Y|          Five Stars|What can I say......| 2015-08-31|           6.0|\n",
            "|         US|    5587610|R24NEKNR01VEHU|B00GAC1D2G|     384246568|Playstation Netwo...|Digital_Video_Games|          5|            0|          0|   N|                Y|        Just amazing|Very fast to rece...| 2015-08-31|           2.0|\n",
            "+-----------+-----------+--------------+----------+--------------+--------------------+-------------------+-----------+-------------+-----------+----+-----------------+--------------------+--------------------+-----------+--------------+\n",
            "only showing top 20 rows\n",
            "\n"
          ],
          "name": "stdout"
        }
      ]
    },
    {
      "cell_type": "code",
      "metadata": {
        "id": "kA3E3Utq1QU7",
        "colab_type": "code",
        "outputId": "7dda4282-437e-4643-cacf-75e4a8194ea5",
        "colab": {
          "base_uri": "https://localhost:8080/",
          "height": 454
        }
      },
      "source": [
        "ratings_df.registerTempTable(\"temp2\")\n",
        "query = \"\"\"\n",
        "SELECT \n",
        "  cast(customer_id as int) as customer_id, \n",
        "  cast(product_new_id as int) as product_new_id,\n",
        "  product_id,\n",
        "  star_rating,\n",
        "  product_title\n",
        "FROM temp2 as t1\n",
        "where cast(customer_id as int) is not null and\n",
        "      cast(product_new_id as int) is not null and\n",
        "      star_rating              is not null\n",
        "\"\"\"\n",
        "ratings_df = spark.sql(query)\n",
        "ratings_df.show()"
      ],
      "execution_count": 20,
      "outputs": [
        {
          "output_type": "stream",
          "text": [
            "+-----------+--------------+----------+-----------+--------------------+\n",
            "|customer_id|product_new_id|product_id|star_rating|       product_title|\n",
            "+-----------+--------------+----------+-----------+--------------------+\n",
            "|   21269168|          4686|B013PURRZW|          2|Madden NFL 16 - X...|\n",
            "|     133437|            11|B00F4CEHNK|          5| Xbox Live Gift Card|\n",
            "|   45765011|           190|B00DNHLFQA|          5|Command & Conquer...|\n",
            "|     113118|             4|B004RMK5QG|          5|Playstation Plus ...|\n",
            "|   22151364|          6557|B00G9BNLQE|          5|Saints Row IV - E...|\n",
            "|   22151364|          2843|B00IMIL498|          5|Double Dragon: Ne...|\n",
            "|   38426028|           231|B00S00IJH8|          4|              Sims 4|\n",
            "|    6057518|             1|B004RMK4BC|          5|Playstation Netwo...|\n",
            "|   20715661|            17|B00K59HKIQ|          5|Playstation Netwo...|\n",
            "|   26540306|            17|B00K59HKIQ|          5|Playstation Netwo...|\n",
            "|    8926809|            21|B004774IPU|          1|Sid Meier's Civil...|\n",
            "|   31525534|           894|B002LIT9EC|          5|Build-a-lot 4: Po...|\n",
            "|   22151364|            40|B008ALUBYQ|          5|       Borderlands 2|\n",
            "|   22977584|           714|B010KYDNDG|          4|Minecraft for PC/...|\n",
            "|   45765011|            40|B008ALUBYQ|          1|       Borderlands 2|\n",
            "|    2239522|             3|B004RMK4P8|          5|Playstation Netwo...|\n",
            "|   48805811|             4|B004RMK5QG|          5|Playstation Plus ...|\n",
            "|   18646481|          2730|B00BI16Z22|          4|Brink of Consciou...|\n",
            "|   10310935|             6|B004VSTQ2A|          5|Xbox Live Subscri...|\n",
            "|    5587610|             2|B00GAC1D2G|          5|Playstation Netwo...|\n",
            "+-----------+--------------+----------+-----------+--------------------+\n",
            "only showing top 20 rows\n",
            "\n"
          ],
          "name": "stdout"
        }
      ]
    },
    {
      "cell_type": "code",
      "metadata": {
        "id": "dMX8ND_IsqoZ",
        "colab_type": "code",
        "outputId": "868ce24a-7584-40de-f525-351c98c38d4b",
        "colab": {
          "base_uri": "https://localhost:8080/",
          "height": 34
        }
      },
      "source": [
        "print((ratings_df.count(), len(ratings_df.columns)))"
      ],
      "execution_count": 21,
      "outputs": [
        {
          "output_type": "stream",
          "text": [
            "(145431, 5)\n"
          ],
          "name": "stdout"
        }
      ]
    },
    {
      "cell_type": "markdown",
      "metadata": {
        "id": "LFF1AzEoh_cu",
        "colab_type": "text"
      },
      "source": [
        "# Análisis Descriptivo"
      ]
    },
    {
      "cell_type": "code",
      "metadata": {
        "id": "4BjD6vjyhH47",
        "colab_type": "code",
        "outputId": "1496ed61-226b-403e-e826-6b2acaa8f5e2",
        "colab": {
          "base_uri": "https://localhost:8080/",
          "height": 134
        }
      },
      "source": [
        "ratings_df.registerTempTable(\"desc\")\n",
        "query_total_users = \"\"\"\n",
        "select count(distinct customer_id) as total_clientes\n",
        "from desc\n",
        "\"\"\"\n",
        "print(spark.sql(query_total_users).show())"
      ],
      "execution_count": 22,
      "outputs": [
        {
          "output_type": "stream",
          "text": [
            "+--------------+\n",
            "|total_clientes|\n",
            "+--------------+\n",
            "|        113405|\n",
            "+--------------+\n",
            "\n",
            "None\n"
          ],
          "name": "stdout"
        }
      ]
    },
    {
      "cell_type": "code",
      "metadata": {
        "id": "DXMqrnLgiMEn",
        "colab_type": "code",
        "outputId": "add0cd06-0686-4ead-a5eb-cb1cfb9db2fd",
        "colab": {
          "base_uri": "https://localhost:8080/",
          "height": 134
        }
      },
      "source": [
        "query_total_product = \"\"\"\n",
        "select count(distinct product_id) as total_productos\n",
        "from desc\n",
        "\"\"\"\n",
        "print(spark.sql(query_total_product).show())"
      ],
      "execution_count": 23,
      "outputs": [
        {
          "output_type": "stream",
          "text": [
            "+---------------+\n",
            "|total_productos|\n",
            "+---------------+\n",
            "|           7948|\n",
            "+---------------+\n",
            "\n",
            "None\n"
          ],
          "name": "stdout"
        }
      ]
    },
    {
      "cell_type": "code",
      "metadata": {
        "id": "1iv2LEGuidY_",
        "colab_type": "code",
        "outputId": "f0666125-5333-49e7-9a29-fa5731391af9",
        "colab": {
          "base_uri": "https://localhost:8080/",
          "height": 202
        }
      },
      "source": [
        "query_user_rating = \"\"\"\n",
        "SELECT star_rating, count(*) as calif\n",
        "FROM desc \n",
        "GROUP BY star_rating\n",
        "ORDER BY star_rating DESC\n",
        "\"\"\"\n",
        "\n",
        "print(spark.sql(query_user_rating).show())"
      ],
      "execution_count": 24,
      "outputs": [
        {
          "output_type": "stream",
          "text": [
            "+-----------+-----+\n",
            "|star_rating|calif|\n",
            "+-----------+-----+\n",
            "|          5|80677|\n",
            "|          4|20406|\n",
            "|          3|11629|\n",
            "|          2| 7749|\n",
            "|          1|24970|\n",
            "+-----------+-----+\n",
            "\n",
            "None\n"
          ],
          "name": "stdout"
        }
      ]
    },
    {
      "cell_type": "code",
      "metadata": {
        "id": "E7u8tLiGidWc",
        "colab_type": "code",
        "outputId": "e166a7e4-05a7-4c36-a16e-b552641d4f65",
        "colab": {
          "base_uri": "https://localhost:8080/",
          "height": 297
        }
      },
      "source": [
        "califications_pd = spark.sql(query_user_rating).toPandas()\n",
        "sn.barplot(x=\"star_rating\", y=\"calif\",  data=califications_pd)"
      ],
      "execution_count": 25,
      "outputs": [
        {
          "output_type": "execute_result",
          "data": {
            "text/plain": [
              "<matplotlib.axes._subplots.AxesSubplot at 0x7fdbc9a8f860>"
            ]
          },
          "metadata": {
            "tags": []
          },
          "execution_count": 25
        },
        {
          "output_type": "display_data",
          "data": {
            "image/png": "[encoded data removed]",
            "text/plain": [
              "<Figure size 432x288 with 1 Axes>"
            ]
          },
          "metadata": {
            "tags": [],
            "needs_background": "light"
          }
        }
      ]
    },
    {
      "cell_type": "code",
      "metadata": {
        "id": "wLqksrJaprlu",
        "colab_type": "code",
        "outputId": "ca20e95f-d751-4b51-b3c1-915790127e2b",
        "colab": {
          "base_uri": "https://localhost:8080/",
          "height": 470
        }
      },
      "source": [
        "query_user_rating_total = \"\"\"\n",
        "SELECT customer_id, count(*) as reviews\n",
        "FROM desc\n",
        "GROUP BY customer_id\n",
        "ORDER BY reviews DESC\n",
        "\"\"\"\n",
        "\n",
        "print(spark.sql(query_user_rating_total).show())"
      ],
      "execution_count": 26,
      "outputs": [
        {
          "output_type": "stream",
          "text": [
            "+-----------+-------+\n",
            "|customer_id|reviews|\n",
            "+-----------+-------+\n",
            "|   21925455|     95|\n",
            "|   40955995|     92|\n",
            "|   23564949|     83|\n",
            "|   52520442|     73|\n",
            "|   14279279|     72|\n",
            "|   51520185|     65|\n",
            "|   20751317|     54|\n",
            "|   50529050|     49|\n",
            "|   25575022|     49|\n",
            "|   11584162|     49|\n",
            "|   39942708|     48|\n",
            "|   36527466|     48|\n",
            "|   31012456|     46|\n",
            "|   52919259|     45|\n",
            "|   46544620|     43|\n",
            "|   19371429|     43|\n",
            "|   53080901|     42|\n",
            "|   26151231|     42|\n",
            "|   45688707|     40|\n",
            "|   14222166|     39|\n",
            "+-----------+-------+\n",
            "only showing top 20 rows\n",
            "\n",
            "None\n"
          ],
          "name": "stdout"
        }
      ]
    },
    {
      "cell_type": "code",
      "metadata": {
        "id": "H3qy_cNiqfRp",
        "colab_type": "code",
        "outputId": "0083a9ef-4c8d-404c-bb1d-581599861467",
        "colab": {
          "base_uri": "https://localhost:8080/",
          "height": 391
        }
      },
      "source": [
        "user_rating_pd = spark.sql(query_user_rating_total).toPandas()\n",
        "\n",
        "plt.figure(figsize=(12, 6))\n",
        "sn.distplot(user_rating_pd[['reviews']],bins=5)"
      ],
      "execution_count": 27,
      "outputs": [
        {
          "output_type": "execute_result",
          "data": {
            "text/plain": [
              "<matplotlib.axes._subplots.AxesSubplot at 0x7fdbca305588>"
            ]
          },
          "metadata": {
            "tags": []
          },
          "execution_count": 27
        },
        {
          "output_type": "display_data",
          "data": {
            "image/png": "[encoded data removed]",
            "text/plain": [
              "<Figure size 864x432 with 1 Axes>"
            ]
          },
          "metadata": {
            "tags": [],
            "needs_background": "light"
          }
        }
      ]
    },
    {
      "cell_type": "markdown",
      "metadata": {
        "id": "99duvfL2hIYF",
        "colab_type": "text"
      },
      "source": [
        "# Latent Factor Model - alternating least squares (ALS) algorithm"
      ]
    },
    {
      "cell_type": "code",
      "metadata": {
        "id": "r9uX9JTb1RlB",
        "colab_type": "code",
        "outputId": "1c67542a-0553-4977-de2c-8c7821f138d0",
        "colab": {
          "base_uri": "https://localhost:8080/",
          "height": 454
        }
      },
      "source": [
        "(training, test) = ratings_df.randomSplit([0.8, 0.2])\n",
        "training.cache()\n",
        "test.cache()\n",
        "training.show()"
      ],
      "execution_count": 28,
      "outputs": [
        {
          "output_type": "stream",
          "text": [
            "+-----------+--------------+----------+-----------+--------------------+\n",
            "|customer_id|product_new_id|product_id|star_rating|       product_title|\n",
            "+-----------+--------------+----------+-----------+--------------------+\n",
            "|      10775|             2|B00GAC1D2G|          5|Playstation Netwo...|\n",
            "|      11032|           817|B00SRZH210|          1|Life is Strange -...|\n",
            "|      12739|            11|B00F4CEHNK|          5| Xbox Live Gift Card|\n",
            "|      12752|           266|B00LLIQW20|          3|             Destiny|\n",
            "|      12912|          1951|B00513EPMA|          5|Hidden Object Mov...|\n",
            "|      13446|             2|B00GAC1D2G|          4|Playstation Netwo...|\n",
            "|      13455|            42|B007W3ZZS0|          1|            Crysis 3|\n",
            "|      14485|             2|B00GAC1D2G|          5|Playstation Netwo...|\n",
            "|      14736|          1542|B001QFY7XO|          4|Westward III: Gol...|\n",
            "|      14779|             2|B00GAC1D2G|          5|Playstation Netwo...|\n",
            "|      15311|           843|B00ATF5YY8|          3|Singularity [Onli...|\n",
            "|      15815|          1466|B009ADMTZC|          5|The Amazing Spide...|\n",
            "|      16021|           284|B0062Q5K5G|          3|Call of Duty: Bla...|\n",
            "|      16131|           373|B00TEC9XH6|          5|              Sims 4|\n",
            "|      16165|             6|B004VSTQ2A|          5|Xbox Live Subscri...|\n",
            "|      16728|            26|B00457VJ3G|          4|SimCity 4 Deluxe ...|\n",
            "|      17085|            52|B00D8FUHFC|          5|Borderlands Bundl...|\n",
            "|      17430|             2|B00GAC1D2G|          5|Playstation Netwo...|\n",
            "|      17770|            11|B00F4CEHNK|          5| Xbox Live Gift Card|\n",
            "|      18181|           106|B00GXHJHHG|          5|The Elder Scrolls...|\n",
            "+-----------+--------------+----------+-----------+--------------------+\n",
            "only showing top 20 rows\n",
            "\n"
          ],
          "name": "stdout"
        }
      ]
    },
    {
      "cell_type": "code",
      "metadata": {
        "id": "I3nzIpjs1Rn9",
        "colab_type": "code",
        "outputId": "bda43f33-b45a-494b-b94d-98c7aa7cf3c7",
        "colab": {
          "base_uri": "https://localhost:8080/",
          "height": 34
        }
      },
      "source": [
        "from time import time\n",
        "\n",
        "start_time = time()\n",
        "\n",
        "als = ALS(userCol=\"customer_id\", itemCol=\"product_new_id\", ratingCol=\"star_rating\",\n",
        "          coldStartStrategy=\"drop\", nonnegative=True) #rank=10, maxIter=10, regParam=0.1\n",
        "model = als.fit(training)\n",
        "\n",
        "elapsed_time = time() - start_time\n",
        "print(\"Elapsed time: %.10f seconds.\" % elapsed_time)\n",
        "\n"
      ],
      "execution_count": 29,
      "outputs": [
        {
          "output_type": "stream",
          "text": [
            "Elapsed time: 14.5371332169 seconds.\n"
          ],
          "name": "stdout"
        }
      ]
    },
    {
      "cell_type": "code",
      "metadata": {
        "id": "taiFBjol1RtR",
        "colab_type": "code",
        "outputId": "3c64d7c5-3191-4232-b10b-263b28415fab",
        "colab": {
          "base_uri": "https://localhost:8080/",
          "height": 50
        }
      },
      "source": [
        "start_time = time()\n",
        "\n",
        "predictions = model.transform(test)\n",
        "evaluator = RegressionEvaluator(metricName=\"rmse\", labelCol=\"star_rating\",\n",
        "                                predictionCol=\"prediction\")\n",
        "rmse = evaluator.evaluate(predictions)\n",
        "print(\"Root-mean-square error = \" + str(rmse))\n",
        "\n",
        "elapsed_time = time() - start_time\n",
        "print(\"Elapsed time: %.10f seconds.\" % elapsed_time)"
      ],
      "execution_count": 30,
      "outputs": [
        {
          "output_type": "stream",
          "text": [
            "Root-mean-square error = 1.824152668773879\n",
            "Elapsed time: 15.3404986858 seconds.\n"
          ],
          "name": "stdout"
        }
      ]
    },
    {
      "cell_type": "code",
      "metadata": {
        "id": "PVOO4u-f1Ry1",
        "colab_type": "code",
        "outputId": "04829ecd-e9e7-440f-c078-3a051926d7c6",
        "colab": {
          "base_uri": "https://localhost:8080/",
          "height": 454
        }
      },
      "source": [
        "predictions.show()"
      ],
      "execution_count": 31,
      "outputs": [
        {
          "output_type": "stream",
          "text": [
            "+-----------+--------------+----------+-----------+--------------------+----------+\n",
            "|customer_id|product_new_id|product_id|star_rating|       product_title|prediction|\n",
            "+-----------+--------------+----------+-----------+--------------------+----------+\n",
            "|   15230828|           148|B0053YQ8E0|          4|Alice: Madness Re...| 1.1158329|\n",
            "|   43063563|           148|B0053YQ8E0|          5|Alice: Madness Re...|  3.923602|\n",
            "|    5685484|           148|B0053YQ8E0|          5|Alice: Madness Re...| 4.2215285|\n",
            "|   47028076|           148|B0053YQ8E0|          3|Alice: Madness Re...| 2.8530567|\n",
            "|   13151579|           148|B0053YQ8E0|          5|Alice: Madness Re...|0.66751516|\n",
            "|   35480335|           148|B0053YQ8E0|          4|Alice: Madness Re...|   5.08541|\n",
            "|   15355503|           148|B0053YQ8E0|          5|Alice: Madness Re...|  3.319488|\n",
            "|   33598538|           148|B0053YQ8E0|          2|Alice: Madness Re...|  3.296199|\n",
            "|   23651141|           148|B0053YQ8E0|          1|Alice: Madness Re...| 2.2896066|\n",
            "|   48400128|           148|B0053YQ8E0|          1|Alice: Madness Re...|0.45611584|\n",
            "|   10257500|           148|B0053YQ8E0|          3|Alice: Madness Re...| 1.5334873|\n",
            "|   46582389|           148|B0053YQ8E0|          2|Alice: Madness Re...| 1.9789861|\n",
            "|   49300947|           463|B0047T7UDU|          4|          Darksiders|0.74796945|\n",
            "|   21069869|           463|B0047T7UDU|          4|          Darksiders|   4.78468|\n",
            "|   50409587|           833|B0034XS84K|          5|Nancy Drew: The P...| 1.2674665|\n",
            "|   52520442|           833|B0034XS84K|          5|Nancy Drew: The P...|  3.381862|\n",
            "|   22136459|           833|B0034XS84K|          4|Nancy Drew: The P...| 1.2672743|\n",
            "|   20436055|           833|B0034XS84K|          5|Nancy Drew: The P...| 1.8077898|\n",
            "|   20970953|           833|B0034XS84K|          4|Nancy Drew: The P...| 3.1101606|\n",
            "|   29469708|          1088|B00W9O1NDI|          1|Lost Lands: The F...| 0.7021642|\n",
            "+-----------+--------------+----------+-----------+--------------------+----------+\n",
            "only showing top 20 rows\n",
            "\n"
          ],
          "name": "stdout"
        }
      ]
    },
    {
      "cell_type": "code",
      "metadata": {
        "id": "TAFwv0-L1R7s",
        "colab_type": "code",
        "colab": {}
      },
      "source": [
        "def train_ALS(train, test, reg_param, ranks):\n",
        "  # initial\n",
        "  min_error = float('inf')\n",
        "  best_rank = -1\n",
        "  best_regularization = 0\n",
        "  best_model = None\n",
        "  for rank in ranks:\n",
        "    for reg in reg_param:\n",
        "      als = ALS(maxIter=20, rank=rank, regParam=reg, userCol=\"customer_id\", itemCol=\"product_new_id\", ratingCol=\"star_rating\", coldStartStrategy=\"drop\", nonnegative=True)\n",
        "      model = als.fit(train)\n",
        "      predictions = model.transform(test)\n",
        "      evaluator = RegressionEvaluator(metricName=\"rmse\", labelCol=\"star_rating\", predictionCol=\"prediction\")\n",
        "      error = evaluator.evaluate(predictions)\n",
        "      print('{} latent factors and regularization = {}: validation RMSE is {}'.format(rank, reg, error))\n",
        "      if error < min_error:\n",
        "        min_error = error\n",
        "        best_rank = rank\n",
        "        best_regularization = reg\n",
        "        best_model = model\n",
        "  print('\\nThe best model has {} latent factors and regularization = {}'.format(best_rank, best_regularization))\n",
        "  return best_model"
      ],
      "execution_count": 0,
      "outputs": []
    },
    {
      "cell_type": "code",
      "metadata": {
        "id": "0_YA3WwL1SBJ",
        "colab_type": "code",
        "colab": {}
      },
      "source": [
        "# hyper-param config\n",
        "ranks = [2,4,6,8,10]\n",
        "reg_params = [0.1,0.2,0.3,0.4,0.5]"
      ],
      "execution_count": 0,
      "outputs": []
    },
    {
      "cell_type": "code",
      "metadata": {
        "id": "Wi1M7gpf1SGd",
        "colab_type": "code",
        "outputId": "a66d30c8-2d86-4d70-972b-04cbe069ad82",
        "colab": {
          "base_uri": "https://localhost:8080/",
          "height": 487
        }
      },
      "source": [
        "start_time = time()\n",
        "\n",
        "final_model = train_ALS(training, test, reg_params, ranks)\n",
        "\n",
        "elapsed_time = time() - start_time\n",
        "print(\"Elapsed time: %.10f seconds.\" % elapsed_time)"
      ],
      "execution_count": 34,
      "outputs": [
        {
          "output_type": "stream",
          "text": [
            "2 latent factors and regularization = 0.1: validation RMSE is 1.6749544824173233\n",
            "2 latent factors and regularization = 0.2: validation RMSE is 1.6000418773857932\n",
            "2 latent factors and regularization = 0.3: validation RMSE is 1.570897199613236\n",
            "2 latent factors and regularization = 0.4: validation RMSE is 1.5594545845923358\n",
            "2 latent factors and regularization = 0.5: validation RMSE is 1.561067396730267\n",
            "4 latent factors and regularization = 0.1: validation RMSE is 1.6811378970247768\n",
            "4 latent factors and regularization = 0.2: validation RMSE is 1.6050430296458644\n",
            "4 latent factors and regularization = 0.3: validation RMSE is 1.5742144488896008\n",
            "4 latent factors and regularization = 0.4: validation RMSE is 1.5642516340530195\n",
            "4 latent factors and regularization = 0.5: validation RMSE is 1.5664055178647265\n",
            "6 latent factors and regularization = 0.1: validation RMSE is 1.694527457041636\n",
            "6 latent factors and regularization = 0.2: validation RMSE is 1.613256186824631\n",
            "6 latent factors and regularization = 0.3: validation RMSE is 1.5931920212267583\n",
            "6 latent factors and regularization = 0.4: validation RMSE is 1.5863935334383994\n",
            "6 latent factors and regularization = 0.5: validation RMSE is 1.587888855584774\n",
            "8 latent factors and regularization = 0.1: validation RMSE is 1.6753963681369908\n",
            "8 latent factors and regularization = 0.2: validation RMSE is 1.5953633336328998\n",
            "8 latent factors and regularization = 0.3: validation RMSE is 1.5785818609784377\n",
            "8 latent factors and regularization = 0.4: validation RMSE is 1.5753679866197488\n",
            "8 latent factors and regularization = 0.5: validation RMSE is 1.578728820283224\n",
            "10 latent factors and regularization = 0.1: validation RMSE is 1.6681645786592563\n",
            "10 latent factors and regularization = 0.2: validation RMSE is 1.605725814476752\n",
            "10 latent factors and regularization = 0.3: validation RMSE is 1.5880870155295717\n",
            "10 latent factors and regularization = 0.4: validation RMSE is 1.5827382686852318\n",
            "10 latent factors and regularization = 0.5: validation RMSE is 1.585795922304349\n",
            "\n",
            "The best model has 2 latent factors and regularization = 0.4\n",
            "Elapsed time: 517.3337917328 seconds.\n"
          ],
          "name": "stdout"
        }
      ]
    },
    {
      "cell_type": "code",
      "metadata": {
        "id": "PspuvF_C1SEM",
        "colab_type": "code",
        "colab": {}
      },
      "source": [
        "def plot_learning_curve(train, test, reg, rank):\n",
        "    \"\"\"\n",
        "    Plot function to show learning curve of ALS\n",
        "    \"\"\"\n",
        "    arr_iters = [i for i in range(1,20,2)]\n",
        "    errors = []\n",
        "    for num_iters in arr_iters:\n",
        "      als = ALS(maxIter=num_iters, rank=rank, regParam=reg, userCol=\"customer_id\", itemCol=\"product_new_id\", ratingCol=\"star_rating\", coldStartStrategy=\"drop\", nonnegative=True)\n",
        "      model = als.fit(train)\n",
        "      predictions = model.transform(test)\n",
        "      evaluator = RegressionEvaluator(metricName=\"rmse\", labelCol=\"star_rating\", predictionCol=\"prediction\")\n",
        "      error = evaluator.evaluate(predictions)\n",
        "      errors.append(error)\n",
        "    \n",
        "    # plot\n",
        "    plt.figure(figsize=(12, 6))\n",
        "    plt.plot(arr_iters, errors)\n",
        "    plt.xlabel('number of iterations')\n",
        "    plt.ylabel('RMSE')\n",
        "    plt.title('ALS Learning Curve')\n",
        "    plt.grid(True)\n",
        "    plt.show()"
      ],
      "execution_count": 0,
      "outputs": []
    },
    {
      "cell_type": "code",
      "metadata": {
        "id": "dX35hmOi1R-y",
        "colab_type": "code",
        "outputId": "4cd15330-fb06-4487-cf0f-0d24936d9bcd",
        "colab": {
          "base_uri": "https://localhost:8080/",
          "height": 404
        }
      },
      "source": [
        "plot_learning_curve(training, test, 0.4, 2)"
      ],
      "execution_count": 36,
      "outputs": [
        {
          "output_type": "display_data",
          "data": {
            "image/png": "[encoded data removed]",
            "text/plain": [
              "<Figure size 864x432 with 1 Axes>"
            ]
          },
          "metadata": {
            "tags": [],
            "needs_background": "light"
          }
        }
      ]
    },
    {
      "cell_type": "code",
      "metadata": {
        "id": "7BQ_sqoChcaZ",
        "colab_type": "code",
        "colab": {}
      },
      "source": [
        "als = ALS(maxIter=20, rank=2, regParam=0.4, userCol=\"customer_id\", itemCol=\"product_new_id\", ratingCol=\"star_rating\",\n",
        "          coldStartStrategy=\"drop\", nonnegative=True)\n",
        "model = als.fit(training)"
      ],
      "execution_count": 0,
      "outputs": []
    },
    {
      "cell_type": "code",
      "metadata": {
        "id": "k95Tw6Zwhcmi",
        "colab_type": "code",
        "outputId": "bac9e9d4-c900-4203-ff68-ebdc87d90a13",
        "colab": {
          "base_uri": "https://localhost:8080/",
          "height": 34
        }
      },
      "source": [
        "predictions = model.transform(test)\n",
        "evaluator = RegressionEvaluator(metricName=\"rmse\", labelCol=\"star_rating\",\n",
        "                                predictionCol=\"prediction\")\n",
        "rmse = evaluator.evaluate(predictions)\n",
        "print(\"Root-mean-square error = \" + str(rmse))"
      ],
      "execution_count": 38,
      "outputs": [
        {
          "output_type": "stream",
          "text": [
            "Root-mean-square error = 1.5594545845923358\n"
          ],
          "name": "stdout"
        }
      ]
    },
    {
      "cell_type": "markdown",
      "metadata": {
        "id": "TWnczBOF9us_",
        "colab_type": "text"
      },
      "source": [
        "# Extending Latent Factor Model to Include Biases"
      ]
    },
    {
      "cell_type": "code",
      "metadata": {
        "id": "hL15Lmxd1RrI",
        "colab_type": "code",
        "colab": {}
      },
      "source": [
        "ratings_df.registerTempTable(\"temp3\")\n",
        "\n",
        "query = \"\"\"\n",
        "with general as (\n",
        "  SELECT AVG(star_rating) as promedio_general\n",
        "  FROM temp3\n",
        "), \n",
        "promedio_cliente as (\n",
        "  SELECT customer_id, avg(star_rating)  as b_userbias\n",
        "  FROM temp3\n",
        "  GROUP BY customer_id\n",
        "),\n",
        "promedio_item as (\n",
        "  SELECT product_id, avg(star_rating) as b_itembias\n",
        "  FROM temp3\n",
        "  GROUP BY product_id\n",
        "),\n",
        "diff_promedio_cliente as (\n",
        "  SELECT customer_id, b_userbias, b_userbias-promedio_general as b_userbias_diff\n",
        "  FROM promedio_cliente\n",
        "  CROSS JOIN general\n",
        "),\n",
        "diff_promedio_item as (\n",
        "  SELECT product_id, b_itembias, b_itembias-promedio_general as b_itembias_diff\n",
        "  FROM promedio_item\n",
        "  CROSS JOIN general\n",
        ")\n",
        "SELECT \n",
        "  t1.customer_id,\n",
        "  t1.product_new_id,\n",
        "  t1.product_id,\n",
        "  t1.product_title,\n",
        "  t1.star_rating,\n",
        "  t2.promedio_general,\n",
        "  t3.b_userbias,\n",
        "  t3.b_userbias_diff,\n",
        "  t4.b_itembias,\n",
        "  t4.b_itembias_diff,\n",
        "  (t1.star_rating - t2.promedio_general - t3.b_userbias_diff - t4.b_itembias_diff) as new_star_rating\n",
        "FROM temp3 as t1\n",
        "CROSS JOIN general as t2\n",
        "INNER JOIN diff_promedio_cliente as t3\n",
        "  ON t1.customer_id = t3.customer_id\n",
        "INNER JOIN diff_promedio_item as t4\n",
        "  ON t1.product_id = t4.product_id\n",
        "where   \n",
        "  t2.promedio_general is not null and\n",
        "  t3.b_userbias is not null and \n",
        "  t4.b_itembias is not null \n",
        "\"\"\""
      ],
      "execution_count": 0,
      "outputs": []
    },
    {
      "cell_type": "code",
      "metadata": {
        "id": "iPx8Msb0-IAK",
        "colab_type": "code",
        "outputId": "05a20183-d653-4ffa-e23b-25f1546864fd",
        "colab": {
          "base_uri": "https://localhost:8080/",
          "height": 474
        }
      },
      "source": [
        "ratings_df = spark.sql(query)\n",
        "ratings_df.show()"
      ],
      "execution_count": 40,
      "outputs": [
        {
          "output_type": "stream",
          "text": [
            "+-----------+--------------+----------+--------------------+-----------+------------------+------------------+--------------------+------------------+--------------------+--------------------+\n",
            "|customer_id|product_new_id|product_id|       product_title|star_rating|  promedio_general|        b_userbias|     b_userbias_diff|        b_itembias|     b_itembias_diff|     new_star_rating|\n",
            "+-----------+--------------+----------+--------------------+-----------+------------------+------------------+--------------------+------------------+--------------------+--------------------+\n",
            "|   51137709|          6325|B001KC02UA|Happy Hour! [Down...|          3|3.8531262248076406|               3.0| -0.8531262248076406|               3.0| -0.8531262248076406|  0.8531262248076406|\n",
            "|   30130528|          3362|B002FGU06Q|Tradewinds Odysse...|          5|3.8531262248076406|               3.0| -0.8531262248076406|               3.6|-0.25312622480764047|  2.2531262248076405|\n",
            "|   50912785|          3362|B002FGU06Q|Tradewinds Odysse...|          4|3.8531262248076406|               2.5| -1.3531262248076406|               3.6|-0.25312622480764047|  1.7531262248076405|\n",
            "|   28850648|          3362|B002FGU06Q|Tradewinds Odysse...|          5|3.8531262248076406| 3.888888888888889|0.035762664081248285|               3.6|-0.25312622480764047|  1.3642373359187516|\n",
            "|   31275718|          3362|B002FGU06Q|Tradewinds Odysse...|          1|3.8531262248076406|               1.0| -2.8531262248076406|               3.6|-0.25312622480764047| 0.25312622480764047|\n",
            "|   50305091|          3362|B002FGU06Q|Tradewinds Odysse...|          3|3.8531262248076406|3.6153846153846154|-0.23774160942302514|               3.6|-0.25312622480764047|-0.36225839057697495|\n",
            "|   25076272|          4938|B002MUB0N2|Word Harmony [Dow...|          5|3.8531262248076406|               5.0|  1.1468737751923594|               3.5|-0.35312622480764055| 0.35312622480764055|\n",
            "|   16667665|          4938|B002MUB0N2|Word Harmony [Dow...|          2|3.8531262248076406|               2.0| -1.8531262248076406|               3.5|-0.35312622480764055| 0.35312622480764055|\n",
            "|   35938893|          6845|B002N5NAXY|Continental Cafe ...|          2|3.8531262248076406|3.5714285714285716|-0.28169765337906894|               2.0| -1.8531262248076406| 0.28169765337906894|\n",
            "|   21884105|          2151|B0030EFVA2|688I Hunter Kille...|          2|3.8531262248076406|               2.0| -1.8531262248076406|3.5555555555555554| -0.2975706692520852|  0.2975706692520852|\n",
            "|   44372663|          2151|B0030EFVA2|688I Hunter Kille...|          3|3.8531262248076406|               2.0| -1.8531262248076406|3.5555555555555554| -0.2975706692520852|  1.2975706692520852|\n",
            "|   11859999|          2151|B0030EFVA2|688I Hunter Kille...|          5|3.8531262248076406|               5.0|  1.1468737751923594|3.5555555555555554| -0.2975706692520852|  0.2975706692520852|\n",
            "|   48845100|          2151|B0030EFVA2|688I Hunter Kille...|          5|3.8531262248076406|               4.5|  0.6468737751923594|3.5555555555555554| -0.2975706692520852|  0.7975706692520852|\n",
            "|   12850951|          2151|B0030EFVA2|688I Hunter Kille...|          4|3.8531262248076406|               4.0| 0.14687377519235945|3.5555555555555554| -0.2975706692520852|  0.2975706692520852|\n",
            "|   52487585|          2151|B0030EFVA2|688I Hunter Kille...|          4|3.8531262248076406|               4.0| 0.14687377519235945|3.5555555555555554| -0.2975706692520852|  0.2975706692520852|\n",
            "|   40729662|          2151|B0030EFVA2|688I Hunter Kille...|          4|3.8531262248076406|               4.0| 0.14687377519235945|3.5555555555555554| -0.2975706692520852|  0.2975706692520852|\n",
            "|   38510480|          2151|B0030EFVA2|688I Hunter Kille...|          3|3.8531262248076406|               3.0| -0.8531262248076406|3.5555555555555554| -0.2975706692520852|  0.2975706692520852|\n",
            "|   18426529|          2151|B0030EFVA2|688I Hunter Kille...|          2|3.8531262248076406|               2.0| -1.8531262248076406|3.5555555555555554| -0.2975706692520852|  0.2975706692520852|\n",
            "|    1307727|          4643|B0030GG0XC|Super Jigsaw Pupp...|          5|3.8531262248076406|               5.0|  1.1468737751923594|               5.0|  1.1468737751923594| -1.1468737751923594|\n",
            "|   15773485|          4643|B0030GG0XC|Super Jigsaw Pupp...|          5|3.8531262248076406|               5.0|  1.1468737751923594|               5.0|  1.1468737751923594| -1.1468737751923594|\n",
            "+-----------+--------------+----------+--------------------+-----------+------------------+------------------+--------------------+------------------+--------------------+--------------------+\n",
            "only showing top 20 rows\n",
            "\n"
          ],
          "name": "stdout"
        }
      ]
    },
    {
      "cell_type": "code",
      "metadata": {
        "id": "CKCia7WeBBoG",
        "colab_type": "code",
        "outputId": "91745787-1dd1-4ed8-ea33-56aabd44d362",
        "colab": {
          "base_uri": "https://localhost:8080/",
          "height": 474
        }
      },
      "source": [
        "(training, test) = ratings_df.randomSplit([0.8, 0.2])\n",
        "training.show()"
      ],
      "execution_count": 41,
      "outputs": [
        {
          "output_type": "stream",
          "text": [
            "+-----------+--------------+----------+--------------------+-----------+------------------+----------+-------------------+------------------+--------------------+--------------------+\n",
            "|customer_id|product_new_id|product_id|       product_title|star_rating|  promedio_general|b_userbias|    b_userbias_diff|        b_itembias|     b_itembias_diff|     new_star_rating|\n",
            "+-----------+--------------+----------+--------------------+-----------+------------------+----------+-------------------+------------------+--------------------+--------------------+\n",
            "|      33322|            58|B005Q1YA5O|    The Sims 3: Pets|          1|3.8531262248076406|       1.0|-2.8531262248076406|3.4899598393574296|-0.36316638545021096| 0.36316638545021096|\n",
            "|     223094|            45|B00F4CFBUS| Xbox Live Gift Card|          5|3.8531262248076406|       5.0| 1.1468737751923594| 4.608695652173913|  0.7555694273662725| -0.7555694273662725|\n",
            "|     275563|            45|B00F4CFBUS| Xbox Live Gift Card|          5|3.8531262248076406|       5.0| 1.1468737751923594| 4.608695652173913|  0.7555694273662725| -0.7555694273662725|\n",
            "|     326711|            45|B00F4CFBUS| Xbox Live Gift Card|          5|3.8531262248076406|       5.0| 1.1468737751923594| 4.608695652173913|  0.7555694273662725| -0.7555694273662725|\n",
            "|     386567|            45|B00F4CFBUS| Xbox Live Gift Card|          5|3.8531262248076406|       5.0| 1.1468737751923594| 4.608695652173913|  0.7555694273662725| -0.7555694273662725|\n",
            "|     434066|            45|B00F4CFBUS| Xbox Live Gift Card|          5|3.8531262248076406|       5.0| 1.1468737751923594| 4.608695652173913|  0.7555694273662725| -0.7555694273662725|\n",
            "|     456822|            45|B00F4CFBUS| Xbox Live Gift Card|          5|3.8531262248076406|       5.0| 1.1468737751923594| 4.608695652173913|  0.7555694273662725| -0.7555694273662725|\n",
            "|     502045|            58|B005Q1YA5O|    The Sims 3: Pets|          5|3.8531262248076406|       5.0| 1.1468737751923594|3.4899598393574296|-0.36316638545021096| 0.36316638545021096|\n",
            "|     548402|            45|B00F4CFBUS| Xbox Live Gift Card|          5|3.8531262248076406|       5.0| 1.1468737751923594| 4.608695652173913|  0.7555694273662725| -0.7555694273662725|\n",
            "|     568941|            45|B00F4CFBUS| Xbox Live Gift Card|          5|3.8531262248076406|       5.0| 1.1468737751923594| 4.608695652173913|  0.7555694273662725| -0.7555694273662725|\n",
            "|     599542|            45|B00F4CFBUS| Xbox Live Gift Card|          5|3.8531262248076406|       5.0| 1.1468737751923594| 4.608695652173913|  0.7555694273662725| -0.7555694273662725|\n",
            "|     653864|            45|B00F4CFBUS| Xbox Live Gift Card|          5|3.8531262248076406|       5.0| 1.1468737751923594| 4.608695652173913|  0.7555694273662725| -0.7555694273662725|\n",
            "|     690594|            45|B00F4CFBUS| Xbox Live Gift Card|          5|3.8531262248076406|       5.0| 1.1468737751923594| 4.608695652173913|  0.7555694273662725| -0.7555694273662725|\n",
            "|     734601|            45|B00F4CFBUS| Xbox Live Gift Card|          5|3.8531262248076406|       5.0| 1.1468737751923594| 4.608695652173913|  0.7555694273662725| -0.7555694273662725|\n",
            "|     800123|            45|B00F4CFBUS| Xbox Live Gift Card|          1|3.8531262248076406|       1.0|-2.8531262248076406| 4.608695652173913|  0.7555694273662725| -0.7555694273662725|\n",
            "|     854690|            45|B00F4CFBUS| Xbox Live Gift Card|          5|3.8531262248076406|       5.0| 1.1468737751923594| 4.608695652173913|  0.7555694273662725| -0.7555694273662725|\n",
            "|     858237|          2644|B008BKF3OE|RuneScape [Game C...|          1|3.8531262248076406|       1.0|-2.8531262248076406| 3.857142857142857|0.004016632335216652|-0.00401663233521...|\n",
            "|     869844|            45|B00F4CFBUS| Xbox Live Gift Card|          5|3.8531262248076406|       5.0| 1.1468737751923594| 4.608695652173913|  0.7555694273662725| -0.7555694273662725|\n",
            "|     885449|            45|B00F4CFBUS| Xbox Live Gift Card|          1|3.8531262248076406|       1.0|-2.8531262248076406| 4.608695652173913|  0.7555694273662725| -0.7555694273662725|\n",
            "|     885754|            45|B00F4CFBUS| Xbox Live Gift Card|          5|3.8531262248076406|       5.0| 1.1468737751923594| 4.608695652173913|  0.7555694273662725| -0.7555694273662725|\n",
            "+-----------+--------------+----------+--------------------+-----------+------------------+----------+-------------------+------------------+--------------------+--------------------+\n",
            "only showing top 20 rows\n",
            "\n"
          ],
          "name": "stdout"
        }
      ]
    },
    {
      "cell_type": "code",
      "metadata": {
        "id": "QHoeLeQAXDOF",
        "colab_type": "code",
        "colab": {}
      },
      "source": [
        "def train_ALS(train, test, reg_param, ranks):\n",
        "  # initial\n",
        "  min_error = float('inf')\n",
        "  best_rank = -1\n",
        "  best_regularization = 0\n",
        "  best_model = None\n",
        "  for rank in ranks:\n",
        "    for reg in reg_param:\n",
        "      als = ALS(maxIter=20, rank=rank, regParam=reg, userCol=\"customer_id\", itemCol=\"product_new_id\", ratingCol=\"new_star_rating\", coldStartStrategy=\"drop\", nonnegative=True)\n",
        "      model = als.fit(train)\n",
        "      predictions = model.transform(test)\n",
        "      predictions= predictions.withColumn(\"predict\", predictions.prediction + \n",
        "                                               predictions.promedio_general + \n",
        "                                               predictions.b_userbias_diff +\n",
        "                                               predictions.b_itembias_diff)\n",
        "      evaluator = RegressionEvaluator(metricName=\"rmse\", labelCol=\"star_rating\", predictionCol=\"predict\")\n",
        "      error = evaluator.evaluate(predictions)\n",
        "      print('{} latent factors and regularization = {}: validation RMSE is {}'.format(rank, reg, error))\n",
        "      if error < min_error:\n",
        "        min_error = error\n",
        "        best_rank = rank\n",
        "        best_regularization = reg\n",
        "        best_model = model\n",
        "  print('\\nThe best model has {} latent factors and regularization = {}'.format(best_rank, best_regularization))\n",
        "  return best_model"
      ],
      "execution_count": 0,
      "outputs": []
    },
    {
      "cell_type": "code",
      "metadata": {
        "id": "NGOeZELqXsia",
        "colab_type": "code",
        "outputId": "39693789-6b1a-405d-9989-4a3050f9fab7",
        "colab": {
          "base_uri": "https://localhost:8080/",
          "height": 487
        }
      },
      "source": [
        "# hyper-param config\n",
        "ranks = [2,4,6,8,10]\n",
        "reg_params = [0.1,0.2,0.3,0.4,0.5]\n",
        "\n",
        "start_time = time()\n",
        "\n",
        "final_model = train_ALS(training, test, reg_params, ranks)\n",
        "\n",
        "elapsed_time = time() - start_time\n",
        "\n",
        "print(\"Elapsed time: %.10f seconds.\" % elapsed_time)\n"
      ],
      "execution_count": 43,
      "outputs": [
        {
          "output_type": "stream",
          "text": [
            "2 latent factors and regularization = 0.1: validation RMSE is 1.0622673709323527\n",
            "2 latent factors and regularization = 0.2: validation RMSE is 1.019733821029138\n",
            "2 latent factors and regularization = 0.3: validation RMSE is 0.9997776050308512\n",
            "2 latent factors and regularization = 0.4: validation RMSE is 0.9899768961802369\n",
            "2 latent factors and regularization = 0.5: validation RMSE is 0.985451852361378\n",
            "4 latent factors and regularization = 0.1: validation RMSE is 1.0407180346583296\n",
            "4 latent factors and regularization = 0.2: validation RMSE is 1.004436058632076\n",
            "4 latent factors and regularization = 0.3: validation RMSE is 0.9907798661421244\n",
            "4 latent factors and regularization = 0.4: validation RMSE is 0.9838454661427648\n",
            "4 latent factors and regularization = 0.5: validation RMSE is 0.9810211572888687\n",
            "6 latent factors and regularization = 0.1: validation RMSE is 1.0163082081596055\n",
            "6 latent factors and regularization = 0.2: validation RMSE is 0.9950906176754202\n",
            "6 latent factors and regularization = 0.3: validation RMSE is 0.9873663860693461\n",
            "6 latent factors and regularization = 0.4: validation RMSE is 0.9820941150497825\n",
            "6 latent factors and regularization = 0.5: validation RMSE is 0.9809938581673171\n",
            "8 latent factors and regularization = 0.1: validation RMSE is 1.0105138419947504\n",
            "8 latent factors and regularization = 0.2: validation RMSE is 0.9935275088655725\n",
            "8 latent factors and regularization = 0.3: validation RMSE is 0.985885631297186\n",
            "8 latent factors and regularization = 0.4: validation RMSE is 0.9814348861757589\n",
            "8 latent factors and regularization = 0.5: validation RMSE is 0.981026276774125\n",
            "10 latent factors and regularization = 0.1: validation RMSE is 1.0118755299004905\n",
            "10 latent factors and regularization = 0.2: validation RMSE is 0.9932826472558668\n",
            "10 latent factors and regularization = 0.3: validation RMSE is 0.9847567506783603\n",
            "10 latent factors and regularization = 0.4: validation RMSE is 0.9812822008551924\n",
            "10 latent factors and regularization = 0.5: validation RMSE is 0.9810567786097548\n",
            "\n",
            "The best model has 6 latent factors and regularization = 0.5\n",
            "Elapsed time: 1730.4777426720 seconds.\n"
          ],
          "name": "stdout"
        }
      ]
    },
    {
      "cell_type": "code",
      "metadata": {
        "id": "WL725Ti1fwBl",
        "colab_type": "code",
        "colab": {}
      },
      "source": [
        "def plot_learning_curve(train, test, reg, rank):\n",
        "    \"\"\"\n",
        "    Plot function to show learning curve of ALS\n",
        "    \"\"\"\n",
        "    arr_iters = [i for i in range(1,20,2)]\n",
        "    errors = []\n",
        "    for num_iters in arr_iters:\n",
        "      als = ALS(maxIter=num_iters, rank=rank, regParam=reg, userCol=\"customer_id\", itemCol=\"product_new_id\", ratingCol=\"new_star_rating\", coldStartStrategy=\"drop\", nonnegative=True)\n",
        "      model = als.fit(train)\n",
        "      predictions = model.transform(test)\n",
        "      predictions= predictions.withColumn(\"predict\", predictions.prediction + \n",
        "                                          predictions.promedio_general + \n",
        "                                          predictions.b_userbias_diff +\n",
        "                                          predictions.b_itembias_diff)\n",
        "      evaluator = RegressionEvaluator(metricName=\"rmse\", labelCol=\"star_rating\", predictionCol=\"predict\")\n",
        "      error = evaluator.evaluate(predictions)\n",
        "      errors.append(error)\n",
        "    \n",
        "    # plot\n",
        "    plt.figure(figsize=(12, 6))\n",
        "    plt.plot(arr_iters, errors)\n",
        "    plt.xlabel('number of iterations')\n",
        "    plt.ylabel('RMSE')\n",
        "    plt.title('ALS Learning Curve')\n",
        "    plt.grid(True)\n",
        "    plt.show()"
      ],
      "execution_count": 0,
      "outputs": []
    },
    {
      "cell_type": "code",
      "metadata": {
        "id": "lsn9xVqZXDYD",
        "colab_type": "code",
        "colab": {
          "base_uri": "https://localhost:8080/",
          "height": 404
        },
        "outputId": "f4dfc77d-68f5-4ee1-ed6c-f736c824255e"
      },
      "source": [
        "plot_learning_curve(training, test, 0.5, 8)"
      ],
      "execution_count": 45,
      "outputs": [
        {
          "output_type": "display_data",
          "data": {
            "image/png": "[encoded data removed]",
            "text/plain": [
              "<Figure size 864x432 with 1 Axes>"
            ]
          },
          "metadata": {
            "tags": [],
            "needs_background": "light"
          }
        }
      ]
    },
    {
      "cell_type": "code",
      "metadata": {
        "id": "yLWGgqBqBOKn",
        "colab_type": "code",
        "colab": {}
      },
      "source": [
        "als = ALS(rank=10,maxIter=20, regParam=0.5, userCol=\"customer_id\", itemCol=\"product_new_id\", ratingCol=\"new_star_rating\",coldStartStrategy=\"drop\",nonnegative=False)\n",
        "model = als.fit(training)"
      ],
      "execution_count": 0,
      "outputs": []
    },
    {
      "cell_type": "code",
      "metadata": {
        "id": "dea1CTRWBON9",
        "colab_type": "code",
        "colab": {}
      },
      "source": [
        "predictions = model.transform(test)"
      ],
      "execution_count": 0,
      "outputs": []
    },
    {
      "cell_type": "code",
      "metadata": {
        "id": "-s9V4f_WBOQp",
        "colab_type": "code",
        "colab": {
          "base_uri": "https://localhost:8080/",
          "height": 188
        },
        "outputId": "12a09901-723f-484d-c91f-4d84948e1007"
      },
      "source": [
        "predictions.show(3)"
      ],
      "execution_count": 48,
      "outputs": [
        {
          "output_type": "stream",
          "text": [
            "+-----------+--------------+----------+--------------------+-----------+------------------+----------+--------------------+------------------+-------------------+-------------------+-------------+\n",
            "|customer_id|product_new_id|product_id|       product_title|star_rating|  promedio_general|b_userbias|     b_userbias_diff|        b_itembias|    b_itembias_diff|    new_star_rating|   prediction|\n",
            "+-----------+--------------+----------+--------------------+-----------+------------------+----------+--------------------+------------------+-------------------+-------------------+-------------+\n",
            "|   43063563|           148|B0053YQ8E0|Alice: Madness Re...|          5|3.8531262248076406|      4.75|  0.8968737751923594|3.2755905511811023|-0.5775356736265382| 0.8275356736265382| 0.0031975345|\n",
            "|   35587397|           148|B0053YQ8E0|Alice: Madness Re...|          5|3.8531262248076406|       5.0|  1.1468737751923594|3.2755905511811023|-0.5775356736265382| 0.5775356736265382| 0.0012999082|\n",
            "|   47028076|           148|B0053YQ8E0|Alice: Madness Re...|          3|3.8531262248076406|       3.5|-0.35312622480764055|3.2755905511811023|-0.5775356736265382|0.07753567362653824|-2.0993454E-4|\n",
            "+-----------+--------------+----------+--------------------+-----------+------------------+----------+--------------------+------------------+-------------------+-------------------+-------------+\n",
            "only showing top 3 rows\n",
            "\n"
          ],
          "name": "stdout"
        }
      ]
    },
    {
      "cell_type": "code",
      "metadata": {
        "id": "Egck4MWgBOYk",
        "colab_type": "code",
        "colab": {}
      },
      "source": [
        "predictions= predictions.withColumn(\"predict\", predictions.prediction + \n",
        "                                               predictions.promedio_general + \n",
        "                                               predictions.b_userbias_diff +\n",
        "                                               predictions.b_itembias_diff)"
      ],
      "execution_count": 0,
      "outputs": []
    },
    {
      "cell_type": "code",
      "metadata": {
        "id": "ePi6TUw8BOTi",
        "colab_type": "code",
        "colab": {
          "base_uri": "https://localhost:8080/",
          "height": 474
        },
        "outputId": "f1c37264-3089-434e-bf77-737dd08f4f50"
      },
      "source": [
        "predictions.show()"
      ],
      "execution_count": 50,
      "outputs": [
        {
          "output_type": "stream",
          "text": [
            "+-----------+--------------+----------+--------------------+-----------+------------------+------------------+--------------------+------------------+--------------------+--------------------+-------------+------------------+\n",
            "|customer_id|product_new_id|product_id|       product_title|star_rating|  promedio_general|        b_userbias|     b_userbias_diff|        b_itembias|     b_itembias_diff|     new_star_rating|   prediction|           predict|\n",
            "+-----------+--------------+----------+--------------------+-----------+------------------+------------------+--------------------+------------------+--------------------+--------------------+-------------+------------------+\n",
            "|   43063563|           148|B0053YQ8E0|Alice: Madness Re...|          5|3.8531262248076406|              4.75|  0.8968737751923594|3.2755905511811023| -0.5775356736265382|  0.8275356736265382| 0.0031975345| 4.175661860848937|\n",
            "|   35587397|           148|B0053YQ8E0|Alice: Madness Re...|          5|3.8531262248076406|               5.0|  1.1468737751923594|3.2755905511811023| -0.5775356736265382|  0.5775356736265382| 0.0012999082| 4.423764234525311|\n",
            "|   47028076|           148|B0053YQ8E0|Alice: Madness Re...|          3|3.8531262248076406|               3.5|-0.35312622480764055|3.2755905511811023| -0.5775356736265382| 0.07753567362653824|-2.0993454E-4|2.9222543918296435|\n",
            "|   11554671|           148|B0053YQ8E0|Alice: Madness Re...|          3|3.8531262248076406|               3.5|-0.35312622480764055|3.2755905511811023| -0.5775356736265382| 0.07753567362653824|  0.058775477|2.9812398034848013|\n",
            "|   41636996|           148|B0053YQ8E0|Alice: Madness Re...|          4|3.8531262248076406|               4.0| 0.14687377519235945|3.2755905511811023| -0.5775356736265382|  0.5775356736265382|  -0.00458082|3.4178835063941517|\n",
            "|   10972526|           148|B0053YQ8E0|Alice: Madness Re...|          5|3.8531262248076406|2.6666666666666665|  -1.186459558140974|3.2755905511811023| -0.5775356736265382|  2.9108690069598717|  0.020098776| 2.109229768665357|\n",
            "|   22429997|           148|B0053YQ8E0|Alice: Madness Re...|          5|3.8531262248076406| 4.666666666666667|  0.8135404418590264|3.2755905511811023| -0.5775356736265382|  0.9108690069598713| -0.006972093| 4.082158899905011|\n",
            "|   48684250|           148|B0053YQ8E0|Alice: Madness Re...|          5|3.8531262248076406|               3.0| -0.8531262248076406|3.2755905511811023| -0.5775356736265382|  2.5775356736265382| -0.045174185|2.3772901411868372|\n",
            "|   10231032|           148|B0053YQ8E0|Alice: Madness Re...|          5|3.8531262248076406| 4.333333333333333|  0.4802071085256925|3.2755905511811023| -0.5775356736265382|  1.2442023402932052|  0.001829966| 3.757627625678205|\n",
            "|   53082728|           463|B0047T7UDU|          Darksiders|          2|3.8531262248076406| 2.272727272727273| -1.5803989520803676|4.0588235294117645| 0.20569730460412394|-0.47842457733139687|  0.010556375|2.4889809520079225|\n",
            "|   36848665|           496|B005WLRO4M|Football Manager ...|          5|3.8531262248076406|               5.0|  1.1468737751923594|             4.125| 0.27187377519235945|-0.27187377519235945|-0.0030775133| 5.268796261886889|\n",
            "|   37017405|           496|B005WLRO4M|Football Manager ...|          2|3.8531262248076406|               2.0| -1.8531262248076406|             4.125| 0.27187377519235945|-0.27187377519235945|  6.307939E-4|2.2725045691107493|\n",
            "|   50409587|           833|B0034XS84K|Nancy Drew: The P...|          5|3.8531262248076406|               4.5|  0.6468737751923594| 3.607142857142857|-0.24598336766478335|  0.7459833676647833|  0.024586543| 4.278603175776036|\n",
            "|   47054137|           833|B0034XS84K|Nancy Drew: The P...|          5|3.8531262248076406|               4.6|  0.7468737751923591| 3.607142857142857|-0.24598336766478335|  0.6459833676647837| -0.048793815| 4.305222817258866|\n",
            "|   20436055|           833|B0034XS84K|Nancy Drew: The P...|          5|3.8531262248076406|               4.5|  0.6468737751923594| 3.607142857142857|-0.24598336766478335|  0.7459833676647833| -0.001088053| 4.252928579347165|\n",
            "|   52335769|           833|B0034XS84K|Nancy Drew: The P...|          1|3.8531262248076406|              3.75|-0.10312622480764055| 3.607142857142857|-0.24598336766478335| -2.5040166323352167|   0.12165996|  3.62567658920768|\n",
            "|   52244301|          1088|B00W9O1NDI|Lost Lands: The F...|          5|3.8531262248076406| 4.333333333333333|  0.4802071085256925| 3.409090909090909| -0.4440353157167314|  1.1107019823833983|   0.08203587|3.9713338869765717|\n",
            "|   46763360|          1088|B00W9O1NDI|Lost Lands: The F...|          5|3.8531262248076406|               5.0|  1.1468737751923594| 3.409090909090909| -0.4440353157167314|  0.4440353157167314| -0.024949677| 4.531015006994736|\n",
            "|   46620747|          1088|B00W9O1NDI|Lost Lands: The F...|          1|3.8531262248076406|              1.25| -2.6031262248076406| 3.409090909090909| -0.4440353157167314| 0.19403531571673138|   -0.0670051|0.7389595864172103|\n",
            "|   21192326|          1238|B006X5ASAS|Jagged Alliance -...|          4|3.8531262248076406|              4.75|  0.8968737751923594|2.5789473684210527|  -1.274178856386588|  0.5241788563865879|   -0.0762551|3.3995660456281445|\n",
            "+-----------+--------------+----------+--------------------+-----------+------------------+------------------+--------------------+------------------+--------------------+--------------------+-------------+------------------+\n",
            "only showing top 20 rows\n",
            "\n"
          ],
          "name": "stdout"
        }
      ]
    },
    {
      "cell_type": "code",
      "metadata": {
        "id": "CJw8wvA0KlO5",
        "colab_type": "code",
        "colab": {
          "base_uri": "https://localhost:8080/",
          "height": 34
        },
        "outputId": "333f2445-b4a2-47f7-cb11-feb56471c292"
      },
      "source": [
        "evaluator = RegressionEvaluator(metricName=\"rmse\", labelCol=\"star_rating\",\n",
        "                                predictionCol=\"predict\")\n",
        "rmse = evaluator.evaluate(predictions)\n",
        "print(\"Root-mean-square error = \" + str(rmse))"
      ],
      "execution_count": 51,
      "outputs": [
        {
          "output_type": "stream",
          "text": [
            "Root-mean-square error = 0.9857256609303019\n"
          ],
          "name": "stdout"
        }
      ]
    },
    {
      "cell_type": "markdown",
      "metadata": {
        "id": "NO1SoSBtEZGb",
        "colab_type": "text"
      },
      "source": [
        "# Recomendar Productos\n"
      ]
    },
    {
      "cell_type": "code",
      "metadata": {
        "id": "ag6rd9PFEdKN",
        "colab_type": "code",
        "colab": {}
      },
      "source": [
        "def recomendar_productos(model, all_prod, customer, num_recom=5):\n",
        "  user = ratings_df.where(ratings_df.customer_id == customer).select(\"customer_id\",\"product_new_id\", \"product_title\")\n",
        "  all_prod = all_prod.withColumn(\"customer_id\", lit(customer))\n",
        "  #se restan los productos de user al total de peliculas\n",
        "  productos = all_prod.subtract(user)\n",
        "  productos = productos.withColumn(\"customer_id\", productos.customer_id.cast(\"int\"))\n",
        "  recomendaciones = model.transform(productos)\n",
        "  recomendaciones.orderBy('prediction', ascending=False).limit(num_recom).show()"
      ],
      "execution_count": 0,
      "outputs": []
    },
    {
      "cell_type": "code",
      "metadata": {
        "id": "a15WPVy_25Xo",
        "colab_type": "code",
        "colab": {}
      },
      "source": [
        "ratings_df.registerTempTable(\"temp3\")\n",
        "\n",
        "query = \"\"\"\n",
        "  select distinct product_new_id, product_title\n",
        "  from temp3\n",
        "\"\"\"\n",
        "all_prod = spark.sql(query)\n",
        "#all_prod.show()"
      ],
      "execution_count": 0,
      "outputs": []
    },
    {
      "cell_type": "code",
      "metadata": {
        "id": "QTJfrXzJ3Qpt",
        "colab_type": "code",
        "colab": {
          "base_uri": "https://localhost:8080/",
          "height": 67
        },
        "outputId": "45834f10-3130-46ac-bf6b-4ee9153913a4"
      },
      "source": [
        "from pyspark.sql.functions import lit, rand\n",
        "ratings_df.select('customer_id').orderBy(rand()).limit(3).collect()"
      ],
      "execution_count": 64,
      "outputs": [
        {
          "output_type": "execute_result",
          "data": {
            "text/plain": [
              "[Row(customer_id=17993277),\n",
              " Row(customer_id=10271800),\n",
              " Row(customer_id=19910270)]"
            ]
          },
          "metadata": {
            "tags": []
          },
          "execution_count": 64
        }
      ]
    },
    {
      "cell_type": "code",
      "metadata": {
        "id": "UDs0BUUtF2uk",
        "colab_type": "code",
        "outputId": "ea9109fc-ffda-4347-a461-b7ae9a124d4c",
        "colab": {
          "base_uri": "https://localhost:8080/",
          "height": 202
        }
      },
      "source": [
        "#recomendar_productos(model, all_prod, 36639795)\n",
        "recomendar_productos(model, all_prod, 17993277,6)"
      ],
      "execution_count": 67,
      "outputs": [
        {
          "output_type": "stream",
          "text": [
            "+--------------+--------------------+-----------+----------+\n",
            "|product_new_id|       product_title|customer_id|prediction|\n",
            "+--------------+--------------------+-----------+----------+\n",
            "|          6848|Tycoon City: New ...|   17993277|  0.536095|\n",
            "|          5904|Sniper Elite 3 - ...|   17993277|0.48355195|\n",
            "|          6556|Speak & Learn Eng...|   17993277|0.48092166|\n",
            "|          5545|Blazing Angels Bu...|   17993277|0.47899956|\n",
            "|          5663|Circus Empire [Do...|   17993277| 0.4788028|\n",
            "|          3510|Star Raiders [Dow...|   17993277|0.47275764|\n",
            "+--------------+--------------------+-----------+----------+\n",
            "\n"
          ],
          "name": "stdout"
        }
      ]
    },
    {
      "cell_type": "code",
      "metadata": {
        "id": "ddarqUG5cyCv",
        "colab_type": "code",
        "colab": {}
      },
      "source": [
        "userRecs = model.recommendForAllUsers(5)"
      ],
      "execution_count": 0,
      "outputs": []
    },
    {
      "cell_type": "code",
      "metadata": {
        "id": "NqznGaMvoIXL",
        "colab_type": "code",
        "colab": {}
      },
      "source": [
        "recom=userRecs.where(userRecs.customer_id == 36639795).select(\"recommendations.product_id\", \"recommendations.rating\").collect()\n",
        "recom.show()"
      ],
      "execution_count": 0,
      "outputs": []
    }
  ]
}