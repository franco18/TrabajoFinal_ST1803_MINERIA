{
  "nbformat": 4,
  "nbformat_minor": 0,
  "metadata": {
    "colab": {
      "name": "TrabajoFinal.ipynb",
      "provenance": []
    },
    "kernelspec": {
      "name": "python3",
      "display_name": "Python 3"
    }
  },
  "cells": [
    {
      "cell_type": "code",
      "metadata": {
        "id": "3TXKZdB542gl",
        "colab_type": "code",
        "outputId": "e4b2f26e-e311-4544-b13b-e0fb28fc28a9",
        "colab": {
          "base_uri": "https://localhost:8080/",
          "height": 208
        }
      },
      "source": [
        "!wget https://s3.amazonaws.com/amazon-reviews-pds/tsv/amazon_reviews_us_Sports_v1_00.tsv.gz"
      ],
      "execution_count": 1,
      "outputs": [
        {
          "output_type": "stream",
          "text": [
            "--2020-03-22 23:41:49--  https://s3.amazonaws.com/amazon-reviews-pds/tsv/amazon_reviews_us_Sports_v1_00.tsv.gz\n",
            "Resolving s3.amazonaws.com (s3.amazonaws.com)... 52.217.8.134\n",
            "Connecting to s3.amazonaws.com (s3.amazonaws.com)|52.217.8.134|:443... connected.\n",
            "HTTP request sent, awaiting response... 200 OK\n",
            "Length: 872478735 (832M) [application/x-gzip]\n",
            "Saving to: ‘amazon_reviews_us_Sports_v1_00.tsv.gz’\n",
            "\n",
            "amazon_reviews_us_S 100%[===================>] 832.06M  89.2MB/s    in 9.0s    \n",
            "\n",
            "2020-03-22 23:42:03 (92.2 MB/s) - ‘amazon_reviews_us_Sports_v1_00.tsv.gz’ saved [872478735/872478735]\n",
            "\n"
          ],
          "name": "stdout"
        }
      ]
    },
    {
      "cell_type": "code",
      "metadata": {
        "id": "84vr547X5Jy3",
        "colab_type": "code",
        "colab": {}
      },
      "source": [
        "!gzip -d amazon_reviews_us_Sports_v1_00.tsv.gz"
      ],
      "execution_count": 0,
      "outputs": []
    },
    {
      "cell_type": "code",
      "metadata": {
        "id": "YZcYLsTCCcYP",
        "colab_type": "code",
        "outputId": "c54beafd-f55a-4cd1-8746-111ff8102ab0",
        "colab": {
          "base_uri": "https://localhost:8080/",
          "height": 87
        }
      },
      "source": [
        "!apt-get install openjdk-8-jdk -qq > /dev/null\n",
        "import os\n",
        "os.environ[\"JAVA_HOME\"] = \"/usr/lib/jvm/java-8-openjdk-amd64\"\n",
        "!update-alternatives --set java /usr/lib/jvm/java-8-openjdk-amd64/jre/bin/java\n",
        "!java -version"
      ],
      "execution_count": 3,
      "outputs": [
        {
          "output_type": "stream",
          "text": [
            "update-alternatives: using /usr/lib/jvm/java-8-openjdk-amd64/jre/bin/java to provide /usr/bin/java (java) in manual mode\n",
            "openjdk version \"1.8.0_242\"\n",
            "OpenJDK Runtime Environment (build 1.8.0_242-8u242-b08-0ubuntu3~18.04-b08)\n",
            "OpenJDK 64-Bit Server VM (build 25.242-b08, mixed mode)\n"
          ],
          "name": "stdout"
        }
      ]
    },
    {
      "cell_type": "code",
      "metadata": {
        "id": "DNBe5aaU4Nra",
        "colab_type": "code",
        "outputId": "ebee66de-b31b-4b9e-af8b-cde378a3621a",
        "colab": {
          "base_uri": "https://localhost:8080/",
          "height": 263
        }
      },
      "source": [
        "!pip install pyspark"
      ],
      "execution_count": 4,
      "outputs": [
        {
          "output_type": "stream",
          "text": [
            "Collecting pyspark\n",
            "\u001b[?25l  Downloading https://files.pythonhosted.org/packages/9a/5a/271c416c1c2185b6cb0151b29a91fff6fcaed80173c8584ff6d20e46b465/pyspark-2.4.5.tar.gz (217.8MB)\n",
            "\u001b[K     |████████████████████████████████| 217.8MB 62kB/s \n",
            "\u001b[?25hCollecting py4j==0.10.7\n",
            "\u001b[?25l  Downloading https://files.pythonhosted.org/packages/e3/53/c737818eb9a7dc32a7cd4f1396e787bd94200c3997c72c1dbe028587bd76/py4j-0.10.7-py2.py3-none-any.whl (197kB)\n",
            "\u001b[K     |████████████████████████████████| 204kB 56.4MB/s \n",
            "\u001b[?25hBuilding wheels for collected packages: pyspark\n",
            "  Building wheel for pyspark (setup.py) ... \u001b[?25l\u001b[?25hdone\n",
            "  Created wheel for pyspark: filename=pyspark-2.4.5-py2.py3-none-any.whl size=218257927 sha256=adcc91a19b47e8e7860e5d6374642a2d4fe715d0f489e1d17f71b73480822c54\n",
            "  Stored in directory: /root/.cache/pip/wheels/bf/db/04/61d66a5939364e756eb1c1be4ec5bdce6e04047fc7929a3c3c\n",
            "Successfully built pyspark\n",
            "Installing collected packages: py4j, pyspark\n",
            "Successfully installed py4j-0.10.7 pyspark-2.4.5\n"
          ],
          "name": "stdout"
        }
      ]
    },
    {
      "cell_type": "code",
      "metadata": {
        "id": "4YMZEfnT5Ds2",
        "colab_type": "code",
        "colab": {}
      },
      "source": [
        "import pandas as pd\n",
        "import numpy as np\n",
        "import seaborn as sn\n",
        "from pyspark.sql import SparkSession, Row\n",
        "import pyspark.sql.functions as F\n",
        "from pyspark.sql.types import IntegerType, StructType, StructField, StringType\n",
        "from pyspark.ml import Pipeline\n",
        "from pyspark.ml.evaluation import RegressionEvaluator\n",
        "from pyspark.ml.recommendation import ALS\n",
        "from pyspark.ml.tuning import CrossValidator, ParamGridBuilder\n",
        "from pyspark.ml.feature import VectorAssembler"
      ],
      "execution_count": 0,
      "outputs": []
    },
    {
      "cell_type": "code",
      "metadata": {
        "id": "jG8Uw-2L5IcI",
        "colab_type": "code",
        "colab": {
          "base_uri": "https://localhost:8080/",
          "height": 921
        },
        "outputId": "70e2d8cc-0201-4177-fc2f-299f402fea44"
      },
      "source": [
        "df = pd.read_csv('amazon_reviews_us_Sports_v1_00.tsv', sep='\\t', encoding='utf-8', error_bad_lines=False)"
      ],
      "execution_count": 6,
      "outputs": [
        {
          "output_type": "stream",
          "text": [
            "b'Skipping line 7549: expected 15 fields, saw 22\\nSkipping line 27856: expected 15 fields, saw 22\\nSkipping line 53399: expected 15 fields, saw 22\\n'\n",
            "b'Skipping line 76073: expected 15 fields, saw 22\\nSkipping line 89612: expected 15 fields, saw 22\\nSkipping line 93502: expected 15 fields, saw 22\\nSkipping line 96533: expected 15 fields, saw 22\\nSkipping line 107777: expected 15 fields, saw 22\\nSkipping line 114290: expected 15 fields, saw 22\\nSkipping line 118937: expected 15 fields, saw 22\\n'\n",
            "b'Skipping line 175061: expected 15 fields, saw 22\\nSkipping line 185159: expected 15 fields, saw 22\\nSkipping line 191448: expected 15 fields, saw 22\\n'\n",
            "b'Skipping line 217523: expected 15 fields, saw 22\\nSkipping line 217618: expected 15 fields, saw 22\\nSkipping line 238480: expected 15 fields, saw 22\\nSkipping line 242797: expected 15 fields, saw 22\\nSkipping line 258855: expected 15 fields, saw 22\\n'\n",
            "b'Skipping line 274223: expected 15 fields, saw 22\\nSkipping line 284977: expected 15 fields, saw 22\\nSkipping line 292275: expected 15 fields, saw 22\\nSkipping line 308205: expected 15 fields, saw 22\\nSkipping line 316345: expected 15 fields, saw 22\\nSkipping line 319263: expected 15 fields, saw 22\\n'\n",
            "b'Skipping line 346649: expected 15 fields, saw 22\\nSkipping line 358085: expected 15 fields, saw 22\\nSkipping line 367296: expected 15 fields, saw 22\\n'\n",
            "b'Skipping line 401531: expected 15 fields, saw 22\\nSkipping line 418883: expected 15 fields, saw 22\\nSkipping line 425090: expected 15 fields, saw 22\\nSkipping line 426609: expected 15 fields, saw 22\\n'\n",
            "b'Skipping line 477418: expected 15 fields, saw 22\\nSkipping line 478435: expected 15 fields, saw 22\\nSkipping line 482297: expected 15 fields, saw 22\\nSkipping line 486579: expected 15 fields, saw 22\\nSkipping line 498280: expected 15 fields, saw 22\\nSkipping line 514041: expected 15 fields, saw 22\\nSkipping line 524280: expected 15 fields, saw 22\\n'\n",
            "b'Skipping line 525919: expected 15 fields, saw 22\\nSkipping line 528040: expected 15 fields, saw 22\\nSkipping line 530763: expected 15 fields, saw 22\\nSkipping line 535716: expected 15 fields, saw 22\\nSkipping line 537226: expected 15 fields, saw 22\\nSkipping line 537298: expected 15 fields, saw 22\\nSkipping line 538452: expected 15 fields, saw 22\\nSkipping line 542895: expected 15 fields, saw 22\\nSkipping line 563939: expected 15 fields, saw 22\\nSkipping line 568311: expected 15 fields, saw 22\\nSkipping line 578715: expected 15 fields, saw 22\\nSkipping line 584889: expected 15 fields, saw 22\\nSkipping line 587404: expected 15 fields, saw 22\\n'\n",
            "b'Skipping line 594445: expected 15 fields, saw 22\\nSkipping line 600835: expected 15 fields, saw 22\\nSkipping line 602086: expected 15 fields, saw 22\\nSkipping line 610689: expected 15 fields, saw 22\\nSkipping line 615276: expected 15 fields, saw 22\\nSkipping line 622154: expected 15 fields, saw 22\\nSkipping line 628440: expected 15 fields, saw 22\\nSkipping line 631600: expected 15 fields, saw 22\\nSkipping line 636387: expected 15 fields, saw 22\\nSkipping line 638400: expected 15 fields, saw 22\\n'\n",
            "b'Skipping line 660741: expected 15 fields, saw 22\\nSkipping line 665127: expected 15 fields, saw 22\\nSkipping line 666026: expected 15 fields, saw 22\\nSkipping line 676698: expected 15 fields, saw 22\\nSkipping line 697971: expected 15 fields, saw 22\\nSkipping line 699669: expected 15 fields, saw 22\\nSkipping line 700379: expected 15 fields, saw 22\\n'\n",
            "b'Skipping line 741370: expected 15 fields, saw 22\\nSkipping line 741589: expected 15 fields, saw 22\\nSkipping line 758752: expected 15 fields, saw 22\\nSkipping line 781241: expected 15 fields, saw 22\\n'\n",
            "b'Skipping line 793782: expected 15 fields, saw 22\\nSkipping line 795108: expected 15 fields, saw 22\\nSkipping line 818334: expected 15 fields, saw 22\\nSkipping line 822690: expected 15 fields, saw 22\\n'\n",
            "b'Skipping line 855009: expected 15 fields, saw 22\\nSkipping line 870760: expected 15 fields, saw 22\\nSkipping line 891467: expected 15 fields, saw 22\\n'\n",
            "b'Skipping line 945450: expected 15 fields, saw 22\\nSkipping line 949785: expected 15 fields, saw 22\\nSkipping line 958534: expected 15 fields, saw 22\\n'\n",
            "b'Skipping line 1006147: expected 15 fields, saw 22\\nSkipping line 1020875: expected 15 fields, saw 22\\nSkipping line 1027474: expected 15 fields, saw 22\\nSkipping line 1033688: expected 15 fields, saw 22\\n'\n",
            "b'Skipping line 1056719: expected 15 fields, saw 22\\nSkipping line 1067438: expected 15 fields, saw 22\\nSkipping line 1079099: expected 15 fields, saw 22\\nSkipping line 1085814: expected 15 fields, saw 22\\nSkipping line 1112836: expected 15 fields, saw 22\\n'\n",
            "b'Skipping line 1124957: expected 15 fields, saw 22\\nSkipping line 1138765: expected 15 fields, saw 22\\nSkipping line 1148270: expected 15 fields, saw 22\\nSkipping line 1160930: expected 15 fields, saw 22\\nSkipping line 1162655: expected 15 fields, saw 22\\n'\n",
            "b'Skipping line 1192443: expected 15 fields, saw 22\\nSkipping line 1229660: expected 15 fields, saw 22\\nSkipping line 1244131: expected 15 fields, saw 22\\n'\n",
            "b'Skipping line 1250699: expected 15 fields, saw 22\\nSkipping line 1269442: expected 15 fields, saw 22\\nSkipping line 1279923: expected 15 fields, saw 22\\nSkipping line 1282927: expected 15 fields, saw 22\\nSkipping line 1286341: expected 15 fields, saw 22\\nSkipping line 1301270: expected 15 fields, saw 22\\nSkipping line 1306255: expected 15 fields, saw 22\\n'\n",
            "b'Skipping line 1340306: expected 15 fields, saw 22\\nSkipping line 1358550: expected 15 fields, saw 22\\n'\n",
            "b'Skipping line 1382569: expected 15 fields, saw 22\\nSkipping line 1390333: expected 15 fields, saw 22\\nSkipping line 1411659: expected 15 fields, saw 22\\nSkipping line 1440802: expected 15 fields, saw 22\\n'\n",
            "b'Skipping line 1442783: expected 15 fields, saw 22\\nSkipping line 1488812: expected 15 fields, saw 22\\n'\n",
            "b'Skipping line 1511179: expected 15 fields, saw 22\\nSkipping line 1518267: expected 15 fields, saw 22\\nSkipping line 1539821: expected 15 fields, saw 22\\nSkipping line 1542802: expected 15 fields, saw 22\\nSkipping line 1548443: expected 15 fields, saw 22\\nSkipping line 1549102: expected 15 fields, saw 22\\nSkipping line 1557671: expected 15 fields, saw 22\\nSkipping line 1560717: expected 15 fields, saw 22\\n'\n",
            "b'Skipping line 1583031: expected 15 fields, saw 22\\nSkipping line 1589830: expected 15 fields, saw 22\\nSkipping line 1593954: expected 15 fields, saw 22\\nSkipping line 1619714: expected 15 fields, saw 22\\nSkipping line 1626865: expected 15 fields, saw 22\\n'\n",
            "b'Skipping line 1640894: expected 15 fields, saw 22\\nSkipping line 1671105: expected 15 fields, saw 22\\nSkipping line 1682719: expected 15 fields, saw 22\\nSkipping line 1698705: expected 15 fields, saw 22\\n'\n",
            "b'Skipping line 1709202: expected 15 fields, saw 22\\nSkipping line 1732031: expected 15 fields, saw 22\\nSkipping line 1753028: expected 15 fields, saw 22\\nSkipping line 1757021: expected 15 fields, saw 22\\nSkipping line 1759784: expected 15 fields, saw 22\\nSkipping line 1765336: expected 15 fields, saw 22\\n'\n",
            "b'Skipping line 1787006: expected 15 fields, saw 22\\nSkipping line 1799108: expected 15 fields, saw 22\\nSkipping line 1800352: expected 15 fields, saw 22\\nSkipping line 1820265: expected 15 fields, saw 22\\nSkipping line 1829829: expected 15 fields, saw 22\\n'\n",
            "b'Skipping line 1836210: expected 15 fields, saw 22\\nSkipping line 1837913: expected 15 fields, saw 22\\nSkipping line 1838322: expected 15 fields, saw 22\\nSkipping line 1850799: expected 15 fields, saw 22\\nSkipping line 1851660: expected 15 fields, saw 22\\nSkipping line 1851760: expected 15 fields, saw 22\\nSkipping line 1856953: expected 15 fields, saw 22\\nSkipping line 1877331: expected 15 fields, saw 22\\nSkipping line 1879194: expected 15 fields, saw 22\\nSkipping line 1885539: expected 15 fields, saw 22\\n'\n",
            "b'Skipping line 1914602: expected 15 fields, saw 22\\nSkipping line 1920033: expected 15 fields, saw 22\\nSkipping line 1920128: expected 15 fields, saw 22\\nSkipping line 1928420: expected 15 fields, saw 22\\nSkipping line 1932534: expected 15 fields, saw 22\\nSkipping line 1938472: expected 15 fields, saw 22\\nSkipping line 1955911: expected 15 fields, saw 22\\nSkipping line 1957872: expected 15 fields, saw 22\\n'\n",
            "b'Skipping line 1981562: expected 15 fields, saw 22\\nSkipping line 2018197: expected 15 fields, saw 22\\n'\n",
            "b'Skipping line 2036017: expected 15 fields, saw 22\\nSkipping line 2057336: expected 15 fields, saw 22\\n'\n",
            "b'Skipping line 2115217: expected 15 fields, saw 22\\nSkipping line 2123227: expected 15 fields, saw 22\\nSkipping line 2139547: expected 15 fields, saw 22\\n'\n",
            "b'Skipping line 2180195: expected 15 fields, saw 22\\nSkipping line 2227967: expected 15 fields, saw 22\\n'\n",
            "b'Skipping line 2239370: expected 15 fields, saw 22\\nSkipping line 2248833: expected 15 fields, saw 22\\nSkipping line 2270257: expected 15 fields, saw 22\\n'\n",
            "b'Skipping line 2294088: expected 15 fields, saw 22\\nSkipping line 2339075: expected 15 fields, saw 22\\nSkipping line 2341949: expected 15 fields, saw 22\\nSkipping line 2355932: expected 15 fields, saw 22\\nSkipping line 2358472: expected 15 fields, saw 22\\n'\n",
            "b'Skipping line 2380375: expected 15 fields, saw 22\\nSkipping line 2421317: expected 15 fields, saw 22\\n'\n",
            "b'Skipping line 2427097: expected 15 fields, saw 22\\nSkipping line 2430168: expected 15 fields, saw 22\\nSkipping line 2433981: expected 15 fields, saw 22\\nSkipping line 2435256: expected 15 fields, saw 22\\nSkipping line 2459832: expected 15 fields, saw 22\\nSkipping line 2461658: expected 15 fields, saw 22\\nSkipping line 2488261: expected 15 fields, saw 22\\n'\n",
            "b'Skipping line 2511271: expected 15 fields, saw 22\\nSkipping line 2515564: expected 15 fields, saw 22\\n'\n",
            "b'Skipping line 2739141: expected 15 fields, saw 22\\n'\n",
            "b'Skipping line 2903749: expected 15 fields, saw 22\\nSkipping line 2934812: expected 15 fields, saw 22\\n'\n",
            "b'Skipping line 3005263: expected 15 fields, saw 22\\n'\n",
            "b'Skipping line 3312771: expected 15 fields, saw 22\\n'\n",
            "b'Skipping line 3362891: expected 15 fields, saw 22\\n'\n",
            "b'Skipping line 3522495: expected 15 fields, saw 22\\n'\n",
            "b'Skipping line 3580053: expected 15 fields, saw 22\\n'\n",
            "b'Skipping line 4278901: expected 15 fields, saw 22\\n'\n",
            "b'Skipping line 4488253: expected 15 fields, saw 22\\n'\n",
            "b'Skipping line 4775463: expected 15 fields, saw 22\\n'\n",
            "/usr/local/lib/python3.6/dist-packages/IPython/core/interactiveshell.py:2718: DtypeWarning: Columns (7) have mixed types. Specify dtype option on import or set low_memory=False.\n",
            "  interactivity=interactivity, compiler=compiler, result=result)\n"
          ],
          "name": "stderr"
        }
      ]
    },
    {
      "cell_type": "code",
      "metadata": {
        "id": "tJI3E4fzc2wE",
        "colab_type": "code",
        "colab": {}
      },
      "source": [
        "#Subset\n",
        "df = df.loc[0:1000000]"
      ],
      "execution_count": 0,
      "outputs": []
    },
    {
      "cell_type": "code",
      "metadata": {
        "id": "mN5LoHfx517T",
        "colab_type": "code",
        "outputId": "bad568e2-a6b4-4ee7-e731-3921894e6c45",
        "colab": {
          "base_uri": "https://localhost:8080/",
          "height": 35
        }
      },
      "source": [
        "df.shape"
      ],
      "execution_count": 8,
      "outputs": [
        {
          "output_type": "execute_result",
          "data": {
            "text/plain": [
              "(1000001, 15)"
            ]
          },
          "metadata": {
            "tags": []
          },
          "execution_count": 8
        }
      ]
    },
    {
      "cell_type": "code",
      "metadata": {
        "id": "dgTFfGPg6wJp",
        "colab_type": "code",
        "outputId": "ce1fcc50-0bdf-44cd-c31f-eeed7d4cced7",
        "colab": {
          "base_uri": "https://localhost:8080/",
          "height": 295
        }
      },
      "source": [
        "df.dtypes"
      ],
      "execution_count": 10,
      "outputs": [
        {
          "output_type": "execute_result",
          "data": {
            "text/plain": [
              "marketplace           object\n",
              "customer_id            int64\n",
              "review_id             object\n",
              "product_id            object\n",
              "product_parent         int64\n",
              "product_title         object\n",
              "product_category      object\n",
              "star_rating           object\n",
              "helpful_votes        float64\n",
              "total_votes          float64\n",
              "vine                  object\n",
              "verified_purchase     object\n",
              "review_headline       object\n",
              "review_body           object\n",
              "review_date           object\n",
              "dtype: object"
            ]
          },
          "metadata": {
            "tags": []
          },
          "execution_count": 10
        }
      ]
    },
    {
      "cell_type": "code",
      "metadata": {
        "id": "9pY-UYhE6ynv",
        "colab_type": "code",
        "outputId": "fee438d0-f2ee-44b2-c7ac-8f6f76b3d7fa",
        "colab": {
          "base_uri": "https://localhost:8080/",
          "height": 87
        }
      },
      "source": [
        "df['star_rating'].unique()"
      ],
      "execution_count": 11,
      "outputs": [
        {
          "output_type": "execute_result",
          "data": {
            "text/plain": [
              "array(['5', '1', '3', '4', '2', '2015-08-26', nan, 3, 5, 4, 1, 2,\n",
              "       '2015-08-11', '2015-07-09', '2015-06-07', '2015-05-31',\n",
              "       '2015-05-27', '2015-05-25', '2015-05-20', '2015-05-04',\n",
              "       '2015-04-18'], dtype=object)"
            ]
          },
          "metadata": {
            "tags": []
          },
          "execution_count": 11
        }
      ]
    },
    {
      "cell_type": "code",
      "metadata": {
        "id": "40Kdd_r99wj3",
        "colab_type": "code",
        "colab": {}
      },
      "source": [
        "df = df.loc[df['star_rating'].isin([1,2,3,4,5,'1','2','3','4','5'])]\n",
        "df['star_rating'] = df[['star_rating']].astype(int)"
      ],
      "execution_count": 0,
      "outputs": []
    },
    {
      "cell_type": "code",
      "metadata": {
        "id": "t0pndX9lFPU9",
        "colab_type": "code",
        "outputId": "b27ddc85-2b5a-4dc8-a3d3-c755090b2fb2",
        "colab": {
          "base_uri": "https://localhost:8080/",
          "height": 121
        }
      },
      "source": [
        "df['star_rating'].value_counts()"
      ],
      "execution_count": 13,
      "outputs": [
        {
          "output_type": "execute_result",
          "data": {
            "text/plain": [
              "5    657534\n",
              "4    153615\n",
              "1     72827\n",
              "3     72040\n",
              "2     43972\n",
              "Name: star_rating, dtype: int64"
            ]
          },
          "metadata": {
            "tags": []
          },
          "execution_count": 13
        }
      ]
    },
    {
      "cell_type": "code",
      "metadata": {
        "id": "YZJjTmkmuh8G",
        "colab_type": "code",
        "colab": {}
      },
      "source": [
        "category = df.groupby(\"product_id\")[\"product_id\"].count()"
      ],
      "execution_count": 0,
      "outputs": []
    },
    {
      "cell_type": "code",
      "metadata": {
        "id": "3vsSb1cHutLm",
        "colab_type": "code",
        "outputId": "e400f7eb-133a-4b8a-946b-4f8da5c3a932",
        "colab": {
          "base_uri": "https://localhost:8080/",
          "height": 225
        }
      },
      "source": [
        "category.head(10)"
      ],
      "execution_count": 15,
      "outputs": [
        {
          "output_type": "execute_result",
          "data": {
            "text/plain": [
              "product_id\n",
              "0201593246    4\n",
              "0500615594    1\n",
              "052800607X    8\n",
              "0615329020    2\n",
              "0615389953    1\n",
              "0615614604    1\n",
              "0615637620    7\n",
              "061586628X    3\n",
              "0692250573    1\n",
              "0743273575    6\n",
              "Name: product_id, dtype: int64"
            ]
          },
          "metadata": {
            "tags": []
          },
          "execution_count": 15
        }
      ]
    },
    {
      "cell_type": "code",
      "metadata": {
        "id": "wkk4YW614lxb",
        "colab_type": "code",
        "colab": {}
      },
      "source": [
        "spark = SparkSession.builder\\\n",
        "       .appName(\"Simple recommendation engine using Spark MLlib\")\\\n",
        "       .config(\"spark.some.config.option\", \"config-value\")\\\n",
        "       .getOrCreate()"
      ],
      "execution_count": 0,
      "outputs": []
    },
    {
      "cell_type": "code",
      "metadata": {
        "id": "aBOUFI5U3LWF",
        "colab_type": "code",
        "colab": {}
      },
      "source": [
        "ratings_df = spark.read.csv(\"amazon_reviews_us_Sports_v1_00.tsv\", sep='\\t',header=True)"
      ],
      "execution_count": 0,
      "outputs": []
    },
    {
      "cell_type": "code",
      "metadata": {
        "id": "CQ2vFUgb6Gv0",
        "colab_type": "code",
        "outputId": "a383c329-761e-45f8-c51c-1381813cc550",
        "colab": {
          "base_uri": "https://localhost:8080/",
          "height": 312
        }
      },
      "source": [
        "ratings_df.printSchema()"
      ],
      "execution_count": 18,
      "outputs": [
        {
          "output_type": "stream",
          "text": [
            "root\n",
            " |-- marketplace: string (nullable = true)\n",
            " |-- customer_id: string (nullable = true)\n",
            " |-- review_id: string (nullable = true)\n",
            " |-- product_id: string (nullable = true)\n",
            " |-- product_parent: string (nullable = true)\n",
            " |-- product_title: string (nullable = true)\n",
            " |-- product_category: string (nullable = true)\n",
            " |-- star_rating: string (nullable = true)\n",
            " |-- helpful_votes: string (nullable = true)\n",
            " |-- total_votes: string (nullable = true)\n",
            " |-- vine: string (nullable = true)\n",
            " |-- verified_purchase: string (nullable = true)\n",
            " |-- review_headline: string (nullable = true)\n",
            " |-- review_body: string (nullable = true)\n",
            " |-- review_date: string (nullable = true)\n",
            "\n"
          ],
          "name": "stdout"
        }
      ]
    },
    {
      "cell_type": "code",
      "metadata": {
        "id": "J2GqTa-ssHm9",
        "colab_type": "code",
        "colab": {
          "base_uri": "https://localhost:8080/",
          "height": 208
        },
        "outputId": "007b8d92-c280-43b9-f925-b6e835cefcf9"
      },
      "source": [
        "ratings_df.select(\"customer_id\",'review_id','product_id','product_title','product_category','star_rating','review_headline','review_body','review_date').show(5)"
      ],
      "execution_count": 25,
      "outputs": [
        {
          "output_type": "stream",
          "text": [
            "+-----------+--------------+----------+--------------------+----------------+-----------+--------------------+--------------------+-----------+\n",
            "|customer_id|     review_id|product_id|       product_title|product_category|star_rating|     review_headline|         review_body|review_date|\n",
            "+-----------+--------------+----------+--------------------+----------------+-----------+--------------------+--------------------+-----------+\n",
            "|   48945260|R1WBPB8MDCCN8F|B012P7UPSM|Chicago Blackhawk...|          Sports|          5|   LOVE IT. 6 stars!|Bought this last ...| 2015-08-31|\n",
            "|    5782091|R32M0YEWV77XG8|B001GQ3VHG|Copag Poker Size ...|          Sports|          5|       Shipped fast.|These are the bes...| 2015-08-31|\n",
            "|   45813853| RR8V7WR27NXJ5|B008VS8M58|Baoer 223 5.56x45...|          Sports|          1|Good idea if it w...|It looks good, th...| 2015-08-31|\n",
            "|    1593730|R1MHO5V9Z932AY|B005F06F4U|All Terrain Tackl...|          Sports|          5|          Five Stars|           Great jig| 2015-08-31|\n",
            "|   29605511|R16PD71086BD2V|B010T4IE2C|Swim Cap - 3 Pack...|          Sports|          5|Great quality sil...|I love swimming i...| 2015-08-31|\n",
            "+-----------+--------------+----------+--------------------+----------------+-----------+--------------------+--------------------+-----------+\n",
            "only showing top 5 rows\n",
            "\n"
          ],
          "name": "stdout"
        }
      ]
    },
    {
      "cell_type": "code",
      "metadata": {
        "id": "g3m8n6xx50QM",
        "colab_type": "code",
        "outputId": "17268365-b839-4a5e-bb14-b5b07070a6d9",
        "colab": {
          "base_uri": "https://localhost:8080/",
          "height": 193
        }
      },
      "source": [
        "ratings_df.show(3)"
      ],
      "execution_count": 20,
      "outputs": [
        {
          "output_type": "stream",
          "text": [
            "+-----------+-----------+--------------+----------+--------------+--------------------+----------------+-----------+-------------+-----------+----+-----------------+--------------------+--------------------+-----------+\n",
            "|marketplace|customer_id|     review_id|product_id|product_parent|       product_title|product_category|star_rating|helpful_votes|total_votes|vine|verified_purchase|     review_headline|         review_body|review_date|\n",
            "+-----------+-----------+--------------+----------+--------------+--------------------+----------------+-----------+-------------+-----------+----+-----------------+--------------------+--------------------+-----------+\n",
            "|         US|   48945260|R1WBPB8MDCCN8F|B012P7UPSM|     409940130|Chicago Blackhawk...|          Sports|          5|            0|          0|   N|                N|   LOVE IT. 6 stars!|Bought this last ...| 2015-08-31|\n",
            "|         US|    5782091|R32M0YEWV77XG8|B001GQ3VHG|     657746679|Copag Poker Size ...|          Sports|          5|            1|          1|   N|                Y|       Shipped fast.|These are the bes...| 2015-08-31|\n",
            "|         US|   45813853| RR8V7WR27NXJ5|B008VS8M58|     962442336|Baoer 223 5.56x45...|          Sports|          1|            0|          0|   N|                Y|Good idea if it w...|It looks good, th...| 2015-08-31|\n",
            "+-----------+-----------+--------------+----------+--------------+--------------------+----------------+-----------+-------------+-----------+----+-----------------+--------------------+--------------------+-----------+\n",
            "only showing top 3 rows\n",
            "\n"
          ],
          "name": "stdout"
        }
      ]
    },
    {
      "cell_type": "code",
      "metadata": {
        "id": "o6SLEST7-K1E",
        "colab_type": "code",
        "colab": {}
      },
      "source": [
        "ratings_df.registerTempTable(\"value\")\n",
        "query = \"\"\"\n",
        "SELECT \n",
        "  marketplace, \n",
        "  customer_id, \n",
        "  review_id, \n",
        "  product_id, \n",
        "  product_parent, \n",
        "  product_title, \n",
        "  product_category, \n",
        "  cast(star_rating as int) as star_rating, \n",
        "  helpful_votes, \n",
        "  total_votes, \n",
        "  vine, \n",
        "  verified_purchase, \n",
        "  review_headline, \n",
        "  review_body, \n",
        "  review_date\n",
        "FROM value as t1\n",
        "where star_rating in (1,2,3,4,5,'1','2','3','4','5')\n",
        "limit 1000000\n",
        "\"\"\"\n",
        "ratings_df = spark.sql(query)"
      ],
      "execution_count": 0,
      "outputs": []
    },
    {
      "cell_type": "code",
      "metadata": {
        "id": "kATXZXfW_QvZ",
        "colab_type": "code",
        "colab": {}
      },
      "source": [
        "from pyspark.ml.evaluation import RegressionEvaluator\n",
        "from pyspark.ml.recommendation import ALS\n",
        "from pyspark.sql import Row\n",
        "from pyspark.ml.tuning import TrainValidationSplit, ParamGridBuilder"
      ],
      "execution_count": 0,
      "outputs": []
    },
    {
      "cell_type": "code",
      "metadata": {
        "id": "BF4bAu_WI0DC",
        "colab_type": "code",
        "colab": {}
      },
      "source": [
        "ratings_df.registerTempTable(\"value\")\n",
        "query = \"\"\"\n",
        "SELECT \n",
        "  cast(customer_id as int) as customer_id, \n",
        "  cast(product_id as int) as product_id, \n",
        "  star_rating,\n",
        "  review_date\n",
        "FROM value as t1\n",
        "where cast(customer_id as int) is not null and\n",
        "      cast(product_id as int)  is not null and\n",
        "      star_rating              is not null and\n",
        "      review_date              is not null\n",
        "\"\"\"\n",
        "ratings = spark.sql(query)"
      ],
      "execution_count": 0,
      "outputs": []
    },
    {
      "cell_type": "code",
      "metadata": {
        "id": "NTC4wzmtKm2I",
        "colab_type": "code",
        "colab": {}
      },
      "source": [
        "(training, test) = ratings.randomSplit([0.8, 0.2])"
      ],
      "execution_count": 0,
      "outputs": []
    },
    {
      "cell_type": "code",
      "metadata": {
        "id": "C-E0nx12KsUS",
        "colab_type": "code",
        "colab": {}
      },
      "source": [
        "als = ALS(maxIter=20, regParam=0.01, userCol=\"customer_id\", itemCol=\"product_id\", ratingCol=\"star_rating\",\n",
        "          coldStartStrategy=\"drop\")\n",
        "model = als.fit(training)"
      ],
      "execution_count": 0,
      "outputs": []
    },
    {
      "cell_type": "code",
      "metadata": {
        "id": "RE2O_dkaP1gV",
        "colab_type": "code",
        "outputId": "08ccde30-f800-4f32-b2bf-6a4d9e954aeb",
        "colab": {
          "base_uri": "https://localhost:8080/",
          "height": 35
        }
      },
      "source": [
        "predictions = model.transform(test)\n",
        "evaluator = RegressionEvaluator(metricName=\"rmse\", labelCol=\"star_rating\",\n",
        "                                predictionCol=\"prediction\")\n",
        "rmse = evaluator.evaluate(predictions)\n",
        "print(\"Root-mean-square error = \" + str(rmse))"
      ],
      "execution_count": 31,
      "outputs": [
        {
          "output_type": "stream",
          "text": [
            "Root-mean-square error = 2.5919395685195923\n"
          ],
          "name": "stdout"
        }
      ]
    },
    {
      "cell_type": "code",
      "metadata": {
        "id": "DCWbqynKQF7N",
        "colab_type": "code",
        "colab": {}
      },
      "source": [
        "userRecs = model.recommendForAllUsers(10)\n",
        "# Generate top 10 user recommendations for each movie\n",
        "productRecs = model.recommendForAllItems(10)"
      ],
      "execution_count": 0,
      "outputs": []
    },
    {
      "cell_type": "code",
      "metadata": {
        "id": "KRpLOGBUQa_0",
        "colab_type": "code",
        "outputId": "fc1e5da6-3486-4bf8-8eca-ec8b388de701",
        "colab": {
          "base_uri": "https://localhost:8080/",
          "height": 468
        }
      },
      "source": [
        "productRecs.show()"
      ],
      "execution_count": 33,
      "outputs": [
        {
          "output_type": "stream",
          "text": [
            "+----------+--------------------+\n",
            "|product_id|     recommendations|\n",
            "+----------+--------------------+\n",
            "| 975780743|[[47331168, 4.997...|\n",
            "|1427651272|[[35422133, 4.997...|\n",
            "|1616082828|[[27971424, 3.996...|\n",
            "| 615614604|[[50615047, 4.997...|\n",
            "|1934653764|[[26638037, 3.996...|\n",
            "|1594393761|[[38176138, 4.998...|\n",
            "| 989448088|[[46040126, 0.989...|\n",
            "|1931676003|[[15133130, 4.997...|\n",
            "|1300966955|[[15552424, 4.997...|\n",
            "|1553602080|[[15255475, 5.000...|\n",
            "| 983609284|[[10798467, 5.000...|\n",
            "| 972639500|[[10718919, 3.996...|\n",
            "| 982123272|[[24392096, 4.998...|\n",
            "| 875682030|[[33704387, 4.997...|\n",
            "|1553602102|[[15255475, 4.996...|\n",
            "|1402734484|[[20181159, 4.997...|\n",
            "| 201593246|[[15265695, 4.998...|\n",
            "|1892524031|[[2607490, 4.9972...|\n",
            "|1553602153|[[15255475, 4.996...|\n",
            "|1607302438|[[14711022, 4.997...|\n",
            "+----------+--------------------+\n",
            "only showing top 20 rows\n",
            "\n"
          ],
          "name": "stdout"
        }
      ]
    }
  ]
}