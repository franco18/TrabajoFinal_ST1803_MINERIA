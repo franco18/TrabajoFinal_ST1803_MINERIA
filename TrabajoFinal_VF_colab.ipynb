{
  "nbformat": 4,
  "nbformat_minor": 0,
  "metadata": {
    "colab": {
      "name": "TrabajoFinal_(Andres)_V3_colab.ipynb",
      "provenance": [],
      "collapsed_sections": [],
      "toc_visible": true
    },
    "kernelspec": {
      "name": "python3",
      "display_name": "Python 3"
    }
  },
  "cells": [
    {
      "cell_type": "markdown",
      "metadata": {
        "id": "2Rc3DSq3rhBc",
        "colab_type": "text"
      },
      "source": [
        "# Sistema de recomendación - Collaborative Filtering\n",
        "\n",
        "Andrés Franco Zapata\\\n",
        "Juliana Ochoa Ramirez\\\n",
        "Juan Esteban Torres Marulanda"
      ]
    },
    {
      "cell_type": "code",
      "metadata": {
        "id": "uliys3jjzkta",
        "colab_type": "code",
        "outputId": "5ade9a5d-af59-4bc3-935b-0207b5587815",
        "colab": {
          "base_uri": "https://localhost:8080/",
          "height": 202
        }
      },
      "source": [
        "!wget https://s3.amazonaws.com/amazon-reviews-pds/tsv/amazon_reviews_us_Sports_v1_00.tsv.gz"
      ],
      "execution_count": 0,
      "outputs": [
        {
          "output_type": "stream",
          "text": [
            "--2020-04-17 23:42:23--  https://s3.amazonaws.com/amazon-reviews-pds/tsv/amazon_reviews_us_Sports_v1_00.tsv.gz\n",
            "Resolving s3.amazonaws.com (s3.amazonaws.com)... 52.216.142.30\n",
            "Connecting to s3.amazonaws.com (s3.amazonaws.com)|52.216.142.30|:443... connected.\n",
            "HTTP request sent, awaiting response... 200 OK\n",
            "Length: 872478735 (832M) [application/x-gzip]\n",
            "Saving to: ‘amazon_reviews_us_Sports_v1_00.tsv.gz’\n",
            "\n",
            "amazon_reviews_us_S 100%[===================>] 832.06M  16.6MB/s    in 52s     \n",
            "\n",
            "2020-04-17 23:43:16 (16.1 MB/s) - ‘amazon_reviews_us_Sports_v1_00.tsv.gz’ saved [872478735/872478735]\n",
            "\n"
          ],
          "name": "stdout"
        }
      ]
    },
    {
      "cell_type": "code",
      "metadata": {
        "id": "20ySm65KzqdX",
        "colab_type": "code",
        "outputId": "3a76d5a0-0e52-45b4-c450-0b86aa599afd",
        "colab": {
          "base_uri": "https://localhost:8080/",
          "height": 202
        }
      },
      "source": [
        "!wget https://s3.amazonaws.com/amazon-reviews-pds/tsv/amazon_reviews_us_Video_Games_v1_00.tsv.gz"
      ],
      "execution_count": 0,
      "outputs": [
        {
          "output_type": "stream",
          "text": [
            "--2020-04-17 23:43:17--  https://s3.amazonaws.com/amazon-reviews-pds/tsv/amazon_reviews_us_Video_Games_v1_00.tsv.gz\n",
            "Resolving s3.amazonaws.com (s3.amazonaws.com)... 52.216.204.29\n",
            "Connecting to s3.amazonaws.com (s3.amazonaws.com)|52.216.204.29|:443... connected.\n",
            "HTTP request sent, awaiting response... 200 OK\n",
            "Length: 475199894 (453M) [application/x-gzip]\n",
            "Saving to: ‘amazon_reviews_us_Video_Games_v1_00.tsv.gz’\n",
            "\n",
            "amazon_reviews_us_V 100%[===================>] 453.19M  16.7MB/s    in 29s     \n",
            "\n",
            "2020-04-17 23:43:46 (15.7 MB/s) - ‘amazon_reviews_us_Video_Games_v1_00.tsv.gz’ saved [475199894/475199894]\n",
            "\n"
          ],
          "name": "stdout"
        }
      ]
    },
    {
      "cell_type": "code",
      "metadata": {
        "id": "VwftVilo443e",
        "colab_type": "code",
        "outputId": "66c8033b-86cf-481b-9bb7-c8b688ad546e",
        "colab": {
          "base_uri": "https://localhost:8080/",
          "height": 228
        }
      },
      "source": [
        "!wget https://s3.amazonaws.com/amazon-reviews-pds/tsv/amazon_reviews_us_Digital_Video_Games_v1_00.tsv.gz"
      ],
      "execution_count": 0,
      "outputs": [
        {
          "output_type": "stream",
          "text": [
            "--2020-04-18 03:03:40--  https://s3.amazonaws.com/amazon-reviews-pds/tsv/amazon_reviews_us_Digital_Video_Games_v1_00.tsv.gz\n",
            "Resolving s3.amazonaws.com (s3.amazonaws.com)... 52.216.184.101\n",
            "Connecting to s3.amazonaws.com (s3.amazonaws.com)|52.216.184.101|:443... connected.\n",
            "HTTP request sent, awaiting response... 200 OK\n",
            "Length: 27442648 (26M) [application/x-gzip]\n",
            "Saving to: ‘amazon_reviews_us_Digital_Video_Games_v1_00.tsv.gz’\n",
            "\n",
            "\r          amazon_re   0%[                    ]       0  --.-KB/s               \r         amazon_rev   7%[>                   ]   2.00M  9.98MB/s               \r        amazon_revi  83%[===============>    ]  21.78M  54.3MB/s               \ramazon_reviews_us_D 100%[===================>]  26.17M  59.5MB/s    in 0.4s    \n",
            "\n",
            "2020-04-18 03:03:41 (59.5 MB/s) - ‘amazon_reviews_us_Digital_Video_Games_v1_00.tsv.gz’ saved [27442648/27442648]\n",
            "\n"
          ],
          "name": "stdout"
        }
      ]
    },
    {
      "cell_type": "code",
      "metadata": {
        "id": "dEqVPRRuzu-w",
        "colab_type": "code",
        "colab": {}
      },
      "source": [
        "!gzip -d amazon_reviews_us_Sports_v1_00.tsv.gz"
      ],
      "execution_count": 0,
      "outputs": []
    },
    {
      "cell_type": "code",
      "metadata": {
        "id": "_I6iwSr6zx2H",
        "colab_type": "code",
        "colab": {}
      },
      "source": [
        "!gzip -d amazon_reviews_us_Video_Games_v1_00.tsv.gz"
      ],
      "execution_count": 0,
      "outputs": []
    },
    {
      "cell_type": "code",
      "metadata": {
        "id": "RVVhF9SL4-h7",
        "colab_type": "code",
        "colab": {}
      },
      "source": [
        "!gzip -d amazon_reviews_us_Digital_Video_Games_v1_00.tsv.gz"
      ],
      "execution_count": 0,
      "outputs": []
    },
    {
      "cell_type": "code",
      "metadata": {
        "id": "WGdDPpm2z2ny",
        "colab_type": "code",
        "outputId": "7b95deb2-ecee-4ca6-c2ca-5851449a084c",
        "colab": {
          "base_uri": "https://localhost:8080/",
          "height": 107
        }
      },
      "source": [
        "!apt-get install openjdk-8-jdk -qq > /dev/null\n",
        "import os\n",
        "os.environ[\"JAVA_HOME\"] = \"/usr/lib/jvm/java-8-openjdk-amd64\"\n",
        "!update-alternatives --set java /usr/lib/jvm/java-8-openjdk-amd64/jre/bin/java\n",
        "!java -version"
      ],
      "execution_count": 0,
      "outputs": [
        {
          "output_type": "stream",
          "text": [
            "update-alternatives: using /usr/lib/jvm/java-8-openjdk-amd64/jre/bin/java to provide /usr/bin/java (java) in manual mode\n",
            "openjdk version \"1.8.0_242\"\n",
            "OpenJDK Runtime Environment (build 1.8.0_242-8u242-b08-0ubuntu3~18.04-b08)\n",
            "OpenJDK 64-Bit Server VM (build 25.242-b08, mixed mode)\n"
          ],
          "name": "stdout"
        }
      ]
    },
    {
      "cell_type": "code",
      "metadata": {
        "id": "ccH0luHI0G9B",
        "colab_type": "code",
        "outputId": "4b5f5875-898c-4654-b053-5a779e1a6480",
        "colab": {
          "base_uri": "https://localhost:8080/",
          "height": 263
        }
      },
      "source": [
        "!pip install pyspark"
      ],
      "execution_count": 0,
      "outputs": [
        {
          "output_type": "stream",
          "text": [
            "Collecting pyspark\n",
            "\u001b[?25l  Downloading https://files.pythonhosted.org/packages/9a/5a/271c416c1c2185b6cb0151b29a91fff6fcaed80173c8584ff6d20e46b465/pyspark-2.4.5.tar.gz (217.8MB)\n",
            "\u001b[K     |████████████████████████████████| 217.8MB 63kB/s \n",
            "\u001b[?25hCollecting py4j==0.10.7\n",
            "\u001b[?25l  Downloading https://files.pythonhosted.org/packages/e3/53/c737818eb9a7dc32a7cd4f1396e787bd94200c3997c72c1dbe028587bd76/py4j-0.10.7-py2.py3-none-any.whl (197kB)\n",
            "\u001b[K     |████████████████████████████████| 204kB 17.1MB/s \n",
            "\u001b[?25hBuilding wheels for collected packages: pyspark\n",
            "  Building wheel for pyspark (setup.py) ... \u001b[?25l\u001b[?25hdone\n",
            "  Created wheel for pyspark: filename=pyspark-2.4.5-py2.py3-none-any.whl size=218257927 sha256=8e3f0e70f84d4b17df34cdceb7a7f317771e21115f9d387dba575b5cce532b08\n",
            "  Stored in directory: /root/.cache/pip/wheels/bf/db/04/61d66a5939364e756eb1c1be4ec5bdce6e04047fc7929a3c3c\n",
            "Successfully built pyspark\n",
            "Installing collected packages: py4j, pyspark\n",
            "Successfully installed py4j-0.10.7 pyspark-2.4.5\n"
          ],
          "name": "stdout"
        }
      ]
    },
    {
      "cell_type": "code",
      "metadata": {
        "id": "a5U62HUD0J3j",
        "colab_type": "code",
        "outputId": "d35f2c60-0ff3-40b7-f5a5-97f2725a5de2",
        "colab": {
          "base_uri": "https://localhost:8080/",
          "height": 72
        }
      },
      "source": [
        "import pandas as pd\n",
        "import numpy as np\n",
        "import seaborn as sn\n",
        "import matplotlib.pyplot as plt\n",
        "from pyspark.sql import SparkSession, Row\n",
        "import pyspark.sql.functions as F\n",
        "from pyspark.sql.types import IntegerType, StructType, StructField, StringType\n",
        "from pyspark.ml import Pipeline\n",
        "from pyspark.ml.evaluation import RegressionEvaluator\n",
        "from pyspark.ml.recommendation import ALS\n",
        "from pyspark.ml.tuning import CrossValidator, ParamGridBuilder\n",
        "from pyspark.ml.feature import VectorAssembler\n",
        "from pyspark.ml.feature import StringIndexer\n",
        "from pyspark.sql.functions import lit, rand\n"
      ],
      "execution_count": 0,
      "outputs": [
        {
          "output_type": "stream",
          "text": [
            "/usr/local/lib/python3.6/dist-packages/statsmodels/tools/_testing.py:19: FutureWarning: pandas.util.testing is deprecated. Use the functions in the public API at pandas.testing instead.\n",
            "  import pandas.util.testing as tm\n"
          ],
          "name": "stderr"
        }
      ]
    },
    {
      "cell_type": "code",
      "metadata": {
        "id": "jwxNikSFbu05",
        "colab_type": "code",
        "colab": {}
      },
      "source": [
        "ratings_df = pd.read_csv('amazon_reviews_us_Digital_Video_Games_v1_00.tsv', sep='\\t', encoding='utf-8', error_bad_lines=False)"
      ],
      "execution_count": 0,
      "outputs": []
    },
    {
      "cell_type": "code",
      "metadata": {
        "id": "X2-oolFSbvMi",
        "colab_type": "code",
        "outputId": "c47ff568-2115-4375-9a18-5733e6a4443a",
        "colab": {
          "base_uri": "https://localhost:8080/",
          "height": 34
        }
      },
      "source": [
        "from sys import getsizeof\n",
        "\n",
        "print(f'Size of data (in GB): {getsizeof(ratings_df)/(10**9)}')"
      ],
      "execution_count": 0,
      "outputs": [
        {
          "output_type": "stream",
          "text": [
            "Size of data (in GB): 0.160239893\n"
          ],
          "name": "stdout"
        }
      ]
    },
    {
      "cell_type": "markdown",
      "metadata": {
        "id": "j4-uUtFPc8kh",
        "colab_type": "text"
      },
      "source": [
        "#**Leer Datos** "
      ]
    },
    {
      "cell_type": "code",
      "metadata": {
        "id": "bUWdM_It0NF3",
        "colab_type": "code",
        "colab": {}
      },
      "source": [
        "spark = SparkSession.builder\\\n",
        "       .appName(\"Simple recommendation engine using Spark MLlib\")\\\n",
        "       .config(\"spark.some.config.option\", \"config-value\")\\\n",
        "       .getOrCreate()"
      ],
      "execution_count": 0,
      "outputs": []
    },
    {
      "cell_type": "code",
      "metadata": {
        "id": "ZMr2m9a50SpY",
        "colab_type": "code",
        "colab": {}
      },
      "source": [
        "#sports_df = spark.read.csv(\"amazon_reviews_us_Sports_v1_00.tsv\", sep='\\t',header=True)\n",
        "#games_df  = spark.read.csv(\"amazon_reviews_us_Video_Games_v1_00.tsv\", sep='\\t',header=True)\n",
        "\n",
        "#ratings_df = sports_df.union(games_df)\n",
        "\n",
        "ratings_df = spark.read.csv(\"amazon_reviews_us_Digital_Video_Games_v1_00.tsv\", sep='\\t',header=True)"
      ],
      "execution_count": 0,
      "outputs": []
    },
    {
      "cell_type": "code",
      "metadata": {
        "id": "EbLWYdH3PCha",
        "colab_type": "code",
        "outputId": "f47e6717-9b13-478b-ce6a-ff3e7cfadfcb",
        "colab": {
          "base_uri": "https://localhost:8080/",
          "height": 34
        }
      },
      "source": [
        "print((ratings_df.count(), len(ratings_df.columns)))"
      ],
      "execution_count": 0,
      "outputs": [
        {
          "output_type": "stream",
          "text": [
            "(145431, 15)\n"
          ],
          "name": "stdout"
        }
      ]
    },
    {
      "cell_type": "code",
      "metadata": {
        "id": "okLJDaxE0h6F",
        "colab_type": "code",
        "outputId": "efec08fa-dfc9-4126-f9bb-06a084a53716",
        "colab": {
          "base_uri": "https://localhost:8080/",
          "height": 302
        }
      },
      "source": [
        "ratings_df.printSchema()"
      ],
      "execution_count": 0,
      "outputs": [
        {
          "output_type": "stream",
          "text": [
            "root\n",
            " |-- marketplace: string (nullable = true)\n",
            " |-- customer_id: string (nullable = true)\n",
            " |-- review_id: string (nullable = true)\n",
            " |-- product_id: string (nullable = true)\n",
            " |-- product_parent: string (nullable = true)\n",
            " |-- product_title: string (nullable = true)\n",
            " |-- product_category: string (nullable = true)\n",
            " |-- star_rating: string (nullable = true)\n",
            " |-- helpful_votes: string (nullable = true)\n",
            " |-- total_votes: string (nullable = true)\n",
            " |-- vine: string (nullable = true)\n",
            " |-- verified_purchase: string (nullable = true)\n",
            " |-- review_headline: string (nullable = true)\n",
            " |-- review_body: string (nullable = true)\n",
            " |-- review_date: string (nullable = true)\n",
            "\n"
          ],
          "name": "stdout"
        }
      ]
    },
    {
      "cell_type": "code",
      "metadata": {
        "id": "ytZMIqyfb-hp",
        "colab_type": "code",
        "outputId": "965aa72d-485f-4c69-d5a8-30b7dee1cd99",
        "colab": {
          "base_uri": "https://localhost:8080/",
          "height": 50
        }
      },
      "source": [
        "from sys import getsizeof\n",
        "\n",
        "print(f'Size of data (in GB): {getsizeof(ratings_df)/(10**9)}')\n",
        "\n",
        "print(\"In total there are {0} operations\".format(ratings_df.count()))"
      ],
      "execution_count": 0,
      "outputs": [
        {
          "output_type": "stream",
          "text": [
            "Size of data (in GB): 5.6e-08\n",
            "In total there are 145431 operations\n"
          ],
          "name": "stdout"
        }
      ]
    },
    {
      "cell_type": "code",
      "metadata": {
        "id": "rBQCGrdV0k_A",
        "colab_type": "code",
        "outputId": "b20051a7-695d-4dc9-a180-d09dde4a590c",
        "colab": {
          "base_uri": "https://localhost:8080/",
          "height": 222
        }
      },
      "source": [
        "ratings_df.select(\"customer_id\",'review_id','product_id','product_title','product_category','star_rating','review_headline','review_body','review_date').show(5)"
      ],
      "execution_count": 0,
      "outputs": [
        {
          "output_type": "stream",
          "text": [
            "+-----------+--------------+----------+--------------------+-------------------+-----------+--------------------+--------------------+-----------+\n",
            "|customer_id|     review_id|product_id|       product_title|   product_category|star_rating|     review_headline|         review_body|review_date|\n",
            "+-----------+--------------+----------+--------------------+-------------------+-----------+--------------------+--------------------+-----------+\n",
            "|   21269168| RSH1OZ87OYK92|B013PURRZW|Madden NFL 16 - X...|Digital_Video_Games|          2|A slight improvem...|I keep buying mad...| 2015-08-31|\n",
            "|     133437|R1WFOQ3N9BO65I|B00F4CEHNK| Xbox Live Gift Card|Digital_Video_Games|          5|          Five Stars|             Awesome| 2015-08-31|\n",
            "|   45765011| R3YOOS71KM5M9|B00DNHLFQA|Command & Conquer...|Digital_Video_Games|          5|Hail to the great...|If you are preppi...| 2015-08-31|\n",
            "|     113118|R3R14UATT3OUFU|B004RMK5QG|Playstation Plus ...|Digital_Video_Games|          5|          Five Stars|             Perfect| 2015-08-31|\n",
            "|   22151364| RV2W9SGDNQA2C|B00G9BNLQE|Saints Row IV - E...|Digital_Video_Games|          5|          Five Stars|            Awesome!| 2015-08-31|\n",
            "+-----------+--------------+----------+--------------------+-------------------+-----------+--------------------+--------------------+-----------+\n",
            "only showing top 5 rows\n",
            "\n"
          ],
          "name": "stdout"
        }
      ]
    },
    {
      "cell_type": "markdown",
      "metadata": {
        "id": "y3cIWJ0Ph8ra",
        "colab_type": "text"
      },
      "source": [
        "#**Limpiar Datos** "
      ]
    },
    {
      "cell_type": "code",
      "metadata": {
        "id": "f3_sm7H9Gb9V",
        "colab_type": "code",
        "outputId": "2835ac5a-6880-46aa-cf29-c74a2d587492",
        "colab": {
          "base_uri": "https://localhost:8080/",
          "height": 488
        }
      },
      "source": [
        "indexer_product_id = StringIndexer(inputCol=\"product_id\", outputCol=\"product_new_id\")\n",
        "ratings_df = indexer_product_id.fit(ratings_df).transform(ratings_df)\n",
        " \n",
        "ratings_df.show()"
      ],
      "execution_count": 0,
      "outputs": [
        {
          "output_type": "stream",
          "text": [
            "+-----------+-----------+--------------+----------+--------------+--------------------+-------------------+-----------+-------------+-----------+----+-----------------+--------------------+--------------------+-----------+--------------+\n",
            "|marketplace|customer_id|     review_id|product_id|product_parent|       product_title|   product_category|star_rating|helpful_votes|total_votes|vine|verified_purchase|     review_headline|         review_body|review_date|product_new_id|\n",
            "+-----------+-----------+--------------+----------+--------------+--------------------+-------------------+-----------+-------------+-----------+----+-----------------+--------------------+--------------------+-----------+--------------+\n",
            "|         US|   21269168| RSH1OZ87OYK92|B013PURRZW|     603406193|Madden NFL 16 - X...|Digital_Video_Games|          2|            2|          3|   N|                N|A slight improvem...|I keep buying mad...| 2015-08-31|        4686.0|\n",
            "|         US|     133437|R1WFOQ3N9BO65I|B00F4CEHNK|     341969535| Xbox Live Gift Card|Digital_Video_Games|          5|            0|          0|   N|                Y|          Five Stars|             Awesome| 2015-08-31|          11.0|\n",
            "|         US|   45765011| R3YOOS71KM5M9|B00DNHLFQA|     951665344|Command & Conquer...|Digital_Video_Games|          5|            0|          0|   N|                Y|Hail to the great...|If you are preppi...| 2015-08-31|         190.0|\n",
            "|         US|     113118|R3R14UATT3OUFU|B004RMK5QG|     395682204|Playstation Plus ...|Digital_Video_Games|          5|            0|          0|   N|                Y|          Five Stars|             Perfect| 2015-08-31|           4.0|\n",
            "|         US|   22151364| RV2W9SGDNQA2C|B00G9BNLQE|     640460561|Saints Row IV - E...|Digital_Video_Games|          5|            0|          0|   N|                Y|          Five Stars|            Awesome!| 2015-08-31|        6557.0|\n",
            "|         US|   22151364|R3CFKLIZ0I2KOB|B00IMIL498|     621922192|Double Dragon: Ne...|Digital_Video_Games|          5|            0|          0|   N|                Y|          Five Stars|            Awesome!| 2015-08-31|        2843.0|\n",
            "|         US|   38426028|R1LRYU1V0T3O38|B00S00IJH8|     215163395|              Sims 4|Digital_Video_Games|          4|            0|          0|   N|                Y|i like the new sk...|i like the new sk...| 2015-08-31|         231.0|\n",
            "|         US|    6057518| R44QKV6FE5CJ2|B004RMK4BC|     384246568|Playstation Netwo...|Digital_Video_Games|          5|            0|          0|   N|                Y|          Five Stars|               Super| 2015-08-31|           1.0|\n",
            "|         US|   20715661|R2TX1KLPXXXNYS|B00K59HKIQ|     384246568|Playstation Netwo...|Digital_Video_Games|          5|            0|          0|   N|                Y|         Easy & Fast|Excellent, fast a...| 2015-08-31|          17.0|\n",
            "|         US|   26540306|R1JEEW4C6R89BA|B00K59HKIQ|     384246568|Playstation Netwo...|Digital_Video_Games|          5|            0|          0|   N|                Y|          Five Stars|                  Ok| 2015-08-31|          17.0|\n",
            "|         US|    8926809|R3B3UHK1FO0ERS|B004774IPU|     151985175|Sid Meier's Civil...|Digital_Video_Games|          1|            0|          0|   N|                N|I am still playin...|As has been writt...| 2015-08-31|          21.0|\n",
            "|         US|   31525534|R2GVSDHW513SS1|B002LIT9EC|     695277014|Build-a-lot 4: Po...|Digital_Video_Games|          5|            0|          0|   N|                Y|Probably the best...|Probably the best...| 2015-08-31|         894.0|\n",
            "|         US|   22151364|R1R1NT516PYT73|B008ALUBYQ|     112160022|       Borderlands 2|Digital_Video_Games|          5|            0|          0|   N|                Y|          Five Stars|            Awesome!| 2015-08-31|          40.0|\n",
            "|         US|   22977584|R3K624QDQKENN9|B010KYDNDG|     835376637|Minecraft for PC/...|Digital_Video_Games|          4|            0|          0|   N|                Y|                 FUN|COOL BUT IT LAGES...| 2015-08-31|         714.0|\n",
            "|         US|   45765011| R1FOXH7PCJX3V|B008ALUBYQ|     112160022|       Borderlands 2|Digital_Video_Games|          1|            0|          2|   N|                Y|            One Star|Lames purchase I ...| 2015-08-31|          40.0|\n",
            "|         US|    2239522| RA1246M1OMDWC|B004RMK4P8|     384246568|Playstation Netwo...|Digital_Video_Games|          5|            0|          0|   N|                Y|          Five Stars|               Great| 2015-08-31|           3.0|\n",
            "|         US|   48805811|R2I9SXWB0PAEKQ|B004RMK5QG|     395682204|Playstation Plus ...|Digital_Video_Games|          5|            0|          0|   N|                Y|          Five Stars|          Awesome!!!| 2015-08-31|           4.0|\n",
            "|         US|   18646481|R3UGL544NA0G9C|B00BI16Z22|     552981447|Brink of Consciou...|Digital_Video_Games|          4|            0|          0|   N|                Y|       worth playing|pretty good but n...| 2015-08-31|        2730.0|\n",
            "|         US|   10310935|R1CBA4Y92GVAVM|B004VSTQ2A|     232803743|Xbox Live Subscri...|Digital_Video_Games|          5|            0|          0|   N|                Y|          Five Stars|What can I say......| 2015-08-31|           6.0|\n",
            "|         US|    5587610|R24NEKNR01VEHU|B00GAC1D2G|     384246568|Playstation Netwo...|Digital_Video_Games|          5|            0|          0|   N|                Y|        Just amazing|Very fast to rece...| 2015-08-31|           2.0|\n",
            "+-----------+-----------+--------------+----------+--------------+--------------------+-------------------+-----------+-------------+-----------+----+-----------------+--------------------+--------------------+-----------+--------------+\n",
            "only showing top 20 rows\n",
            "\n"
          ],
          "name": "stdout"
        }
      ]
    },
    {
      "cell_type": "code",
      "metadata": {
        "id": "2T8dKM4M1Fiy",
        "colab_type": "code",
        "outputId": "0ea1665f-ba8b-418a-a60b-b8930f4eb816",
        "colab": {
          "base_uri": "https://localhost:8080/",
          "height": 488
        }
      },
      "source": [
        "ratings_df.registerTempTable(\"temp1\")\n",
        "query = \"\"\"\n",
        "SELECT \n",
        "  marketplace, \n",
        "  customer_id, \n",
        "  review_id, \n",
        "  product_id, \n",
        "  product_parent, \n",
        "  product_title, \n",
        "  product_category, \n",
        "  cast(star_rating as int) as star_rating, \n",
        "  helpful_votes, \n",
        "  total_votes, \n",
        "  vine, \n",
        "  verified_purchase, \n",
        "  review_headline, \n",
        "  review_body, \n",
        "  review_date,\n",
        "  product_new_id\n",
        "FROM temp1 as t1\n",
        "where star_rating in (1,2,3,4,5,'1','2','3','4','5')\n",
        "\"\"\"\n",
        "ratings_df = spark.sql(query)\n",
        "ratings_df.show()"
      ],
      "execution_count": 0,
      "outputs": [
        {
          "output_type": "stream",
          "text": [
            "+-----------+-----------+--------------+----------+--------------+--------------------+-------------------+-----------+-------------+-----------+----+-----------------+--------------------+--------------------+-----------+--------------+\n",
            "|marketplace|customer_id|     review_id|product_id|product_parent|       product_title|   product_category|star_rating|helpful_votes|total_votes|vine|verified_purchase|     review_headline|         review_body|review_date|product_new_id|\n",
            "+-----------+-----------+--------------+----------+--------------+--------------------+-------------------+-----------+-------------+-----------+----+-----------------+--------------------+--------------------+-----------+--------------+\n",
            "|         US|   21269168| RSH1OZ87OYK92|B013PURRZW|     603406193|Madden NFL 16 - X...|Digital_Video_Games|          2|            2|          3|   N|                N|A slight improvem...|I keep buying mad...| 2015-08-31|        4686.0|\n",
            "|         US|     133437|R1WFOQ3N9BO65I|B00F4CEHNK|     341969535| Xbox Live Gift Card|Digital_Video_Games|          5|            0|          0|   N|                Y|          Five Stars|             Awesome| 2015-08-31|          11.0|\n",
            "|         US|   45765011| R3YOOS71KM5M9|B00DNHLFQA|     951665344|Command & Conquer...|Digital_Video_Games|          5|            0|          0|   N|                Y|Hail to the great...|If you are preppi...| 2015-08-31|         190.0|\n",
            "|         US|     113118|R3R14UATT3OUFU|B004RMK5QG|     395682204|Playstation Plus ...|Digital_Video_Games|          5|            0|          0|   N|                Y|          Five Stars|             Perfect| 2015-08-31|           4.0|\n",
            "|         US|   22151364| RV2W9SGDNQA2C|B00G9BNLQE|     640460561|Saints Row IV - E...|Digital_Video_Games|          5|            0|          0|   N|                Y|          Five Stars|            Awesome!| 2015-08-31|        6557.0|\n",
            "|         US|   22151364|R3CFKLIZ0I2KOB|B00IMIL498|     621922192|Double Dragon: Ne...|Digital_Video_Games|          5|            0|          0|   N|                Y|          Five Stars|            Awesome!| 2015-08-31|        2843.0|\n",
            "|         US|   38426028|R1LRYU1V0T3O38|B00S00IJH8|     215163395|              Sims 4|Digital_Video_Games|          4|            0|          0|   N|                Y|i like the new sk...|i like the new sk...| 2015-08-31|         231.0|\n",
            "|         US|    6057518| R44QKV6FE5CJ2|B004RMK4BC|     384246568|Playstation Netwo...|Digital_Video_Games|          5|            0|          0|   N|                Y|          Five Stars|               Super| 2015-08-31|           1.0|\n",
            "|         US|   20715661|R2TX1KLPXXXNYS|B00K59HKIQ|     384246568|Playstation Netwo...|Digital_Video_Games|          5|            0|          0|   N|                Y|         Easy & Fast|Excellent, fast a...| 2015-08-31|          17.0|\n",
            "|         US|   26540306|R1JEEW4C6R89BA|B00K59HKIQ|     384246568|Playstation Netwo...|Digital_Video_Games|          5|            0|          0|   N|                Y|          Five Stars|                  Ok| 2015-08-31|          17.0|\n",
            "|         US|    8926809|R3B3UHK1FO0ERS|B004774IPU|     151985175|Sid Meier's Civil...|Digital_Video_Games|          1|            0|          0|   N|                N|I am still playin...|As has been writt...| 2015-08-31|          21.0|\n",
            "|         US|   31525534|R2GVSDHW513SS1|B002LIT9EC|     695277014|Build-a-lot 4: Po...|Digital_Video_Games|          5|            0|          0|   N|                Y|Probably the best...|Probably the best...| 2015-08-31|         894.0|\n",
            "|         US|   22151364|R1R1NT516PYT73|B008ALUBYQ|     112160022|       Borderlands 2|Digital_Video_Games|          5|            0|          0|   N|                Y|          Five Stars|            Awesome!| 2015-08-31|          40.0|\n",
            "|         US|   22977584|R3K624QDQKENN9|B010KYDNDG|     835376637|Minecraft for PC/...|Digital_Video_Games|          4|            0|          0|   N|                Y|                 FUN|COOL BUT IT LAGES...| 2015-08-31|         714.0|\n",
            "|         US|   45765011| R1FOXH7PCJX3V|B008ALUBYQ|     112160022|       Borderlands 2|Digital_Video_Games|          1|            0|          2|   N|                Y|            One Star|Lames purchase I ...| 2015-08-31|          40.0|\n",
            "|         US|    2239522| RA1246M1OMDWC|B004RMK4P8|     384246568|Playstation Netwo...|Digital_Video_Games|          5|            0|          0|   N|                Y|          Five Stars|               Great| 2015-08-31|           3.0|\n",
            "|         US|   48805811|R2I9SXWB0PAEKQ|B004RMK5QG|     395682204|Playstation Plus ...|Digital_Video_Games|          5|            0|          0|   N|                Y|          Five Stars|          Awesome!!!| 2015-08-31|           4.0|\n",
            "|         US|   18646481|R3UGL544NA0G9C|B00BI16Z22|     552981447|Brink of Consciou...|Digital_Video_Games|          4|            0|          0|   N|                Y|       worth playing|pretty good but n...| 2015-08-31|        2730.0|\n",
            "|         US|   10310935|R1CBA4Y92GVAVM|B004VSTQ2A|     232803743|Xbox Live Subscri...|Digital_Video_Games|          5|            0|          0|   N|                Y|          Five Stars|What can I say......| 2015-08-31|           6.0|\n",
            "|         US|    5587610|R24NEKNR01VEHU|B00GAC1D2G|     384246568|Playstation Netwo...|Digital_Video_Games|          5|            0|          0|   N|                Y|        Just amazing|Very fast to rece...| 2015-08-31|           2.0|\n",
            "+-----------+-----------+--------------+----------+--------------+--------------------+-------------------+-----------+-------------+-----------+----+-----------------+--------------------+--------------------+-----------+--------------+\n",
            "only showing top 20 rows\n",
            "\n"
          ],
          "name": "stdout"
        }
      ]
    },
    {
      "cell_type": "code",
      "metadata": {
        "id": "kA3E3Utq1QU7",
        "colab_type": "code",
        "outputId": "ba82d32f-23fa-4a6f-a5d8-5a25f0ccd4e4",
        "colab": {
          "base_uri": "https://localhost:8080/",
          "height": 468
        }
      },
      "source": [
        "ratings_df.registerTempTable(\"temp2\")\n",
        "query = \"\"\"\n",
        "SELECT \n",
        "  cast(customer_id as int) as customer_id, \n",
        "  cast(product_new_id as int) as product_new_id,\n",
        "  product_id,\n",
        "  star_rating,\n",
        "  product_title\n",
        "FROM temp2 as t1\n",
        "where cast(customer_id as int) is not null and\n",
        "      cast(product_new_id as int) is not null and\n",
        "      star_rating              is not null\n",
        "\"\"\"\n",
        "ratings_df = spark.sql(query)\n",
        "ratings_df.show()"
      ],
      "execution_count": 0,
      "outputs": [
        {
          "output_type": "stream",
          "text": [
            "+-----------+--------------+----------+-----------+--------------------+\n",
            "|customer_id|product_new_id|product_id|star_rating|       product_title|\n",
            "+-----------+--------------+----------+-----------+--------------------+\n",
            "|   21269168|          4686|B013PURRZW|          2|Madden NFL 16 - X...|\n",
            "|     133437|            11|B00F4CEHNK|          5| Xbox Live Gift Card|\n",
            "|   45765011|           190|B00DNHLFQA|          5|Command & Conquer...|\n",
            "|     113118|             4|B004RMK5QG|          5|Playstation Plus ...|\n",
            "|   22151364|          6557|B00G9BNLQE|          5|Saints Row IV - E...|\n",
            "|   22151364|          2843|B00IMIL498|          5|Double Dragon: Ne...|\n",
            "|   38426028|           231|B00S00IJH8|          4|              Sims 4|\n",
            "|    6057518|             1|B004RMK4BC|          5|Playstation Netwo...|\n",
            "|   20715661|            17|B00K59HKIQ|          5|Playstation Netwo...|\n",
            "|   26540306|            17|B00K59HKIQ|          5|Playstation Netwo...|\n",
            "|    8926809|            21|B004774IPU|          1|Sid Meier's Civil...|\n",
            "|   31525534|           894|B002LIT9EC|          5|Build-a-lot 4: Po...|\n",
            "|   22151364|            40|B008ALUBYQ|          5|       Borderlands 2|\n",
            "|   22977584|           714|B010KYDNDG|          4|Minecraft for PC/...|\n",
            "|   45765011|            40|B008ALUBYQ|          1|       Borderlands 2|\n",
            "|    2239522|             3|B004RMK4P8|          5|Playstation Netwo...|\n",
            "|   48805811|             4|B004RMK5QG|          5|Playstation Plus ...|\n",
            "|   18646481|          2730|B00BI16Z22|          4|Brink of Consciou...|\n",
            "|   10310935|             6|B004VSTQ2A|          5|Xbox Live Subscri...|\n",
            "|    5587610|             2|B00GAC1D2G|          5|Playstation Netwo...|\n",
            "+-----------+--------------+----------+-----------+--------------------+\n",
            "only showing top 20 rows\n",
            "\n"
          ],
          "name": "stdout"
        }
      ]
    },
    {
      "cell_type": "code",
      "metadata": {
        "id": "dMX8ND_IsqoZ",
        "colab_type": "code",
        "outputId": "868ce24a-7584-40de-f525-351c98c38d4b",
        "colab": {
          "base_uri": "https://localhost:8080/",
          "height": 34
        }
      },
      "source": [
        "print((ratings_df.count(), len(ratings_df.columns)))"
      ],
      "execution_count": 0,
      "outputs": [
        {
          "output_type": "stream",
          "text": [
            "(145431, 5)\n"
          ],
          "name": "stdout"
        }
      ]
    },
    {
      "cell_type": "markdown",
      "metadata": {
        "id": "LFF1AzEoh_cu",
        "colab_type": "text"
      },
      "source": [
        "# Análisis Descriptivo"
      ]
    },
    {
      "cell_type": "code",
      "metadata": {
        "id": "4BjD6vjyhH47",
        "colab_type": "code",
        "outputId": "20e63424-a666-48a8-b25a-19f293033253",
        "colab": {
          "base_uri": "https://localhost:8080/",
          "height": 134
        }
      },
      "source": [
        "ratings_df.registerTempTable(\"desc\")\n",
        "query_total_users = \"\"\"\n",
        "select count(distinct customer_id) as total_clientes\n",
        "from desc\n",
        "\"\"\"\n",
        "print(spark.sql(query_total_users).show())"
      ],
      "execution_count": 0,
      "outputs": [
        {
          "output_type": "stream",
          "text": [
            "+--------------+\n",
            "|total_clientes|\n",
            "+--------------+\n",
            "|        113405|\n",
            "+--------------+\n",
            "\n",
            "None\n"
          ],
          "name": "stdout"
        }
      ]
    },
    {
      "cell_type": "code",
      "metadata": {
        "id": "DXMqrnLgiMEn",
        "colab_type": "code",
        "outputId": "acee8d19-d09a-49f0-f9b7-7e88ef0752bb",
        "colab": {
          "base_uri": "https://localhost:8080/",
          "height": 134
        }
      },
      "source": [
        "query_total_product = \"\"\"\n",
        "select count(distinct product_id) as total_productos\n",
        "from desc\n",
        "\"\"\"\n",
        "print(spark.sql(query_total_product).show())"
      ],
      "execution_count": 0,
      "outputs": [
        {
          "output_type": "stream",
          "text": [
            "+---------------+\n",
            "|total_productos|\n",
            "+---------------+\n",
            "|           7948|\n",
            "+---------------+\n",
            "\n",
            "None\n"
          ],
          "name": "stdout"
        }
      ]
    },
    {
      "cell_type": "code",
      "metadata": {
        "id": "1iv2LEGuidY_",
        "colab_type": "code",
        "outputId": "70791830-3654-43a4-a8eb-74e1a170595b",
        "colab": {
          "base_uri": "https://localhost:8080/",
          "height": 202
        }
      },
      "source": [
        "query_user_rating = \"\"\"\n",
        "SELECT star_rating, count(*) as calif\n",
        "FROM desc \n",
        "GROUP BY star_rating\n",
        "ORDER BY star_rating DESC\n",
        "\"\"\"\n",
        "\n",
        "print(spark.sql(query_user_rating).show())"
      ],
      "execution_count": 0,
      "outputs": [
        {
          "output_type": "stream",
          "text": [
            "+-----------+-----+\n",
            "|star_rating|calif|\n",
            "+-----------+-----+\n",
            "|          5|80677|\n",
            "|          4|20406|\n",
            "|          3|11629|\n",
            "|          2| 7749|\n",
            "|          1|24970|\n",
            "+-----------+-----+\n",
            "\n",
            "None\n"
          ],
          "name": "stdout"
        }
      ]
    },
    {
      "cell_type": "code",
      "metadata": {
        "id": "E7u8tLiGidWc",
        "colab_type": "code",
        "outputId": "92bec028-84f2-420b-f7a1-ef6c15eda87d",
        "colab": {
          "base_uri": "https://localhost:8080/",
          "height": 297
        }
      },
      "source": [
        "califications_pd = spark.sql(query_user_rating).toPandas()\n",
        "sn.barplot(x=\"star_rating\", y=\"calif\",  data=califications_pd)"
      ],
      "execution_count": 0,
      "outputs": [
        {
          "output_type": "execute_result",
          "data": {
            "text/plain": [
              "<matplotlib.axes._subplots.AxesSubplot at 0x7f720aa4f400>"
            ]
          },
          "metadata": {
            "tags": []
          },
          "execution_count": 25
        },
        {
          "output_type": "display_data",
          "data": {
            "image/png": "[encoded data removed]",
            "text/plain": [
              "<Figure size 432x288 with 1 Axes>"
            ]
          },
          "metadata": {
            "tags": [],
            "needs_background": "light"
          }
        }
      ]
    },
    {
      "cell_type": "code",
      "metadata": {
        "id": "wLqksrJaprlu",
        "colab_type": "code",
        "outputId": "edb5354f-4fa5-4435-e0b0-b96912145ed2",
        "colab": {
          "base_uri": "https://localhost:8080/",
          "height": 470
        }
      },
      "source": [
        "query_user_rating_total = \"\"\"\n",
        "SELECT customer_id, count(*) as reviews\n",
        "FROM desc\n",
        "GROUP BY customer_id\n",
        "ORDER BY reviews DESC\n",
        "\"\"\"\n",
        "\n",
        "print(spark.sql(query_user_rating_total).show())"
      ],
      "execution_count": 0,
      "outputs": [
        {
          "output_type": "stream",
          "text": [
            "+-----------+-------+\n",
            "|customer_id|reviews|\n",
            "+-----------+-------+\n",
            "|   21925455|     95|\n",
            "|   40955995|     92|\n",
            "|   23564949|     83|\n",
            "|   52520442|     73|\n",
            "|   14279279|     72|\n",
            "|   51520185|     65|\n",
            "|   20751317|     54|\n",
            "|   50529050|     49|\n",
            "|   25575022|     49|\n",
            "|   11584162|     49|\n",
            "|   39942708|     48|\n",
            "|   36527466|     48|\n",
            "|   31012456|     46|\n",
            "|   52919259|     45|\n",
            "|   46544620|     43|\n",
            "|   19371429|     43|\n",
            "|   53080901|     42|\n",
            "|   26151231|     42|\n",
            "|   45688707|     40|\n",
            "|   14222166|     39|\n",
            "+-----------+-------+\n",
            "only showing top 20 rows\n",
            "\n",
            "None\n"
          ],
          "name": "stdout"
        }
      ]
    },
    {
      "cell_type": "code",
      "metadata": {
        "id": "H3qy_cNiqfRp",
        "colab_type": "code",
        "outputId": "8f2b6312-9a6f-4cb3-e292-51d1bd2ec8a9",
        "colab": {
          "base_uri": "https://localhost:8080/",
          "height": 391
        }
      },
      "source": [
        "user_rating_pd = spark.sql(query_user_rating_total).toPandas()\n",
        "\n",
        "plt.figure(figsize=(12, 6))\n",
        "sn.distplot(user_rating_pd[['reviews']],bins=5)"
      ],
      "execution_count": 0,
      "outputs": [
        {
          "output_type": "execute_result",
          "data": {
            "text/plain": [
              "<matplotlib.axes._subplots.AxesSubplot at 0x7f7219651e10>"
            ]
          },
          "metadata": {
            "tags": []
          },
          "execution_count": 26
        },
        {
          "output_type": "display_data",
          "data": {
            "image/png": "[encoded data removed]",
            "text/plain": [
              "<Figure size 864x432 with 1 Axes>"
            ]
          },
          "metadata": {
            "tags": [],
            "needs_background": "light"
          }
        }
      ]
    },
    {
      "cell_type": "markdown",
      "metadata": {
        "id": "99duvfL2hIYF",
        "colab_type": "text"
      },
      "source": [
        "# Latent Factor Model - alternating least squares (ALS) algorithm"
      ]
    },
    {
      "cell_type": "code",
      "metadata": {
        "id": "r9uX9JTb1RlB",
        "colab_type": "code",
        "outputId": "05e27995-983a-4ff8-be10-5f23b74c66de",
        "colab": {
          "base_uri": "https://localhost:8080/",
          "height": 454
        }
      },
      "source": [
        "(training, test) = ratings_df.randomSplit([0.8, 0.2])\n",
        "training.cache()\n",
        "test.cache()\n",
        "training.show()"
      ],
      "execution_count": 0,
      "outputs": [
        {
          "output_type": "stream",
          "text": [
            "+-----------+--------------+----------+-----------+--------------------+\n",
            "|customer_id|product_new_id|product_id|star_rating|       product_title|\n",
            "+-----------+--------------+----------+-----------+--------------------+\n",
            "|      10632|             0|B002VBWIP6|          5|Xbox Live Subscri...|\n",
            "|      10775|             2|B00GAC1D2G|          5|Playstation Netwo...|\n",
            "|      11032|           817|B00SRZH210|          1|Life is Strange -...|\n",
            "|      12752|           266|B00LLIQW20|          3|             Destiny|\n",
            "|      12824|           228|B00LLIQVDK|          3|             Destiny|\n",
            "|      12912|          1951|B00513EPMA|          5|Hidden Object Mov...|\n",
            "|      13446|             2|B00GAC1D2G|          4|Playstation Netwo...|\n",
            "|      13967|             2|B00GAC1D2G|          5|Playstation Netwo...|\n",
            "|      14485|             2|B00GAC1D2G|          5|Playstation Netwo...|\n",
            "|      14736|          1542|B001QFY7XO|          4|Westward III: Gol...|\n",
            "|      14779|             2|B00GAC1D2G|          5|Playstation Netwo...|\n",
            "|      15311|           843|B00ATF5YY8|          3|Singularity [Onli...|\n",
            "|      15815|          1466|B009ADMTZC|          5|The Amazing Spide...|\n",
            "|      16131|           373|B00TEC9XH6|          5|              Sims 4|\n",
            "|      16165|             6|B004VSTQ2A|          5|Xbox Live Subscri...|\n",
            "|      16728|            26|B00457VJ3G|          4|SimCity 4 Deluxe ...|\n",
            "|      17085|            52|B00D8FUHFC|          5|Borderlands Bundl...|\n",
            "|      17770|            11|B00F4CEHNK|          5| Xbox Live Gift Card|\n",
            "|      18164|           608|B00GGUUQB6|          5|        LEGO: Marvel|\n",
            "|      18181|           106|B00GXHJHHG|          5|The Elder Scrolls...|\n",
            "+-----------+--------------+----------+-----------+--------------------+\n",
            "only showing top 20 rows\n",
            "\n"
          ],
          "name": "stdout"
        }
      ]
    },
    {
      "cell_type": "code",
      "metadata": {
        "id": "I3nzIpjs1Rn9",
        "colab_type": "code",
        "outputId": "6531b2fe-8a6a-4396-b7a2-698dff7f06e1",
        "colab": {
          "base_uri": "https://localhost:8080/",
          "height": 34
        }
      },
      "source": [
        "from time import time\n",
        "\n",
        "start_time = time()\n",
        "\n",
        "als = ALS(userCol=\"customer_id\", itemCol=\"product_new_id\", ratingCol=\"star_rating\",\n",
        "          coldStartStrategy=\"drop\", nonnegative=True) #rank=10, maxIter=10, regParam=0.1\n",
        "model = als.fit(training)\n",
        "\n",
        "elapsed_time = time() - start_time\n",
        "print(\"Elapsed time: %.10f seconds.\" % elapsed_time)\n",
        "\n"
      ],
      "execution_count": 0,
      "outputs": [
        {
          "output_type": "stream",
          "text": [
            "Elapsed time: 13.7856349945 seconds.\n"
          ],
          "name": "stdout"
        }
      ]
    },
    {
      "cell_type": "code",
      "metadata": {
        "id": "taiFBjol1RtR",
        "colab_type": "code",
        "outputId": "0ffd7c7d-d16a-4bbb-96be-4f9b6e415ea4",
        "colab": {
          "base_uri": "https://localhost:8080/",
          "height": 50
        }
      },
      "source": [
        "start_time = time()\n",
        "\n",
        "predictions = model.transform(test)\n",
        "evaluator = RegressionEvaluator(metricName=\"rmse\", labelCol=\"star_rating\",\n",
        "                                predictionCol=\"prediction\")\n",
        "rmse = evaluator.evaluate(predictions)\n",
        "print(\"Root-mean-square error = \" + str(rmse))\n",
        "\n",
        "elapsed_time = time() - start_time\n",
        "print(\"Elapsed time: %.10f seconds.\" % elapsed_time)"
      ],
      "execution_count": 0,
      "outputs": [
        {
          "output_type": "stream",
          "text": [
            "Root-mean-square error = 1.8229985688163073\n",
            "Elapsed time: 14.3817551136 seconds.\n"
          ],
          "name": "stdout"
        }
      ]
    },
    {
      "cell_type": "code",
      "metadata": {
        "id": "PVOO4u-f1Ry1",
        "colab_type": "code",
        "outputId": "d469d5c0-afc8-4555-d346-d917eabfaa5a",
        "colab": {
          "base_uri": "https://localhost:8080/",
          "height": 454
        }
      },
      "source": [
        "predictions.show()"
      ],
      "execution_count": 0,
      "outputs": [
        {
          "output_type": "stream",
          "text": [
            "+-----------+--------------+----------+-----------+--------------------+----------+\n",
            "|customer_id|product_new_id|product_id|star_rating|       product_title|prediction|\n",
            "+-----------+--------------+----------+-----------+--------------------+----------+\n",
            "|   36639795|           148|B0053YQ8E0|          3|Alice: Madness Re...| 1.9829824|\n",
            "|   42555634|           148|B0053YQ8E0|          4|Alice: Madness Re...| 1.1294785|\n",
            "|   43861020|           148|B0053YQ8E0|          5|Alice: Madness Re...| 3.1497796|\n",
            "|   14957963|           148|B0053YQ8E0|          4|Alice: Madness Re...| 3.3836303|\n",
            "|   13181439|           148|B0053YQ8E0|          3|Alice: Madness Re...| 2.8016083|\n",
            "|   36066531|           148|B0053YQ8E0|          4|Alice: Madness Re...| 4.2295613|\n",
            "|   33901114|           463|B0047T7UDU|          1|          Darksiders| 1.0247735|\n",
            "|    8903214|           463|B0047T7UDU|          5|          Darksiders| 2.4699132|\n",
            "|   47464240|           463|B0047T7UDU|          5|          Darksiders|  4.661249|\n",
            "|   49869906|           463|B0047T7UDU|          5|          Darksiders| 2.0122435|\n",
            "|   53082728|           463|B0047T7UDU|          2|          Darksiders| 1.7270668|\n",
            "|    9640328|           471|B006GTBUT4|          5|Sid Meier's Civil...|  4.809269|\n",
            "|   50409587|           833|B0034XS84K|          5|Nancy Drew: The P...| 1.5509495|\n",
            "|   52520442|           833|B0034XS84K|          5|Nancy Drew: The P...| 3.7651892|\n",
            "|   14623753|           833|B0034XS84K|          5|Nancy Drew: The P...| 2.9761786|\n",
            "|   49298653|           833|B0034XS84K|          4|Nancy Drew: The P...| 2.0707693|\n",
            "|   13756646|          1088|B00W9O1NDI|          5|Lost Lands: The F...| 2.7587223|\n",
            "|   25824210|          1088|B00W9O1NDI|          5|Lost Lands: The F...| 3.6168969|\n",
            "|   51172215|          1088|B00W9O1NDI|          5|Lost Lands: The F...|  3.099489|\n",
            "|   52231378|          1088|B00W9O1NDI|          5|Lost Lands: The F...| 2.8596826|\n",
            "+-----------+--------------+----------+-----------+--------------------+----------+\n",
            "only showing top 20 rows\n",
            "\n"
          ],
          "name": "stdout"
        }
      ]
    },
    {
      "cell_type": "code",
      "metadata": {
        "id": "TAFwv0-L1R7s",
        "colab_type": "code",
        "colab": {}
      },
      "source": [
        "def train_ALS(train, test, reg_param, ranks):\n",
        "  # initial\n",
        "  min_error = float('inf')\n",
        "  best_rank = -1\n",
        "  best_regularization = 0\n",
        "  best_model = None\n",
        "  for rank in ranks:\n",
        "    for reg in reg_param:\n",
        "      als = ALS(maxIter=20, rank=rank, regParam=reg, userCol=\"customer_id\", itemCol=\"product_new_id\", ratingCol=\"star_rating\", coldStartStrategy=\"drop\", nonnegative=True)\n",
        "      model = als.fit(train)\n",
        "      predictions = model.transform(test)\n",
        "      evaluator = RegressionEvaluator(metricName=\"rmse\", labelCol=\"star_rating\", predictionCol=\"prediction\")\n",
        "      error = evaluator.evaluate(predictions)\n",
        "      print('{} latent factors and regularization = {}: validation RMSE is {}'.format(rank, reg, error))\n",
        "      if error < min_error:\n",
        "        min_error = error\n",
        "        best_rank = rank\n",
        "        best_regularization = reg\n",
        "        best_model = model\n",
        "  print('\\nThe best model has {} latent factors and regularization = {}'.format(best_rank, best_regularization))\n",
        "  return best_model"
      ],
      "execution_count": 0,
      "outputs": []
    },
    {
      "cell_type": "code",
      "metadata": {
        "id": "0_YA3WwL1SBJ",
        "colab_type": "code",
        "colab": {}
      },
      "source": [
        "# hyper-param config\n",
        "ranks = [2,4,6,8,10]\n",
        "reg_params = [0.1,0.2,0.3,0.4,0.5]"
      ],
      "execution_count": 0,
      "outputs": []
    },
    {
      "cell_type": "code",
      "metadata": {
        "id": "Wi1M7gpf1SGd",
        "colab_type": "code",
        "outputId": "32569a4e-f5a6-4d3a-f503-94a3bce04f9d",
        "colab": {
          "base_uri": "https://localhost:8080/",
          "height": 487
        }
      },
      "source": [
        "start_time = time()\n",
        "\n",
        "final_model = train_ALS(training, test, reg_params, ranks)\n",
        "\n",
        "elapsed_time = time() - start_time\n",
        "print(\"Elapsed time: %.10f seconds.\" % elapsed_time)"
      ],
      "execution_count": 0,
      "outputs": [
        {
          "output_type": "stream",
          "text": [
            "2 latent factors and regularization = 0.1: validation RMSE is 1.6789838783624715\n",
            "2 latent factors and regularization = 0.2: validation RMSE is 1.5926682230654565\n",
            "2 latent factors and regularization = 0.3: validation RMSE is 1.5664126134558225\n",
            "2 latent factors and regularization = 0.4: validation RMSE is 1.555502832125598\n",
            "2 latent factors and regularization = 0.5: validation RMSE is 1.5602704253458255\n",
            "4 latent factors and regularization = 0.1: validation RMSE is 1.698479703887697\n",
            "4 latent factors and regularization = 0.2: validation RMSE is 1.6151584414787012\n",
            "4 latent factors and regularization = 0.3: validation RMSE is 1.5847064190987814\n",
            "4 latent factors and regularization = 0.4: validation RMSE is 1.5745495888346364\n",
            "4 latent factors and regularization = 0.5: validation RMSE is 1.5762304754608438\n",
            "6 latent factors and regularization = 0.1: validation RMSE is 1.6827164461575415\n",
            "6 latent factors and regularization = 0.2: validation RMSE is 1.6100047800052724\n",
            "6 latent factors and regularization = 0.3: validation RMSE is 1.5878283552791566\n",
            "6 latent factors and regularization = 0.4: validation RMSE is 1.5812525905065606\n",
            "6 latent factors and regularization = 0.5: validation RMSE is 1.5846921724534755\n",
            "8 latent factors and regularization = 0.1: validation RMSE is 1.6840884730325962\n",
            "8 latent factors and regularization = 0.2: validation RMSE is 1.6117899860996352\n",
            "8 latent factors and regularization = 0.3: validation RMSE is 1.5905429223640764\n",
            "8 latent factors and regularization = 0.4: validation RMSE is 1.5838870005015773\n",
            "8 latent factors and regularization = 0.5: validation RMSE is 1.5874894106074562\n",
            "10 latent factors and regularization = 0.1: validation RMSE is 1.6733850467800744\n",
            "10 latent factors and regularization = 0.2: validation RMSE is 1.6045316778246215\n",
            "10 latent factors and regularization = 0.3: validation RMSE is 1.589343624328358\n",
            "10 latent factors and regularization = 0.4: validation RMSE is 1.5867005918619697\n",
            "10 latent factors and regularization = 0.5: validation RMSE is 1.592033318354823\n",
            "\n",
            "The best model has 2 latent factors and regularization = 0.4\n",
            "Elapsed time: 514.7268097401 seconds.\n"
          ],
          "name": "stdout"
        }
      ]
    },
    {
      "cell_type": "code",
      "metadata": {
        "id": "PspuvF_C1SEM",
        "colab_type": "code",
        "colab": {}
      },
      "source": [
        "def plot_learning_curve(train, test, reg, rank):\n",
        "    \"\"\"\n",
        "    Plot function to show learning curve of ALS\n",
        "    \"\"\"\n",
        "    arr_iters = [i for i in range(1,20,2)]\n",
        "    errors = []\n",
        "    for num_iters in arr_iters:\n",
        "      als = ALS(maxIter=num_iters, rank=rank, regParam=reg, userCol=\"customer_id\", itemCol=\"product_new_id\", ratingCol=\"star_rating\", coldStartStrategy=\"drop\", nonnegative=True)\n",
        "      model = als.fit(train)\n",
        "      predictions = model.transform(test)\n",
        "      evaluator = RegressionEvaluator(metricName=\"rmse\", labelCol=\"star_rating\", predictionCol=\"prediction\")\n",
        "      error = evaluator.evaluate(predictions)\n",
        "      errors.append(error)\n",
        "    \n",
        "    # plot\n",
        "    plt.figure(figsize=(12, 6))\n",
        "    plt.plot(arr_iters, errors)\n",
        "    plt.xlabel('number of iterations')\n",
        "    plt.ylabel('RMSE')\n",
        "    plt.title('ALS Learning Curve')\n",
        "    plt.grid(True)\n",
        "    plt.show()"
      ],
      "execution_count": 0,
      "outputs": []
    },
    {
      "cell_type": "code",
      "metadata": {
        "id": "dX35hmOi1R-y",
        "colab_type": "code",
        "outputId": "09acaaa8-c7ca-4138-d906-b202bdc1112f",
        "colab": {
          "base_uri": "https://localhost:8080/",
          "height": 404
        }
      },
      "source": [
        "plot_learning_curve(training, test, 0.4, 2)"
      ],
      "execution_count": 0,
      "outputs": [
        {
          "output_type": "display_data",
          "data": {
            "image/png": "[encoded data removed]",
            "text/plain": [
              "<Figure size 864x432 with 1 Axes>"
            ]
          },
          "metadata": {
            "tags": [],
            "needs_background": "light"
          }
        }
      ]
    },
    {
      "cell_type": "code",
      "metadata": {
        "id": "7BQ_sqoChcaZ",
        "colab_type": "code",
        "colab": {}
      },
      "source": [
        "als = ALS(maxIter=20, rank=2, regParam=0.4, userCol=\"customer_id\", itemCol=\"product_new_id\", ratingCol=\"star_rating\",\n",
        "          coldStartStrategy=\"drop\", nonnegative=True)\n",
        "model = als.fit(training)"
      ],
      "execution_count": 0,
      "outputs": []
    },
    {
      "cell_type": "code",
      "metadata": {
        "id": "k95Tw6Zwhcmi",
        "colab_type": "code",
        "outputId": "34be3971-7726-48a9-9b5f-c51e7c0e81de",
        "colab": {
          "base_uri": "https://localhost:8080/",
          "height": 34
        }
      },
      "source": [
        "predictions = model.transform(test)\n",
        "evaluator = RegressionEvaluator(metricName=\"rmse\", labelCol=\"star_rating\",\n",
        "                                predictionCol=\"prediction\")\n",
        "rmse = evaluator.evaluate(predictions)\n",
        "print(\"Root-mean-square error = \" + str(rmse))"
      ],
      "execution_count": 0,
      "outputs": [
        {
          "output_type": "stream",
          "text": [
            "Root-mean-square error = 1.555502832125598\n"
          ],
          "name": "stdout"
        }
      ]
    },
    {
      "cell_type": "markdown",
      "metadata": {
        "id": "TWnczBOF9us_",
        "colab_type": "text"
      },
      "source": [
        "# Extending Latent Factor Model to Include Biases"
      ]
    },
    {
      "cell_type": "code",
      "metadata": {
        "id": "hL15Lmxd1RrI",
        "colab_type": "code",
        "colab": {}
      },
      "source": [
        "ratings_df.registerTempTable(\"temp3\")\n",
        "\n",
        "query = \"\"\"\n",
        "with general as (\n",
        "  SELECT AVG(star_rating) as promedio_general\n",
        "  FROM temp3\n",
        "), \n",
        "promedio_cliente as (\n",
        "  SELECT customer_id, avg(star_rating)  as b_userbias\n",
        "  FROM temp3\n",
        "  GROUP BY customer_id\n",
        "),\n",
        "promedio_item as (\n",
        "  SELECT product_id, avg(star_rating) as b_itembias\n",
        "  FROM temp3\n",
        "  GROUP BY product_id\n",
        "),\n",
        "diff_promedio_cliente as (\n",
        "  SELECT customer_id, b_userbias, b_userbias-promedio_general as b_userbias_diff\n",
        "  FROM promedio_cliente\n",
        "  CROSS JOIN general\n",
        "),\n",
        "diff_promedio_item as (\n",
        "  SELECT product_id, b_itembias, b_itembias-promedio_general as b_itembias_diff\n",
        "  FROM promedio_item\n",
        "  CROSS JOIN general\n",
        ")\n",
        "SELECT \n",
        "  t1.customer_id,\n",
        "  t1.product_new_id,\n",
        "  t1.product_id,\n",
        "  t1.product_title,\n",
        "  t1.star_rating,\n",
        "  t2.promedio_general,\n",
        "  t3.b_userbias,\n",
        "  t3.b_userbias_diff,\n",
        "  t4.b_itembias,\n",
        "  t4.b_itembias_diff,\n",
        "  (t1.star_rating - t2.promedio_general - t3.b_userbias_diff - t4.b_itembias_diff) as new_star_rating\n",
        "FROM temp3 as t1\n",
        "CROSS JOIN general as t2\n",
        "INNER JOIN diff_promedio_cliente as t3\n",
        "  ON t1.customer_id = t3.customer_id\n",
        "INNER JOIN diff_promedio_item as t4\n",
        "  ON t1.product_id = t4.product_id\n",
        "where   \n",
        "  t2.promedio_general is not null and\n",
        "  t3.b_userbias is not null and \n",
        "  t4.b_itembias is not null \n",
        "\"\"\""
      ],
      "execution_count": 0,
      "outputs": []
    },
    {
      "cell_type": "code",
      "metadata": {
        "id": "iPx8Msb0-IAK",
        "colab_type": "code",
        "colab": {}
      },
      "source": [
        "ratings_df = spark.sql(query)\n",
        "#ratings_df.show()"
      ],
      "execution_count": 0,
      "outputs": []
    },
    {
      "cell_type": "code",
      "metadata": {
        "id": "CKCia7WeBBoG",
        "colab_type": "code",
        "outputId": "b90d328d-f154-48e1-8287-3cb476b8f6ab",
        "colab": {
          "base_uri": "https://localhost:8080/",
          "height": 488
        }
      },
      "source": [
        "(training, test) = ratings_df.randomSplit([0.8, 0.2])\n",
        "training.show()"
      ],
      "execution_count": 0,
      "outputs": [
        {
          "output_type": "stream",
          "text": [
            "+-----------+--------------+----------+--------------------+-----------+------------------+----------+-------------------+------------------+--------------------+--------------------+\n",
            "|customer_id|product_new_id|product_id|       product_title|star_rating|  promedio_general|b_userbias|    b_userbias_diff|        b_itembias|     b_itembias_diff|     new_star_rating|\n",
            "+-----------+--------------+----------+--------------------+-----------+------------------+----------+-------------------+------------------+--------------------+--------------------+\n",
            "|      33322|            58|B005Q1YA5O|    The Sims 3: Pets|          1|3.8531262248076406|       1.0|-2.8531262248076406|3.4899598393574296|-0.36316638545021096| 0.36316638545021096|\n",
            "|     223094|            45|B00F4CFBUS| Xbox Live Gift Card|          5|3.8531262248076406|       5.0| 1.1468737751923594| 4.608695652173913|  0.7555694273662725| -0.7555694273662725|\n",
            "|     275563|            45|B00F4CFBUS| Xbox Live Gift Card|          5|3.8531262248076406|       5.0| 1.1468737751923594| 4.608695652173913|  0.7555694273662725| -0.7555694273662725|\n",
            "|     326711|            45|B00F4CFBUS| Xbox Live Gift Card|          5|3.8531262248076406|       5.0| 1.1468737751923594| 4.608695652173913|  0.7555694273662725| -0.7555694273662725|\n",
            "|     386567|            45|B00F4CFBUS| Xbox Live Gift Card|          5|3.8531262248076406|       5.0| 1.1468737751923594| 4.608695652173913|  0.7555694273662725| -0.7555694273662725|\n",
            "|     434066|            45|B00F4CFBUS| Xbox Live Gift Card|          5|3.8531262248076406|       5.0| 1.1468737751923594| 4.608695652173913|  0.7555694273662725| -0.7555694273662725|\n",
            "|     456822|            45|B00F4CFBUS| Xbox Live Gift Card|          5|3.8531262248076406|       5.0| 1.1468737751923594| 4.608695652173913|  0.7555694273662725| -0.7555694273662725|\n",
            "|     502045|            58|B005Q1YA5O|    The Sims 3: Pets|          5|3.8531262248076406|       5.0| 1.1468737751923594|3.4899598393574296|-0.36316638545021096| 0.36316638545021096|\n",
            "|     568941|            45|B00F4CFBUS| Xbox Live Gift Card|          5|3.8531262248076406|       5.0| 1.1468737751923594| 4.608695652173913|  0.7555694273662725| -0.7555694273662725|\n",
            "|     653864|            45|B00F4CFBUS| Xbox Live Gift Card|          5|3.8531262248076406|       5.0| 1.1468737751923594| 4.608695652173913|  0.7555694273662725| -0.7555694273662725|\n",
            "|     690594|            45|B00F4CFBUS| Xbox Live Gift Card|          5|3.8531262248076406|       5.0| 1.1468737751923594| 4.608695652173913|  0.7555694273662725| -0.7555694273662725|\n",
            "|     719868|            45|B00F4CFBUS| Xbox Live Gift Card|          5|3.8531262248076406|       5.0| 1.1468737751923594| 4.608695652173913|  0.7555694273662725| -0.7555694273662725|\n",
            "|     734601|            45|B00F4CFBUS| Xbox Live Gift Card|          5|3.8531262248076406|       5.0| 1.1468737751923594| 4.608695652173913|  0.7555694273662725| -0.7555694273662725|\n",
            "|     800123|            45|B00F4CFBUS| Xbox Live Gift Card|          1|3.8531262248076406|       1.0|-2.8531262248076406| 4.608695652173913|  0.7555694273662725| -0.7555694273662725|\n",
            "|     858237|          2644|B008BKF3OE|RuneScape [Game C...|          1|3.8531262248076406|       1.0|-2.8531262248076406| 3.857142857142857|0.004016632335216652|-0.00401663233521...|\n",
            "|     869844|            45|B00F4CFBUS| Xbox Live Gift Card|          5|3.8531262248076406|       5.0| 1.1468737751923594| 4.608695652173913|  0.7555694273662725| -0.7555694273662725|\n",
            "|     885449|            45|B00F4CFBUS| Xbox Live Gift Card|          1|3.8531262248076406|       1.0|-2.8531262248076406| 4.608695652173913|  0.7555694273662725| -0.7555694273662725|\n",
            "|     885754|            45|B00F4CFBUS| Xbox Live Gift Card|          5|3.8531262248076406|       5.0| 1.1468737751923594| 4.608695652173913|  0.7555694273662725| -0.7555694273662725|\n",
            "|    1004719|           882|B00GU045VO|Age of Empires II...|          1|3.8531262248076406|       1.0|-2.8531262248076406|3.5555555555555554| -0.2975706692520852|  0.2975706692520852|\n",
            "|    1078619|            45|B00F4CFBUS| Xbox Live Gift Card|          1|3.8531262248076406|       1.0|-2.8531262248076406| 4.608695652173913|  0.7555694273662725| -0.7555694273662725|\n",
            "+-----------+--------------+----------+--------------------+-----------+------------------+----------+-------------------+------------------+--------------------+--------------------+\n",
            "only showing top 20 rows\n",
            "\n"
          ],
          "name": "stdout"
        }
      ]
    },
    {
      "cell_type": "code",
      "metadata": {
        "id": "QHoeLeQAXDOF",
        "colab_type": "code",
        "colab": {}
      },
      "source": [
        "def train_ALS(train, test, reg_param, ranks):\n",
        "  # initial\n",
        "  min_error = float('inf')\n",
        "  best_rank = -1\n",
        "  best_regularization = 0\n",
        "  best_model = None\n",
        "  for rank in ranks:\n",
        "    for reg in reg_param:\n",
        "      als = ALS(maxIter=20, rank=rank, regParam=reg, userCol=\"customer_id\", itemCol=\"product_new_id\", ratingCol=\"new_star_rating\", coldStartStrategy=\"drop\", nonnegative=True)\n",
        "      model = als.fit(train)\n",
        "      predictions = model.transform(test)\n",
        "      predictions= predictions.withColumn(\"predict\", predictions.prediction + \n",
        "                                               predictions.promedio_general + \n",
        "                                               predictions.b_userbias_diff +\n",
        "                                               predictions.b_itembias_diff)\n",
        "      evaluator = RegressionEvaluator(metricName=\"rmse\", labelCol=\"star_rating\", predictionCol=\"predict\")\n",
        "      error = evaluator.evaluate(predictions)\n",
        "      print('{} latent factors and regularization = {}: validation RMSE is {}'.format(rank, reg, error))\n",
        "      if error < min_error:\n",
        "        min_error = error\n",
        "        best_rank = rank\n",
        "        best_regularization = reg\n",
        "        best_model = model\n",
        "  print('\\nThe best model has {} latent factors and regularization = {}'.format(best_rank, best_regularization))\n",
        "  return best_model"
      ],
      "execution_count": 0,
      "outputs": []
    },
    {
      "cell_type": "code",
      "metadata": {
        "id": "NGOeZELqXsia",
        "colab_type": "code",
        "outputId": "62c80257-30f0-45fa-8971-59703b3224b9",
        "colab": {
          "base_uri": "https://localhost:8080/",
          "height": 487
        }
      },
      "source": [
        "# hyper-param config\n",
        "ranks = [2,4,6,8,10]\n",
        "reg_params = [0.1,0.2,0.3,0.4,0.5]\n",
        "\n",
        "start_time = time()\n",
        "\n",
        "final_model = train_ALS(training, test, reg_params, ranks)\n",
        "\n",
        "elapsed_time = time() - start_time\n",
        "\n",
        "print(\"Elapsed time: %.10f seconds.\" % elapsed_time)\n"
      ],
      "execution_count": 0,
      "outputs": [
        {
          "output_type": "stream",
          "text": [
            "2 latent factors and regularization = 0.1: validation RMSE is 1.0361085974054216\n",
            "2 latent factors and regularization = 0.2: validation RMSE is 0.997301559810408\n",
            "2 latent factors and regularization = 0.3: validation RMSE is 0.9763010411978175\n",
            "2 latent factors and regularization = 0.4: validation RMSE is 0.9694203375892394\n",
            "2 latent factors and regularization = 0.5: validation RMSE is 0.9665836757172245\n",
            "4 latent factors and regularization = 0.1: validation RMSE is 1.015452074370945\n",
            "4 latent factors and regularization = 0.2: validation RMSE is 0.9859160467719479\n",
            "4 latent factors and regularization = 0.3: validation RMSE is 0.9739463754032786\n",
            "4 latent factors and regularization = 0.4: validation RMSE is 0.9682470671385375\n",
            "4 latent factors and regularization = 0.5: validation RMSE is 0.9664187070284718\n",
            "6 latent factors and regularization = 0.1: validation RMSE is 1.0033256692292039\n",
            "6 latent factors and regularization = 0.2: validation RMSE is 0.9799106440214168\n",
            "6 latent factors and regularization = 0.3: validation RMSE is 0.970889793017761\n",
            "6 latent factors and regularization = 0.4: validation RMSE is 0.9667783020259322\n",
            "6 latent factors and regularization = 0.5: validation RMSE is 0.9666184396148128\n",
            "8 latent factors and regularization = 0.1: validation RMSE is 0.9920865073539613\n",
            "8 latent factors and regularization = 0.2: validation RMSE is 0.9762196027317813\n",
            "8 latent factors and regularization = 0.3: validation RMSE is 0.9694285884888453\n",
            "8 latent factors and regularization = 0.4: validation RMSE is 0.9665870970744967\n",
            "8 latent factors and regularization = 0.5: validation RMSE is 0.9662209963567394\n",
            "10 latent factors and regularization = 0.1: validation RMSE is 0.9896383498722694\n",
            "10 latent factors and regularization = 0.2: validation RMSE is 0.9734001631491634\n",
            "10 latent factors and regularization = 0.3: validation RMSE is 0.9669182269124796\n",
            "10 latent factors and regularization = 0.4: validation RMSE is 0.965431666470486\n",
            "10 latent factors and regularization = 0.5: validation RMSE is 0.9663312190835833\n",
            "\n",
            "The best model has 10 latent factors and regularization = 0.4\n",
            "Elapsed time: 1710.4796569347 seconds.\n"
          ],
          "name": "stdout"
        }
      ]
    },
    {
      "cell_type": "code",
      "metadata": {
        "id": "WL725Ti1fwBl",
        "colab_type": "code",
        "colab": {}
      },
      "source": [
        "def plot_learning_curve(train, test, reg, rank):\n",
        "    \"\"\"\n",
        "    Plot function to show learning curve of ALS\n",
        "    \"\"\"\n",
        "    arr_iters = [i for i in range(1,20,2)]\n",
        "    errors = []\n",
        "    for num_iters in arr_iters:\n",
        "      als = ALS(maxIter=num_iters, rank=rank, regParam=reg, userCol=\"customer_id\", itemCol=\"product_new_id\", ratingCol=\"new_star_rating\", coldStartStrategy=\"drop\", nonnegative=True)\n",
        "      model = als.fit(train)\n",
        "      predictions = model.transform(test)\n",
        "      predictions= predictions.withColumn(\"predict\", predictions.prediction + \n",
        "                                          predictions.promedio_general + \n",
        "                                          predictions.b_userbias_diff +\n",
        "                                          predictions.b_itembias_diff)\n",
        "      evaluator = RegressionEvaluator(metricName=\"rmse\", labelCol=\"star_rating\", predictionCol=\"predict\")\n",
        "      error = evaluator.evaluate(predictions)\n",
        "      errors.append(error)\n",
        "    \n",
        "    # plot\n",
        "    plt.figure(figsize=(12, 6))\n",
        "    plt.plot(arr_iters, errors)\n",
        "    plt.xlabel('number of iterations')\n",
        "    plt.ylabel('RMSE')\n",
        "    plt.title('ALS Learning Curve')\n",
        "    plt.grid(True)\n",
        "    plt.show()"
      ],
      "execution_count": 0,
      "outputs": []
    },
    {
      "cell_type": "code",
      "metadata": {
        "id": "lsn9xVqZXDYD",
        "colab_type": "code",
        "outputId": "1c97dd84-91d6-45dc-be1a-a072b5d748c1",
        "colab": {
          "base_uri": "https://localhost:8080/",
          "height": 404
        }
      },
      "source": [
        "plot_learning_curve(training, test, 0.5, 8)"
      ],
      "execution_count": 0,
      "outputs": [
        {
          "output_type": "display_data",
          "data": {
            "image/png": "[encoded data removed]",
            "text/plain": [
              "<Figure size 864x432 with 1 Axes>"
            ]
          },
          "metadata": {
            "tags": [],
            "needs_background": "light"
          }
        }
      ]
    },
    {
      "cell_type": "code",
      "metadata": {
        "id": "yLWGgqBqBOKn",
        "colab_type": "code",
        "colab": {}
      },
      "source": [
        "als = ALS(rank=6,maxIter=20, regParam=0.4, userCol=\"customer_id\", itemCol=\"product_new_id\", ratingCol=\"new_star_rating\",coldStartStrategy=\"drop\",nonnegative=False)\n",
        "model = als.fit(training)"
      ],
      "execution_count": 0,
      "outputs": []
    },
    {
      "cell_type": "code",
      "metadata": {
        "id": "dea1CTRWBON9",
        "colab_type": "code",
        "colab": {}
      },
      "source": [
        "predictions = model.transform(test)"
      ],
      "execution_count": 0,
      "outputs": []
    },
    {
      "cell_type": "code",
      "metadata": {
        "id": "-s9V4f_WBOQp",
        "colab_type": "code",
        "outputId": "30cbf208-fb4b-432e-ad00-5c661cd1df92",
        "colab": {
          "base_uri": "https://localhost:8080/",
          "height": 188
        }
      },
      "source": [
        "predictions.show(3)"
      ],
      "execution_count": 0,
      "outputs": [
        {
          "output_type": "stream",
          "text": [
            "+-----------+--------------+----------+--------------------+-----------+------------------+-----------------+-------------------+------------------+-------------------+-------------------+------------+\n",
            "|customer_id|product_new_id|product_id|       product_title|star_rating|  promedio_general|       b_userbias|    b_userbias_diff|        b_itembias|    b_itembias_diff|    new_star_rating|  prediction|\n",
            "+-----------+--------------+----------+--------------------+-----------+------------------+-----------------+-------------------+------------------+-------------------+-------------------+------------+\n",
            "|   42555634|           148|B0053YQ8E0|Alice: Madness Re...|          4|3.8531262248076406|              4.5| 0.6468737751923594|3.2755905511811023|-0.5775356736265382|0.07753567362653824|-0.005922136|\n",
            "|   15355503|           148|B0053YQ8E0|Alice: Madness Re...|          5|3.8531262248076406|              5.0| 1.1468737751923594|3.2755905511811023|-0.5775356736265382| 0.5775356736265382| -0.08819476|\n",
            "|   33598538|           148|B0053YQ8E0|Alice: Madness Re...|          2|3.8531262248076406|3.611111111111111|-0.2420151136965294|3.2755905511811023|-0.5775356736265382| -1.033575437484573|  0.13868316|\n",
            "+-----------+--------------+----------+--------------------+-----------+------------------+-----------------+-------------------+------------------+-------------------+-------------------+------------+\n",
            "only showing top 3 rows\n",
            "\n"
          ],
          "name": "stdout"
        }
      ]
    },
    {
      "cell_type": "code",
      "metadata": {
        "id": "Egck4MWgBOYk",
        "colab_type": "code",
        "colab": {}
      },
      "source": [
        "predictions= predictions.withColumn(\"predict\", predictions.prediction + \n",
        "                                               predictions.promedio_general + \n",
        "                                               predictions.b_userbias_diff +\n",
        "                                               predictions.b_itembias_diff)"
      ],
      "execution_count": 0,
      "outputs": []
    },
    {
      "cell_type": "code",
      "metadata": {
        "id": "ePi6TUw8BOTi",
        "colab_type": "code",
        "outputId": "74cd1889-4282-4be1-ba6a-bffb32512393",
        "colab": {
          "base_uri": "https://localhost:8080/",
          "height": 474
        }
      },
      "source": [
        "predictions.show()"
      ],
      "execution_count": 0,
      "outputs": [
        {
          "output_type": "stream",
          "text": [
            "+-----------+--------------+----------+--------------------+-----------+------------------+------------------+--------------------+------------------+-------------------+--------------------+-------------+------------------+\n",
            "|customer_id|product_new_id|product_id|       product_title|star_rating|  promedio_general|        b_userbias|     b_userbias_diff|        b_itembias|    b_itembias_diff|     new_star_rating|   prediction|           predict|\n",
            "+-----------+--------------+----------+--------------------+-----------+------------------+------------------+--------------------+------------------+-------------------+--------------------+-------------+------------------+\n",
            "|   42555634|           148|B0053YQ8E0|Alice: Madness Re...|          4|3.8531262248076406|               4.5|  0.6468737751923594|3.2755905511811023|-0.5775356736265382| 0.07753567362653824| -0.005922136| 3.916542190476481|\n",
            "|   15355503|           148|B0053YQ8E0|Alice: Madness Re...|          5|3.8531262248076406|               5.0|  1.1468737751923594|3.2755905511811023|-0.5775356736265382|  0.5775356736265382|  -0.08819476| 4.334269568673495|\n",
            "|   33598538|           148|B0053YQ8E0|Alice: Madness Re...|          2|3.8531262248076406| 3.611111111111111| -0.2420151136965294|3.2755905511811023|-0.5775356736265382|  -1.033575437484573|   0.13868316|3.1722585926635967|\n",
            "|   44957347|           148|B0053YQ8E0|Alice: Madness Re...|          4|3.8531262248076406|3.6153846153846154|-0.23774160942302514|3.2755905511811023|-0.5775356736265382|  0.9621510582419228| 0.0023332983| 3.040182240083616|\n",
            "|   13181439|           148|B0053YQ8E0|Alice: Madness Re...|          3|3.8531262248076406|               3.5|-0.35312622480764055|3.2755905511811023|-0.5775356736265382| 0.07753567362653824|  0.049157448|2.9716217744864264|\n",
            "|   41636996|           148|B0053YQ8E0|Alice: Madness Re...|          4|3.8531262248076406|               4.0| 0.14687377519235945|3.2755905511811023|-0.5775356736265382|  0.5775356736265382|    0.0938575| 3.516321823350314|\n",
            "|   10972526|           148|B0053YQ8E0|Alice: Madness Re...|          5|3.8531262248076406|2.6666666666666665|  -1.186459558140974|3.2755905511811023|-0.5775356736265382|  2.9108690069598717|    0.0859775| 2.175108495207353|\n",
            "|   39290950|           148|B0053YQ8E0|Alice: Madness Re...|          5|3.8531262248076406|               5.0|  1.1468737751923594|3.2755905511811023|-0.5775356736265382|  0.5775356736265382| -0.073677704| 4.348786622635249|\n",
            "|   48684250|           148|B0053YQ8E0|Alice: Madness Re...|          5|3.8531262248076406|               3.0| -0.8531262248076406|3.2755905511811023|-0.5775356736265382|  2.5775356736265382|    0.3075247|2.7299890372670927|\n",
            "|   33901114|           463|B0047T7UDU|          Darksiders|          1|3.8531262248076406|               1.0| -2.8531262248076406|4.0588235294117645|0.20569730460412394|-0.20569730460412394|-0.0016891173| 1.204008187318701|\n",
            "|   47464240|           463|B0047T7UDU|          Darksiders|          5|3.8531262248076406| 4.444444444444445|  0.5913182196368041|4.0588235294117645|0.20569730460412394|  0.3498582509514314| -0.012415014|4.6377267348412055|\n",
            "|   44085923|           463|B0047T7UDU|          Darksiders|          5|3.8531262248076406|               5.0|  1.1468737751923594|4.0588235294117645|0.20569730460412394|-0.20569730460412394|-0.0021411665|5.2035561381257285|\n",
            "|   10391790|           463|B0047T7UDU|          Darksiders|          3|3.8531262248076406|               3.5|-0.35312622480764055|4.0588235294117645|0.20569730460412394| -0.7056973046041239|-0.0010213595| 3.704675945139039|\n",
            "|   49300947|           463|B0047T7UDU|          Darksiders|          4|3.8531262248076406|               3.0| -0.8531262248076406|4.0588235294117645|0.20569730460412394|  0.7943026953958761| 0.0014221589| 3.207119463512223|\n",
            "|   49869906|           463|B0047T7UDU|          Darksiders|          5|3.8531262248076406|               4.5|  0.6468737751923594|4.0588235294117645|0.20569730460412394| 0.29430269539587606| 0.0067169247| 4.712414229323636|\n",
            "|   24596500|           463|B0047T7UDU|          Darksiders|          5|3.8531262248076406|               4.6|  0.7468737751923591|4.0588235294117645|0.20569730460412394|  0.1943026953958764| -9.221126E-4| 4.804775191994864|\n",
            "|   39804165|           463|B0047T7UDU|          Darksiders|          5|3.8531262248076406|               5.0|  1.1468737751923594|4.0588235294117645|0.20569730460412394|-0.20569730460412394|-0.0037836325|5.2019136720686365|\n",
            "|   53082728|           463|B0047T7UDU|          Darksiders|          2|3.8531262248076406| 2.272727272727273| -1.5803989520803676|4.0588235294117645|0.20569730460412394|-0.47842457733139687|-0.0035203863|2.4749041910378664|\n",
            "|   49872272|           496|B005WLRO4M|Football Manager ...|          4|3.8531262248076406|               4.0| 0.14687377519235945|             4.125|0.27187377519235945|-0.27187377519235945| 2.5702774E-4| 4.272130802935278|\n",
            "|   26643017|           496|B005WLRO4M|Football Manager ...|          5|3.8531262248076406|               5.0|  1.1468737751923594|             4.125|0.27187377519235945|-0.27187377519235945| 4.4674028E-4| 5.272320515468307|\n",
            "+-----------+--------------+----------+--------------------+-----------+------------------+------------------+--------------------+------------------+-------------------+--------------------+-------------+------------------+\n",
            "only showing top 20 rows\n",
            "\n"
          ],
          "name": "stdout"
        }
      ]
    },
    {
      "cell_type": "code",
      "metadata": {
        "id": "CJw8wvA0KlO5",
        "colab_type": "code",
        "outputId": "61308248-94f3-41a0-c9db-f7307e03b115",
        "colab": {
          "base_uri": "https://localhost:8080/",
          "height": 35
        }
      },
      "source": [
        "evaluator = RegressionEvaluator(metricName=\"rmse\", labelCol=\"star_rating\",\n",
        "                                predictionCol=\"predict\")\n",
        "rmse = evaluator.evaluate(predictions)\n",
        "print(\"Root-mean-square error = \" + str(rmse))"
      ],
      "execution_count": 0,
      "outputs": [
        {
          "output_type": "stream",
          "text": [
            "Root-mean-square error = 0.9883530231758593\n"
          ],
          "name": "stdout"
        }
      ]
    },
    {
      "cell_type": "markdown",
      "metadata": {
        "id": "NO1SoSBtEZGb",
        "colab_type": "text"
      },
      "source": [
        "# Recomendar Productos\n"
      ]
    },
    {
      "cell_type": "code",
      "metadata": {
        "id": "ag6rd9PFEdKN",
        "colab_type": "code",
        "colab": {}
      },
      "source": [
        "def recomendar_productos(model, all_prod, customer, num_recom=5):\n",
        "  user = ratings_df.where(ratings_df.customer_id == customer).select(\"customer_id\",\"product_new_id\", \"product_title\")\n",
        "  all_prod = all_prod.withColumn(\"customer_id\", lit(customer))\n",
        "  #se restan los productos de user al total de peliculas\n",
        "  productos = all_prod.select(\"customer_id\",\"product_new_id\", \"product_title\").subtract(user)\n",
        "  productos = productos.withColumn(\"customer_id\", productos.customer_id.cast(\"int\"))\n",
        "  recomendaciones = model.transform(productos)\n",
        "  user_bias = ratings_df.where(ratings_df.customer_id == customer).select(\"customer_id\",\"promedio_general\",\"b_userbias_diff\")\n",
        "  recomendaciones = recomendaciones.join(all_prod, on=['product_new_id','customer_id','product_title'], how='inner')\n",
        "  recomendaciones = recomendaciones.join(user_bias, on=['customer_id'], how='inner').distinct()\n",
        "  recomendaciones = recomendaciones.withColumn(\"predict\", recomendaciones.prediction + \n",
        "                                                recomendaciones.promedio_general + \n",
        "                                                recomendaciones.b_userbias_diff +\n",
        "                                                recomendaciones.b_itembias_diff)\n",
        "  recomendaciones.orderBy('predict', ascending=False).limit(num_recom).selectExpr(\"customer_id\", \"product_new_id\", \"product_title\", \"predict as score\").show()"
      ],
      "execution_count": 0,
      "outputs": []
    },
    {
      "cell_type": "code",
      "metadata": {
        "id": "a15WPVy_25Xo",
        "colab_type": "code",
        "colab": {}
      },
      "source": [
        "ratings_df.registerTempTable(\"temp3\")\n",
        "\n",
        "query = \"\"\"\n",
        "  select distinct product_new_id, product_title, b_itembias_diff\n",
        "  from temp3\n",
        "\"\"\"\n",
        "all_prod = spark.sql(query)\n",
        "#all_prod.show()"
      ],
      "execution_count": 0,
      "outputs": []
    },
    {
      "cell_type": "code",
      "metadata": {
        "id": "QTJfrXzJ3Qpt",
        "colab_type": "code",
        "outputId": "f0b83af6-cf7a-4713-8753-fb9aca03e2d2",
        "colab": {
          "base_uri": "https://localhost:8080/",
          "height": 35
        }
      },
      "source": [
        "from pyspark.sql.functions import lit, rand\n",
        "ratings_df.select('customer_id').orderBy(rand()).limit(3).collect()"
      ],
      "execution_count": 0,
      "outputs": [
        {
          "output_type": "execute_result",
          "data": {
            "text/plain": [
              "[Row(customer_id=2233524), Row(customer_id=3504766), Row(customer_id=1541737)]"
            ]
          },
          "metadata": {
            "tags": []
          },
          "execution_count": 50
        }
      ]
    },
    {
      "cell_type": "code",
      "metadata": {
        "id": "UDs0BUUtF2uk",
        "colab_type": "code",
        "outputId": "5e01d49e-855d-4866-931e-0ab96d284809",
        "colab": {
          "base_uri": "https://localhost:8080/",
          "height": 208
        }
      },
      "source": [
        "#recomendar_productos(model, all_prod, 36639795)\n",
        "recomendar_productos(model, all_prod,51023203, 6)"
      ],
      "execution_count": 0,
      "outputs": [
        {
          "output_type": "stream",
          "text": [
            "+-----------+--------------+--------------------+------------------+\n",
            "|customer_id|product_new_id|       product_title|             score|\n",
            "+-----------+--------------+--------------------+------------------+\n",
            "|   51023203|          6705|Funky Lab Rat [On...|5.4666571051560435|\n",
            "|   51023203|          7477|     Brain Challenge|5.4666571051560435|\n",
            "|   51023203|          3723|Guilty Gear Xrd SIGN| 5.441901150413612|\n",
            "|   51023203|          1564|PixelJunk Monster...| 5.430506709285835|\n",
            "|   51023203|          7068|Aqua Slider [Down...| 5.411696735092262|\n",
            "|   51023203|          6679|  Ninja Gaiden Sigma| 5.390872719951728|\n",
            "+-----------+--------------+--------------------+------------------+\n",
            "\n"
          ],
          "name": "stdout"
        }
      ]
    },
    {
      "cell_type": "code",
      "metadata": {
        "id": "erZKbl5VVb4G",
        "colab_type": "code",
        "outputId": "996bd3df-9b90-40bf-afde-8ac14701b86e",
        "colab": {
          "base_uri": "https://localhost:8080/",
          "height": 87
        }
      },
      "source": [
        "prueba = ratings_df.where(\"customer_id = '51023203'\").select(\"customer_id\", \"product_title\")\n",
        "prueba.take(5)"
      ],
      "execution_count": 0,
      "outputs": [
        {
          "output_type": "execute_result",
          "data": {
            "text/plain": [
              "[Row(customer_id=51023203, product_title='House of 1000 Doors: Family Secrets  [Download]'),\n",
              " Row(customer_id=51023203, product_title='Deadtime Stories [Download]'),\n",
              " Row(customer_id=51023203, product_title='Stray Souls: A Dollhouse Story'),\n",
              " Row(customer_id=51023203, product_title='Dark Strokes: Sins of the Fathers [Download]')]"
            ]
          },
          "metadata": {
            "tags": []
          },
          "execution_count": 54
        }
      ]
    },
    {
      "cell_type": "code",
      "metadata": {
        "id": "ddarqUG5cyCv",
        "colab_type": "code",
        "colab": {}
      },
      "source": [
        "userRecs = model.recommendForAllUsers(5)"
      ],
      "execution_count": 0,
      "outputs": []
    },
    {
      "cell_type": "code",
      "metadata": {
        "id": "NqznGaMvoIXL",
        "colab_type": "code",
        "outputId": "a652657f-1db1-4212-c0a2-13f3de850db7",
        "colab": {
          "base_uri": "https://localhost:8080/",
          "height": 55
        }
      },
      "source": [
        "userRecs.where(userRecs.customer_id == 51023203).select(\"recommendations.product_new_id\", \"recommendations.rating\").collect()"
      ],
      "execution_count": 0,
      "outputs": [
        {
          "output_type": "execute_result",
          "data": {
            "text/plain": [
              "[Row(product_new_id=[7662, 7646, 7916, 6108, 5805], rating=[1.0552566051483154, 0.9816248416900635, 0.9668778777122498, 0.9590467214584351, 0.9433183670043945])]"
            ]
          },
          "metadata": {
            "tags": []
          },
          "execution_count": 56
        }
      ]
    },
    {
      "cell_type": "code",
      "metadata": {
        "id": "OR3Fq7oIfIjG",
        "colab_type": "code",
        "outputId": "8d39a5ab-c915-4540-cb9b-19c6c5f71b0f",
        "colab": {
          "base_uri": "https://localhost:8080/",
          "height": 124
        }
      },
      "source": [
        "model.userFactors.take(5)"
      ],
      "execution_count": 0,
      "outputs": [
        {
          "output_type": "execute_result",
          "data": {
            "text/plain": [
              "[Row(id=17430, features=[0.35106971859931946, 0.3475860059261322, -0.3050728142261505, 0.15349215269088745, 0.11864205449819565, 0.31198740005493164]),\n",
              " Row(id=17770, features=[-0.012199938297271729, -0.11880367249250412, -0.3246251940727234, 0.04358077794313431, 0.31041109561920166, 0.2017040103673935]),\n",
              " Row(id=19490, features=[-0.0352829173207283, 0.12679733335971832, -0.15123391151428223, 0.04052908346056938, -0.0004954946343787014, 0.5383789539337158]),\n",
              " Row(id=22640, features=[0.35106971859931946, 0.3475860059261322, -0.3050728142261505, 0.15349215269088745, 0.11864205449819565, 0.31198740005493164]),\n",
              " Row(id=24660, features=[0.0171201229095459, 0.038699470460414886, -0.07573655247688293, 0.30629369616508484, 0.04506499320268631, 0.18497122824192047])]"
            ]
          },
          "metadata": {
            "tags": []
          },
          "execution_count": 60
        }
      ]
    }
  ]
}